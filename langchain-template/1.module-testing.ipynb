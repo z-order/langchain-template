{
 "cells": [
  {
   "cell_type": "code",
   "execution_count": 1,
   "id": "03a6e79b",
   "metadata": {},
   "outputs": [
    {
     "data": {
      "image/png": "[encoded data removed]",
      "text/plain": [
       "<IPython.core.display.Image object>"
      ]
     },
     "metadata": {},
     "output_type": "display_data"
    }
   ],
   "source": [
    "from IPython.display import Image, display\n",
    "from modules.task_maistro import task_maistro\n",
    "from modules.core_instance import get_instance\n",
    "\n",
    "graph = get_instance(\"task_maistro\").graph\n",
    "model = get_instance(\"task_maistro\").model\n",
    "\n",
    "# Show\n",
    "display(Image(graph.get_graph(xray=True).draw_mermaid_png()))"
   ]
  },
  {
   "cell_type": "code",
   "execution_count": 30,
   "id": "99f1ef76",
   "metadata": {},
   "outputs": [],
   "source": [
    "from pprint import pprint\n",
    "from langgraph_sdk import get_client\n",
    "\n",
    "# Connect via SDK\n",
    "url_for_cli_deployment = \"http://localhost:8123\"\n",
    "client = get_client(url=url_for_cli_deployment)"
   ]
  },
  {
   "cell_type": "code",
   "execution_count": 31,
   "id": "4a3e53fe",
   "metadata": {},
   "outputs": [
    {
     "data": {
      "text/plain": [
       "{'thread_id': '3c01d8a4-15e2-4afe-bf5c-b7f32c8d74de',\n",
       " 'created_at': '2025-07-10T03:21:44.070840+00:00',\n",
       " 'updated_at': '2025-07-10T03:21:44.070841+00:00',\n",
       " 'metadata': {},\n",
       " 'status': 'idle',\n",
       " 'config': {},\n",
       " 'values': None}"
      ]
     },
     "execution_count": 31,
     "metadata": {},
     "output_type": "execute_result"
    }
   ],
   "source": [
    "# Create a thread\n",
    "thread = await client.threads.create()\n",
    "thread"
   ]
  },
  {
   "cell_type": "code",
   "execution_count": 32,
   "id": "68dc5fcd",
   "metadata": {},
   "outputs": [
    {
     "name": "stdout",
     "output_type": "stream",
     "text": [
      "================================\u001b[1m Human Message \u001b[0m=================================\n",
      "\n",
      "Add a ToDo to finish booking travel to Hong Kong by end of next week. Also, add a ToDo to call parents back about Thanksgiving plans.\n",
      "\n",
      "\n",
      "==================================\u001b[1m Ai Message \u001b[0m==================================\n",
      "Tool Calls:\n",
      "  UpdateMemory (call_cfkkcxL4o1imrAW7bAIVR1zs)\n",
      " Call ID: call_cfkkcxL4o1imrAW7bAIVR1zs\n",
      "  Args:\n",
      "    update_type: todo\n",
      "\n",
      "\n",
      "=================================\u001b[1m Tool Message \u001b[0m=================================\n",
      "\n",
      "New ToDo created:\n",
      "Content: {'task': 'Finish booking travel to Hong Kong', 'time_to_complete': 120, 'deadline': '2025-07-18T23:59:59', 'solutions': ['Check flight prices on Skyscanner', 'Book hotel through Booking.com', 'Arrange airport transfer'], 'status': 'not started'}\n",
      "\n",
      "\n",
      "==================================\u001b[1m Ai Message \u001b[0m==================================\n",
      "Tool Calls:\n",
      "  UpdateMemory (call_aFKGbVknGTFUKACF8KZP2JWv)\n",
      " Call ID: call_aFKGbVknGTFUKACF8KZP2JWv\n",
      "  Args:\n",
      "    update_type: todo\n",
      "\n",
      "\n",
      "=================================\u001b[1m Tool Message \u001b[0m=================================\n",
      "\n",
      "New ToDo created:\n",
      "Content: {'task': 'Call parents back about Thanksgiving plans', 'time_to_complete': 15, 'deadline': None, 'solutions': [\"Check parents' availability\", 'Discuss travel arrangements', 'Confirm plans'], 'status': 'not started'}\n",
      "\n",
      "\n",
      "==================================\u001b[1m Ai Message \u001b[0m==================================\n",
      "\n",
      "I've added the tasks to your ToDo list:\n",
      "1. Finish booking travel to Hong Kong by the end of next week.\n",
      "2. Call your parents back about Thanksgiving plans.\n",
      "\n",
      "\n"
     ]
    }
   ],
   "source": [
    "from langchain_core.messages import HumanMessage\n",
    "from langchain_core.messages import convert_to_messages\n",
    "from langgraph_sdk.schema import Config\n",
    "\n",
    "# Ensure we've created some ToDos and saved them to my user_id\n",
    "user_input = \"Add a ToDo to finish booking travel to Hong Kong by end of next week. Also, add a ToDo to call parents back about Thanksgiving plans.\"\n",
    "config: Config = {\"configurable\": {\"user_id\": \"Test\"}}\n",
    "graph_name = \"task_maistro\" \n",
    "\n",
    "# Run the graph from the new checkpoint in the thread\n",
    "async for chunk in client.runs.stream(thread[\"thread_id\"], \n",
    "                                      graph_name, \n",
    "                                      input={\"messages\": [HumanMessage(content=user_input)]},\n",
    "                                      config=config,\n",
    "                                      stream_mode=\"values\"):\n",
    "\n",
    "    if chunk.event == \"values\":\n",
    "        for m in convert_to_messages([chunk.data['messages'][-1]]):\n",
    "            m.pretty_print() \n",
    "            print('\\n')"
   ]
  }
 ],
 "metadata": {
  "kernelspec": {
   "display_name": "Python 3 (ipykernel)",
   "language": "python",
   "name": "python3"
  },
  "language_info": {
   "codemirror_mode": {
    "name": "ipython",
    "version": 3
   },
   "file_extension": ".py",
   "mimetype": "text/x-python",
   "name": "python",
   "nbconvert_exporter": "python",
   "pygments_lexer": "ipython3",
   "version": "3.11.12"
  }
 },
 "nbformat": 4,
 "nbformat_minor": 5
}
