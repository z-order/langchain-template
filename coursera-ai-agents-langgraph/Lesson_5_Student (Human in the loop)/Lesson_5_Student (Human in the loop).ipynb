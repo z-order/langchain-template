{
 "cells": [
  {
   "cell_type": "markdown",
   "id": "8ad976db-fb87-4a92-b0d2-06defc098339",
   "metadata": {},
   "source": [
    "# Lesson 5: Human in the Loop"
   ]
  },
  {
   "cell_type": "markdown",
   "id": "91d756c3-9c97-4155-9b56-8ecfed5f1876",
   "metadata": {},
   "source": [
    "Note: This notebook is running in a later version of langgraph that it was filmed with. The later version has a couple of key additions:\n",
    "- Additional state information is stored to memory and displayed when using `get_state()` or `get_state_history()`.\n",
    "- State is additionally stored every state transition while previously it was stored at an interrupt or at the end.\n",
    "These change the command output slightly, but are a useful addtion to the information available."
   ]
  },
  {
   "cell_type": "code",
   "execution_count": 1,
   "id": "f5762271-8736-4e94-9444-8c92bd0e8074",
   "metadata": {
    "height": 64
   },
   "outputs": [],
   "source": [
    "from dotenv import load_dotenv\n",
    "\n",
    "_ = load_dotenv()"
   ]
  },
  {
   "cell_type": "code",
   "execution_count": 2,
   "id": "d0168aee-bce9-4d60-b827-f86a88187e31",
   "metadata": {
    "height": 166
   },
   "outputs": [],
   "source": [
    "from langgraph.graph import StateGraph, END\n",
    "from typing import TypedDict, Annotated\n",
    "import operator\n",
    "from langchain_core.messages import AnyMessage, SystemMessage, HumanMessage, ToolMessage\n",
    "from langchain_openai import ChatOpenAI\n",
    "from langchain_community.tools.tavily_search import TavilySearchResults\n",
    "from langgraph.checkpoint.sqlite import SqliteSaver\n",
    "\n",
    "memory = SqliteSaver.from_conn_string(\":memory:\")"
   ]
  },
  {
   "cell_type": "code",
   "execution_count": 3,
   "id": "2589c5b6-6cc2-4594-9a17-dccdcf676054",
   "metadata": {
    "height": 557
   },
   "outputs": [],
   "source": [
    "from uuid import uuid4\n",
    "from langchain_core.messages import AnyMessage, SystemMessage, HumanMessage, AIMessage\n",
    "\n",
    "\"\"\"\n",
    "In previous examples we've annotated the `messages` state key\n",
    "with the default `operator.add` or `+` reducer, which always\n",
    "appends new messages to the end of the existing messages array.\n",
    "\n",
    "Now, to support replacing existing messages, we annotate the\n",
    "`messages` key with a customer reducer function, which replaces\n",
    "messages with the same `id`, and appends them otherwise.\n",
    "\"\"\"\n",
    "def reduce_messages(left: list[AnyMessage], right: list[AnyMessage]) -> list[AnyMessage]:\n",
    "    # assign ids to messages that don't have them\n",
    "    for message in right:\n",
    "        if not message.id:\n",
    "            message.id = str(uuid4())\n",
    "    # merge the new messages with the existing messages\n",
    "    merged = left.copy()\n",
    "    for message in right:\n",
    "        for i, existing in enumerate(merged):\n",
    "            # replace any existing messages with the same id\n",
    "            if existing.id == message.id:\n",
    "                merged[i] = message\n",
    "                break\n",
    "        else:\n",
    "            # append any new messages to the end\n",
    "            merged.append(message)\n",
    "    return merged\n",
    "\n",
    "class AgentState(TypedDict):\n",
    "    messages: Annotated[list[AnyMessage], reduce_messages]"
   ]
  },
  {
   "cell_type": "code",
   "execution_count": 4,
   "id": "a2ba84ec-c172-4de7-ac55-e3158a531b23",
   "metadata": {
    "height": 30
   },
   "outputs": [],
   "source": [
    "tool = TavilySearchResults(max_results=2)"
   ]
  },
  {
   "cell_type": "markdown",
   "id": "d58320dc-c542-4a3c-bcf1-088909f9b075",
   "metadata": {},
   "source": [
    "## Manual human approval"
   ]
  },
  {
   "cell_type": "code",
   "execution_count": 5,
   "id": "46a0e94e-d015-4106-b439-dbcd2fcb8bb0",
   "metadata": {
    "height": 642
   },
   "outputs": [],
   "source": [
    "class Agent:\n",
    "    def __init__(self, model, tools, system=\"\", checkpointer=None):\n",
    "        self.system = system\n",
    "        graph = StateGraph(AgentState)\n",
    "        graph.add_node(\"llm\", self.call_openai)\n",
    "        graph.add_node(\"action\", self.take_action)\n",
    "        graph.add_conditional_edges(\"llm\", self.exists_action, {True: \"action\", False: END})\n",
    "        graph.add_edge(\"action\", \"llm\")\n",
    "        graph.set_entry_point(\"llm\")\n",
    "        self.graph = graph.compile(\n",
    "            checkpointer=checkpointer,\n",
    "            interrupt_before=[\"action\"]\n",
    "        )\n",
    "        self.tools = {t.name: t for t in tools}\n",
    "        self.model = model.bind_tools(tools)\n",
    "\n",
    "    def call_openai(self, state: AgentState):\n",
    "        messages = state['messages']\n",
    "        if self.system:\n",
    "            messages = [SystemMessage(content=self.system)] + messages\n",
    "        message = self.model.invoke(messages)\n",
    "        return {'messages': [message]}\n",
    "\n",
    "    def exists_action(self, state: AgentState):\n",
    "        print(state)\n",
    "        result = state['messages'][-1]\n",
    "        return len(result.tool_calls) > 0\n",
    "\n",
    "    def take_action(self, state: AgentState):\n",
    "        tool_calls = state['messages'][-1].tool_calls\n",
    "        results = []\n",
    "        for t in tool_calls:\n",
    "            print(f\"Calling: {t}\")\n",
    "            result = self.tools[t['name']].invoke(t['args'])\n",
    "            results.append(ToolMessage(tool_call_id=t['id'], name=t['name'], content=str(result)))\n",
    "        print(\"Back to the model!\")\n",
    "        return {'messages': results}"
   ]
  },
  {
   "cell_type": "code",
   "execution_count": 6,
   "id": "10084a02-2928-4945-9f7c-ad3f5b33caf7",
   "metadata": {
    "height": 132
   },
   "outputs": [],
   "source": [
    "prompt = \"\"\"You are a smart research assistant. Use the search engine to look up information. \\\n",
    "You are allowed to make multiple calls (either together or in sequence). \\\n",
    "Only look up information when you are sure of what you want. \\\n",
    "If you need to look up some information before asking a follow up question, you are allowed to do that!\n",
    "\"\"\"\n",
    "model = ChatOpenAI(model=\"gpt-3.5-turbo\")\n",
    "abot = Agent(model, [tool], system=prompt, checkpointer=memory)"
   ]
  },
  {
   "cell_type": "code",
   "execution_count": 7,
   "id": "714d1205-f8fc-4912-b148-2a45da99219c",
   "metadata": {
    "height": 98
   },
   "outputs": [
    {
     "name": "stdout",
     "output_type": "stream",
     "text": [
      "{'messages': [HumanMessage(content='Whats the weather in SF?', id='59907c0d-978b-4c75-9598-0e99304ade9b'), AIMessage(content='', additional_kwargs={'tool_calls': [{'id': 'call_weGeB0tXiFDgq2zaQnJnDlWK', 'function': {'arguments': '{\"query\":\"weather in San Francisco\"}', 'name': 'tavily_search_results_json'}, 'type': 'function'}]}, response_metadata={'token_usage': {'completion_tokens': 21, 'prompt_tokens': 152, 'total_tokens': 173, 'prompt_tokens_details': {'cached_tokens': 0, 'audio_tokens': 0}, 'completion_tokens_details': {'reasoning_tokens': 0, 'audio_tokens': 0, 'accepted_prediction_tokens': 0, 'rejected_prediction_tokens': 0}}, 'model_name': 'gpt-3.5-turbo', 'system_fingerprint': None, 'finish_reason': 'tool_calls', 'logprobs': None}, id='run-8fe8c873-fb60-4209-8122-050c13088e3a-0', tool_calls=[{'name': 'tavily_search_results_json', 'args': {'query': 'weather in San Francisco'}, 'id': 'call_weGeB0tXiFDgq2zaQnJnDlWK'}])]}\n",
      "{'messages': [AIMessage(content='', additional_kwargs={'tool_calls': [{'id': 'call_weGeB0tXiFDgq2zaQnJnDlWK', 'function': {'arguments': '{\"query\":\"weather in San Francisco\"}', 'name': 'tavily_search_results_json'}, 'type': 'function'}]}, response_metadata={'token_usage': {'completion_tokens': 21, 'prompt_tokens': 152, 'total_tokens': 173, 'prompt_tokens_details': {'cached_tokens': 0, 'audio_tokens': 0}, 'completion_tokens_details': {'reasoning_tokens': 0, 'audio_tokens': 0, 'accepted_prediction_tokens': 0, 'rejected_prediction_tokens': 0}}, 'model_name': 'gpt-3.5-turbo', 'system_fingerprint': None, 'finish_reason': 'tool_calls', 'logprobs': None}, id='run-8fe8c873-fb60-4209-8122-050c13088e3a-0', tool_calls=[{'name': 'tavily_search_results_json', 'args': {'query': 'weather in San Francisco'}, 'id': 'call_weGeB0tXiFDgq2zaQnJnDlWK'}])]}\n"
     ]
    }
   ],
   "source": [
    "messages = [HumanMessage(content=\"Whats the weather in SF?\")]\n",
    "thread = {\"configurable\": {\"thread_id\": \"1\"}}\n",
    "for event in abot.graph.stream({\"messages\": messages}, thread):\n",
    "    for v in event.values():\n",
    "        print(v)"
   ]
  },
  {
   "cell_type": "code",
   "execution_count": 8,
   "id": "83588e70-254f-4f83-a510-c8ae81e729b0",
   "metadata": {
    "height": 30
   },
   "outputs": [
    {
     "data": {
      "text/plain": [
       "StateSnapshot(values={'messages': [HumanMessage(content='Whats the weather in SF?', id='59907c0d-978b-4c75-9598-0e99304ade9b'), AIMessage(content='', additional_kwargs={'tool_calls': [{'function': {'arguments': '{\"query\":\"weather in San Francisco\"}', 'name': 'tavily_search_results_json'}, 'id': 'call_weGeB0tXiFDgq2zaQnJnDlWK', 'type': 'function'}]}, response_metadata={'finish_reason': 'tool_calls', 'logprobs': None, 'model_name': 'gpt-3.5-turbo', 'system_fingerprint': None, 'token_usage': {'completion_tokens': 21, 'completion_tokens_details': {'accepted_prediction_tokens': 0, 'audio_tokens': 0, 'reasoning_tokens': 0, 'rejected_prediction_tokens': 0}, 'prompt_tokens': 152, 'prompt_tokens_details': {'audio_tokens': 0, 'cached_tokens': 0}, 'total_tokens': 173}}, id='run-8fe8c873-fb60-4209-8122-050c13088e3a-0', tool_calls=[{'name': 'tavily_search_results_json', 'args': {'query': 'weather in San Francisco'}, 'id': 'call_weGeB0tXiFDgq2zaQnJnDlWK'}])]}, next=('action',), config={'configurable': {'thread_id': '1', 'thread_ts': '1f053395-3c13-662c-8001-9e0044b56b9b'}}, metadata={'source': 'loop', 'step': 1, 'writes': {'llm': {'messages': [AIMessage(content='', additional_kwargs={'tool_calls': [{'function': {'arguments': '{\"query\":\"weather in San Francisco\"}', 'name': 'tavily_search_results_json'}, 'id': 'call_weGeB0tXiFDgq2zaQnJnDlWK', 'type': 'function'}]}, response_metadata={'finish_reason': 'tool_calls', 'logprobs': None, 'model_name': 'gpt-3.5-turbo', 'system_fingerprint': None, 'token_usage': {'completion_tokens': 21, 'completion_tokens_details': {'accepted_prediction_tokens': 0, 'audio_tokens': 0, 'reasoning_tokens': 0, 'rejected_prediction_tokens': 0}, 'prompt_tokens': 152, 'prompt_tokens_details': {'audio_tokens': 0, 'cached_tokens': 0}, 'total_tokens': 173}}, id='run-8fe8c873-fb60-4209-8122-050c13088e3a-0', tool_calls=[{'name': 'tavily_search_results_json', 'args': {'query': 'weather in San Francisco'}, 'id': 'call_weGeB0tXiFDgq2zaQnJnDlWK'}])]}}}, created_at='2025-06-27T09:30:13.189784+00:00', parent_config={'configurable': {'thread_id': '1', 'thread_ts': '1f053395-364e-6174-8000-d90ee37ea568'}})"
      ]
     },
     "execution_count": 8,
     "metadata": {},
     "output_type": "execute_result"
    }
   ],
   "source": [
    "abot.graph.get_state(thread)"
   ]
  },
  {
   "cell_type": "code",
   "execution_count": 9,
   "id": "6cb3ef4c-58b3-401b-b104-0d51e553d982",
   "metadata": {
    "height": 30
   },
   "outputs": [
    {
     "data": {
      "text/plain": [
       "('action',)"
      ]
     },
     "execution_count": 9,
     "metadata": {},
     "output_type": "execute_result"
    }
   ],
   "source": [
    "abot.graph.get_state(thread).next"
   ]
  },
  {
   "cell_type": "markdown",
   "id": "f1f404d5-a3be-42c1-9990-b1e1ee011163",
   "metadata": {},
   "source": [
    "### continue after interrupt"
   ]
  },
  {
   "cell_type": "code",
   "execution_count": 10,
   "id": "dc3293b7-a50c-43c8-a022-8975e1e444b8",
   "metadata": {
    "height": 64
   },
   "outputs": [
    {
     "name": "stdout",
     "output_type": "stream",
     "text": [
      "Calling: {'name': 'tavily_search_results_json', 'args': {'query': 'weather in San Francisco'}, 'id': 'call_weGeB0tXiFDgq2zaQnJnDlWK'}\n",
      "Back to the model!\n",
      "{'messages': [ToolMessage(content='[{\\'url\\': \\'https://weathershogun.com/weather/usa/ca/san-francisco/480/june/2025-06-27\\', \\'content\\': \"Friday, June 27, 2025. San Francisco, CA - Weather Forecast \\\\n\\\\n===============\\\\n\\\\n☰\\\\n\\\\nSan Francisco, CA\\\\n\\\\nImage 1: WeatherShogun.com\\\\n\\\\nHomeContactBrowse StatesPrivacy PolicyTerms and Conditions\\\\n\\\\n°F)°C)\\\\n\\\\n❮\\\\n\\\\nTodayTomorrowHourly7 days30 daysJune\\\\n\\\\n❯\\\\n\\\\nSan Francisco, California Weather: \\\\n\\\\nFriday, June 27, 2025\\\\n\\\\nDay 68°\\\\n\\\\nNight 54°\\\\n\\\\nPrecipitation 0 %\\\\n\\\\nWind 11 mph\\\\n\\\\nUV Index (0 - 11+)11\\\\n\\\\nSaturday\\\\n\\\\n   Hourly\\\\n   Today\\\\n   Tomorrow\\\\n   7 days\\\\n   30 days\\\\n\\\\nWeather Forecast History\\\\n------------------------ [...] Last Year\\'s Weather on This Day (June 27, 2024)\\\\n\\\\n### Day\\\\n\\\\n64°\\\\n\\\\n### Night\\\\n\\\\n52°\\\\n\\\\nPlease note that while we strive for accuracy, the information provided may not always be correct. Use at your own risk.\\\\n\\\\n© Copyright by WeatherShogun.com\"}, {\\'url\\': \\'https://www.easeweather.com/north-america/united-states/california/city-and-county-of-san-francisco/san-francisco/june\\', \\'content\\': \\'| Jun. 23 | Image 64: Partly cloudy Partly cloudy | 55°/50° | 0 in | 2.2 |  |\\\\n| Jun. 24 | Image 65: Cloudy Cloudy | 53°/50° | 0 in | 2.2 |  |\\\\n| Jun. 25 | Image 66: Mist Mist | 55°/50° | 0 in | 2.5 |  |\\\\n| Jun. 26 | Image 67: Cloudy Cloudy | 62°/51° | 0 in | 2.6 |  |\\\\n| Jun. 27 | Image 68: Sunny Sunny | 64°/51° | 0 in | 0 |  |\\\\n| Jun. 28 | Image 69: Sunny Sunny | 64°/53° | 0 in | 4 |  |\\\\n| Jun. 29 | Image 70: Partly cloudy Partly cloudy | 62°/53° | 0 in | 4 |  | [...] Weather in San Francisco, California for June 2025\\\\n==================================================\\\\n\\\\nYour guide to San Francisco weather in June - trends and predictions\\\\n\\\\n### Official Weather Alert ⚠️\\\\n\\\\n   Coastal Flood Advisory - See hour by hour.\\\\n\\\\n### Temperatures\\\\n\\\\n   Until now, June 2025 in San Francisco has been significantly cooler than historical averages by -9.7°F, with average temperature of 55°F. [...] | 15 Image 24: Sunny 68° | 16 Image 25: Sunny 68° | 17 Image 26: Sunny 68° | 18 Image 27: Sunny 68° | 19 Image 28: Sunny 64° | 20 Image 29: Sunny 66° | 21 Image 30: Sunny 69° |\\\\n| 22 Image 31: Partly cloudy 68° | 23 Image 32: Weather AlertImage 33: Partly cloudy 55° | 24 Image 34: Weather AlertImage 35: Cloudy 53° | 25 Image 36: Mist 55° | 26 Image 37: Cloudy 62° | 27 Image 38: Sunny 64° | 28 Image 39: Sunny 64° |\\\\n| 29 Image 40: Partly cloudy 62° | 30 Image 41: Partly cloudy 64° |  |  |  |  |  |\\'}]', name='tavily_search_results_json', id='546be23f-e440-4dd7-9774-eafbd0739337', tool_call_id='call_weGeB0tXiFDgq2zaQnJnDlWK')]}\n",
      "{'messages': [HumanMessage(content='Whats the weather in SF?', id='59907c0d-978b-4c75-9598-0e99304ade9b'), AIMessage(content='', additional_kwargs={'tool_calls': [{'function': {'arguments': '{\"query\":\"weather in San Francisco\"}', 'name': 'tavily_search_results_json'}, 'id': 'call_weGeB0tXiFDgq2zaQnJnDlWK', 'type': 'function'}]}, response_metadata={'finish_reason': 'tool_calls', 'logprobs': None, 'model_name': 'gpt-3.5-turbo', 'system_fingerprint': None, 'token_usage': {'completion_tokens': 21, 'completion_tokens_details': {'accepted_prediction_tokens': 0, 'audio_tokens': 0, 'reasoning_tokens': 0, 'rejected_prediction_tokens': 0}, 'prompt_tokens': 152, 'prompt_tokens_details': {'audio_tokens': 0, 'cached_tokens': 0}, 'total_tokens': 173}}, id='run-8fe8c873-fb60-4209-8122-050c13088e3a-0', tool_calls=[{'name': 'tavily_search_results_json', 'args': {'query': 'weather in San Francisco'}, 'id': 'call_weGeB0tXiFDgq2zaQnJnDlWK'}]), ToolMessage(content='[{\\'url\\': \\'https://weathershogun.com/weather/usa/ca/san-francisco/480/june/2025-06-27\\', \\'content\\': \"Friday, June 27, 2025. San Francisco, CA - Weather Forecast \\\\n\\\\n===============\\\\n\\\\n☰\\\\n\\\\nSan Francisco, CA\\\\n\\\\nImage 1: WeatherShogun.com\\\\n\\\\nHomeContactBrowse StatesPrivacy PolicyTerms and Conditions\\\\n\\\\n°F)°C)\\\\n\\\\n❮\\\\n\\\\nTodayTomorrowHourly7 days30 daysJune\\\\n\\\\n❯\\\\n\\\\nSan Francisco, California Weather: \\\\n\\\\nFriday, June 27, 2025\\\\n\\\\nDay 68°\\\\n\\\\nNight 54°\\\\n\\\\nPrecipitation 0 %\\\\n\\\\nWind 11 mph\\\\n\\\\nUV Index (0 - 11+)11\\\\n\\\\nSaturday\\\\n\\\\n   Hourly\\\\n   Today\\\\n   Tomorrow\\\\n   7 days\\\\n   30 days\\\\n\\\\nWeather Forecast History\\\\n------------------------ [...] Last Year\\'s Weather on This Day (June 27, 2024)\\\\n\\\\n### Day\\\\n\\\\n64°\\\\n\\\\n### Night\\\\n\\\\n52°\\\\n\\\\nPlease note that while we strive for accuracy, the information provided may not always be correct. Use at your own risk.\\\\n\\\\n© Copyright by WeatherShogun.com\"}, {\\'url\\': \\'https://www.easeweather.com/north-america/united-states/california/city-and-county-of-san-francisco/san-francisco/june\\', \\'content\\': \\'| Jun. 23 | Image 64: Partly cloudy Partly cloudy | 55°/50° | 0 in | 2.2 |  |\\\\n| Jun. 24 | Image 65: Cloudy Cloudy | 53°/50° | 0 in | 2.2 |  |\\\\n| Jun. 25 | Image 66: Mist Mist | 55°/50° | 0 in | 2.5 |  |\\\\n| Jun. 26 | Image 67: Cloudy Cloudy | 62°/51° | 0 in | 2.6 |  |\\\\n| Jun. 27 | Image 68: Sunny Sunny | 64°/51° | 0 in | 0 |  |\\\\n| Jun. 28 | Image 69: Sunny Sunny | 64°/53° | 0 in | 4 |  |\\\\n| Jun. 29 | Image 70: Partly cloudy Partly cloudy | 62°/53° | 0 in | 4 |  | [...] Weather in San Francisco, California for June 2025\\\\n==================================================\\\\n\\\\nYour guide to San Francisco weather in June - trends and predictions\\\\n\\\\n### Official Weather Alert ⚠️\\\\n\\\\n   Coastal Flood Advisory - See hour by hour.\\\\n\\\\n### Temperatures\\\\n\\\\n   Until now, June 2025 in San Francisco has been significantly cooler than historical averages by -9.7°F, with average temperature of 55°F. [...] | 15 Image 24: Sunny 68° | 16 Image 25: Sunny 68° | 17 Image 26: Sunny 68° | 18 Image 27: Sunny 68° | 19 Image 28: Sunny 64° | 20 Image 29: Sunny 66° | 21 Image 30: Sunny 69° |\\\\n| 22 Image 31: Partly cloudy 68° | 23 Image 32: Weather AlertImage 33: Partly cloudy 55° | 24 Image 34: Weather AlertImage 35: Cloudy 53° | 25 Image 36: Mist 55° | 26 Image 37: Cloudy 62° | 27 Image 38: Sunny 64° | 28 Image 39: Sunny 64° |\\\\n| 29 Image 40: Partly cloudy 62° | 30 Image 41: Partly cloudy 64° |  |  |  |  |  |\\'}]', name='tavily_search_results_json', id='546be23f-e440-4dd7-9774-eafbd0739337', tool_call_id='call_weGeB0tXiFDgq2zaQnJnDlWK'), AIMessage(content='The weather in San Francisco today is 68°F during the day and 54°F at night with 0% precipitation and a wind speed of 11 mph. The UV Index is 11.', response_metadata={'token_usage': {'completion_tokens': 41, 'prompt_tokens': 1050, 'total_tokens': 1091, 'prompt_tokens_details': {'cached_tokens': 0, 'audio_tokens': 0}, 'completion_tokens_details': {'reasoning_tokens': 0, 'audio_tokens': 0, 'accepted_prediction_tokens': 0, 'rejected_prediction_tokens': 0}}, 'model_name': 'gpt-3.5-turbo', 'system_fingerprint': None, 'finish_reason': 'stop', 'logprobs': None}, id='run-7a6951a7-548a-4148-9884-91f1185b752e-0')]}\n",
      "{'messages': [AIMessage(content='The weather in San Francisco today is 68°F during the day and 54°F at night with 0% precipitation and a wind speed of 11 mph. The UV Index is 11.', response_metadata={'token_usage': {'completion_tokens': 41, 'prompt_tokens': 1050, 'total_tokens': 1091, 'prompt_tokens_details': {'cached_tokens': 0, 'audio_tokens': 0}, 'completion_tokens_details': {'reasoning_tokens': 0, 'audio_tokens': 0, 'accepted_prediction_tokens': 0, 'rejected_prediction_tokens': 0}}, 'model_name': 'gpt-3.5-turbo', 'system_fingerprint': None, 'finish_reason': 'stop', 'logprobs': None}, id='run-7a6951a7-548a-4148-9884-91f1185b752e-0')]}\n"
     ]
    }
   ],
   "source": [
    "for event in abot.graph.stream(None, thread):\n",
    "    for v in event.values():\n",
    "        print(v)"
   ]
  },
  {
   "cell_type": "code",
   "execution_count": 11,
   "id": "0722c3d4-4cbf-43bf-81b0-50f634c4ce61",
   "metadata": {
    "height": 30
   },
   "outputs": [
    {
     "data": {
      "text/plain": [
       "StateSnapshot(values={'messages': [HumanMessage(content='Whats the weather in SF?', id='59907c0d-978b-4c75-9598-0e99304ade9b'), AIMessage(content='', additional_kwargs={'tool_calls': [{'function': {'arguments': '{\"query\":\"weather in San Francisco\"}', 'name': 'tavily_search_results_json'}, 'id': 'call_weGeB0tXiFDgq2zaQnJnDlWK', 'type': 'function'}]}, response_metadata={'finish_reason': 'tool_calls', 'logprobs': None, 'model_name': 'gpt-3.5-turbo', 'system_fingerprint': None, 'token_usage': {'completion_tokens': 21, 'completion_tokens_details': {'accepted_prediction_tokens': 0, 'audio_tokens': 0, 'reasoning_tokens': 0, 'rejected_prediction_tokens': 0}, 'prompt_tokens': 152, 'prompt_tokens_details': {'audio_tokens': 0, 'cached_tokens': 0}, 'total_tokens': 173}}, id='run-8fe8c873-fb60-4209-8122-050c13088e3a-0', tool_calls=[{'name': 'tavily_search_results_json', 'args': {'query': 'weather in San Francisco'}, 'id': 'call_weGeB0tXiFDgq2zaQnJnDlWK'}]), ToolMessage(content='[{\\'url\\': \\'https://weathershogun.com/weather/usa/ca/san-francisco/480/june/2025-06-27\\', \\'content\\': \"Friday, June 27, 2025. San Francisco, CA - Weather Forecast \\\\n\\\\n===============\\\\n\\\\n☰\\\\n\\\\nSan Francisco, CA\\\\n\\\\nImage 1: WeatherShogun.com\\\\n\\\\nHomeContactBrowse StatesPrivacy PolicyTerms and Conditions\\\\n\\\\n°F)°C)\\\\n\\\\n❮\\\\n\\\\nTodayTomorrowHourly7 days30 daysJune\\\\n\\\\n❯\\\\n\\\\nSan Francisco, California Weather: \\\\n\\\\nFriday, June 27, 2025\\\\n\\\\nDay 68°\\\\n\\\\nNight 54°\\\\n\\\\nPrecipitation 0 %\\\\n\\\\nWind 11 mph\\\\n\\\\nUV Index (0 - 11+)11\\\\n\\\\nSaturday\\\\n\\\\n   Hourly\\\\n   Today\\\\n   Tomorrow\\\\n   7 days\\\\n   30 days\\\\n\\\\nWeather Forecast History\\\\n------------------------ [...] Last Year\\'s Weather on This Day (June 27, 2024)\\\\n\\\\n### Day\\\\n\\\\n64°\\\\n\\\\n### Night\\\\n\\\\n52°\\\\n\\\\nPlease note that while we strive for accuracy, the information provided may not always be correct. Use at your own risk.\\\\n\\\\n© Copyright by WeatherShogun.com\"}, {\\'url\\': \\'https://www.easeweather.com/north-america/united-states/california/city-and-county-of-san-francisco/san-francisco/june\\', \\'content\\': \\'| Jun. 23 | Image 64: Partly cloudy Partly cloudy | 55°/50° | 0 in | 2.2 |  |\\\\n| Jun. 24 | Image 65: Cloudy Cloudy | 53°/50° | 0 in | 2.2 |  |\\\\n| Jun. 25 | Image 66: Mist Mist | 55°/50° | 0 in | 2.5 |  |\\\\n| Jun. 26 | Image 67: Cloudy Cloudy | 62°/51° | 0 in | 2.6 |  |\\\\n| Jun. 27 | Image 68: Sunny Sunny | 64°/51° | 0 in | 0 |  |\\\\n| Jun. 28 | Image 69: Sunny Sunny | 64°/53° | 0 in | 4 |  |\\\\n| Jun. 29 | Image 70: Partly cloudy Partly cloudy | 62°/53° | 0 in | 4 |  | [...] Weather in San Francisco, California for June 2025\\\\n==================================================\\\\n\\\\nYour guide to San Francisco weather in June - trends and predictions\\\\n\\\\n### Official Weather Alert ⚠️\\\\n\\\\n   Coastal Flood Advisory - See hour by hour.\\\\n\\\\n### Temperatures\\\\n\\\\n   Until now, June 2025 in San Francisco has been significantly cooler than historical averages by -9.7°F, with average temperature of 55°F. [...] | 15 Image 24: Sunny 68° | 16 Image 25: Sunny 68° | 17 Image 26: Sunny 68° | 18 Image 27: Sunny 68° | 19 Image 28: Sunny 64° | 20 Image 29: Sunny 66° | 21 Image 30: Sunny 69° |\\\\n| 22 Image 31: Partly cloudy 68° | 23 Image 32: Weather AlertImage 33: Partly cloudy 55° | 24 Image 34: Weather AlertImage 35: Cloudy 53° | 25 Image 36: Mist 55° | 26 Image 37: Cloudy 62° | 27 Image 38: Sunny 64° | 28 Image 39: Sunny 64° |\\\\n| 29 Image 40: Partly cloudy 62° | 30 Image 41: Partly cloudy 64° |  |  |  |  |  |\\'}]', name='tavily_search_results_json', id='546be23f-e440-4dd7-9774-eafbd0739337', tool_call_id='call_weGeB0tXiFDgq2zaQnJnDlWK'), AIMessage(content='The weather in San Francisco today is 68°F during the day and 54°F at night with 0% precipitation and a wind speed of 11 mph. The UV Index is 11.', response_metadata={'finish_reason': 'stop', 'logprobs': None, 'model_name': 'gpt-3.5-turbo', 'system_fingerprint': None, 'token_usage': {'completion_tokens': 41, 'completion_tokens_details': {'accepted_prediction_tokens': 0, 'audio_tokens': 0, 'reasoning_tokens': 0, 'rejected_prediction_tokens': 0}, 'prompt_tokens': 1050, 'prompt_tokens_details': {'audio_tokens': 0, 'cached_tokens': 0}, 'total_tokens': 1091}}, id='run-7a6951a7-548a-4148-9884-91f1185b752e-0')]}, next=(), config={'configurable': {'thread_id': '1', 'thread_ts': '1f053395-929d-6524-8003-538017c119ce'}}, metadata={'source': 'loop', 'step': 3, 'writes': {'llm': {'messages': [AIMessage(content='The weather in San Francisco today is 68°F during the day and 54°F at night with 0% precipitation and a wind speed of 11 mph. The UV Index is 11.', response_metadata={'finish_reason': 'stop', 'logprobs': None, 'model_name': 'gpt-3.5-turbo', 'system_fingerprint': None, 'token_usage': {'completion_tokens': 41, 'completion_tokens_details': {'accepted_prediction_tokens': 0, 'audio_tokens': 0, 'reasoning_tokens': 0, 'rejected_prediction_tokens': 0}, 'prompt_tokens': 1050, 'prompt_tokens_details': {'audio_tokens': 0, 'cached_tokens': 0}, 'total_tokens': 1091}}, id='run-7a6951a7-548a-4148-9884-91f1185b752e-0')]}}}, created_at='2025-06-27T09:30:22.264021+00:00', parent_config={'configurable': {'thread_id': '1', 'thread_ts': '1f053395-8abc-6602-8002-fcd57580833d'}})"
      ]
     },
     "execution_count": 11,
     "metadata": {},
     "output_type": "execute_result"
    }
   ],
   "source": [
    "abot.graph.get_state(thread)"
   ]
  },
  {
   "cell_type": "code",
   "execution_count": 12,
   "id": "6b2f82fe-3ec4-4917-be51-9fb10d1317fa",
   "metadata": {
    "height": 30
   },
   "outputs": [
    {
     "data": {
      "text/plain": [
       "()"
      ]
     },
     "execution_count": 12,
     "metadata": {},
     "output_type": "execute_result"
    }
   ],
   "source": [
    "abot.graph.get_state(thread).next"
   ]
  },
  {
   "cell_type": "code",
   "execution_count": 13,
   "id": "ee0fe1c7-77e2-499c-a2f9-1f739bb6ddf0",
   "metadata": {
    "height": 251
   },
   "outputs": [
    {
     "name": "stdout",
     "output_type": "stream",
     "text": [
      "{'messages': [HumanMessage(content='Whats the weather in LA?', id='0183675b-2573-4bc6-9507-43769e37e612'), AIMessage(content='', additional_kwargs={'tool_calls': [{'id': 'call_vOOA62zOIry8iZwdFmabIrlp', 'function': {'arguments': '{\"query\":\"weather in Los Angeles\"}', 'name': 'tavily_search_results_json'}, 'type': 'function'}]}, response_metadata={'token_usage': {'completion_tokens': 21, 'prompt_tokens': 152, 'total_tokens': 173, 'prompt_tokens_details': {'cached_tokens': 0, 'audio_tokens': 0}, 'completion_tokens_details': {'reasoning_tokens': 0, 'audio_tokens': 0, 'accepted_prediction_tokens': 0, 'rejected_prediction_tokens': 0}}, 'model_name': 'gpt-3.5-turbo', 'system_fingerprint': None, 'finish_reason': 'tool_calls', 'logprobs': None}, id='run-e7be0502-cfb8-4e0c-aa90-e278acb7acc7-0', tool_calls=[{'name': 'tavily_search_results_json', 'args': {'query': 'weather in Los Angeles'}, 'id': 'call_vOOA62zOIry8iZwdFmabIrlp'}])]}\n",
      "{'messages': [AIMessage(content='', additional_kwargs={'tool_calls': [{'id': 'call_vOOA62zOIry8iZwdFmabIrlp', 'function': {'arguments': '{\"query\":\"weather in Los Angeles\"}', 'name': 'tavily_search_results_json'}, 'type': 'function'}]}, response_metadata={'token_usage': {'completion_tokens': 21, 'prompt_tokens': 152, 'total_tokens': 173, 'prompt_tokens_details': {'cached_tokens': 0, 'audio_tokens': 0}, 'completion_tokens_details': {'reasoning_tokens': 0, 'audio_tokens': 0, 'accepted_prediction_tokens': 0, 'rejected_prediction_tokens': 0}}, 'model_name': 'gpt-3.5-turbo', 'system_fingerprint': None, 'finish_reason': 'tool_calls', 'logprobs': None}, id='run-e7be0502-cfb8-4e0c-aa90-e278acb7acc7-0', tool_calls=[{'name': 'tavily_search_results_json', 'args': {'query': 'weather in Los Angeles'}, 'id': 'call_vOOA62zOIry8iZwdFmabIrlp'}])]}\n",
      "\n",
      " StateSnapshot(values={'messages': [HumanMessage(content='Whats the weather in LA?', id='0183675b-2573-4bc6-9507-43769e37e612'), AIMessage(content='', additional_kwargs={'tool_calls': [{'function': {'arguments': '{\"query\":\"weather in Los Angeles\"}', 'name': 'tavily_search_results_json'}, 'id': 'call_vOOA62zOIry8iZwdFmabIrlp', 'type': 'function'}]}, response_metadata={'finish_reason': 'tool_calls', 'logprobs': None, 'model_name': 'gpt-3.5-turbo', 'system_fingerprint': None, 'token_usage': {'completion_tokens': 21, 'completion_tokens_details': {'accepted_prediction_tokens': 0, 'audio_tokens': 0, 'reasoning_tokens': 0, 'rejected_prediction_tokens': 0}, 'prompt_tokens': 152, 'prompt_tokens_details': {'audio_tokens': 0, 'cached_tokens': 0}, 'total_tokens': 173}}, id='run-e7be0502-cfb8-4e0c-aa90-e278acb7acc7-0', tool_calls=[{'name': 'tavily_search_results_json', 'args': {'query': 'weather in Los Angeles'}, 'id': 'call_vOOA62zOIry8iZwdFmabIrlp'}])]}, next=('action',), config={'configurable': {'thread_id': '2', 'thread_ts': '1f053395-d865-694e-8001-6f7e91defe5f'}}, metadata={'source': 'loop', 'step': 1, 'writes': {'llm': {'messages': [AIMessage(content='', additional_kwargs={'tool_calls': [{'function': {'arguments': '{\"query\":\"weather in Los Angeles\"}', 'name': 'tavily_search_results_json'}, 'id': 'call_vOOA62zOIry8iZwdFmabIrlp', 'type': 'function'}]}, response_metadata={'finish_reason': 'tool_calls', 'logprobs': None, 'model_name': 'gpt-3.5-turbo', 'system_fingerprint': None, 'token_usage': {'completion_tokens': 21, 'completion_tokens_details': {'accepted_prediction_tokens': 0, 'audio_tokens': 0, 'reasoning_tokens': 0, 'rejected_prediction_tokens': 0}, 'prompt_tokens': 152, 'prompt_tokens_details': {'audio_tokens': 0, 'cached_tokens': 0}, 'total_tokens': 173}}, id='run-e7be0502-cfb8-4e0c-aa90-e278acb7acc7-0', tool_calls=[{'name': 'tavily_search_results_json', 'args': {'query': 'weather in Los Angeles'}, 'id': 'call_vOOA62zOIry8iZwdFmabIrlp'}])]}}}, created_at='2025-06-27T09:30:29.581236+00:00', parent_config={'configurable': {'thread_id': '2', 'thread_ts': '1f053395-d2b4-643c-8000-9a9bb0605ee3'}}) \n",
      "\n",
      "Calling: {'name': 'tavily_search_results_json', 'args': {'query': 'weather in Los Angeles'}, 'id': 'call_vOOA62zOIry8iZwdFmabIrlp'}\n",
      "Back to the model!\n",
      "{'messages': [ToolMessage(content=\"[{'url': 'https://weathershogun.com/weather/usa/ca/los-angeles/451/june/2025-06-27', 'content': 'Los Angeles, California Weather: Friday, June 27, 2025. Sunny weather, clear skies and sunny weather. Day 79°. Night 64°. Precipitation 0 %.'}, {'url': 'https://www.weather25.com/north-america/usa/california/los-angeles?page=month&month=June', 'content': 'Saturday Jun 21 Image 8: Overcast 0 mm 22°/17°Sunday Jun 22 Image 9: Sunny 0 mm 26°/15°Monday Jun 23 Image 10: Partly cloudy 0 mm 26°/16°Tuesday Jun 24 Image 11: Cloudy 0 mm 25°/15°Wednesday Jun 25 Image 12: Sunny 0 mm 27°/18°Thursday Jun 26 Image 13: Sunny 0 mm 29°/19°Friday Jun 27 Image 14: Sunny 0 mm 29°/19°Saturday Jun 28 Image 15: Sunny 0 mm 29°/19°Sunday Jun 29 Image 16: Sunny 0 mm 29°/19°Monday Jun 30 Image 17: Sunny 0 mm 29°/19°Tuesday Jul 1 Image 18: Sunny 0 mm 30°/19°Wednesday Jul 2 [...] | 22 Image 49: Sunny 26°/15° | 23 Image 50: Partly cloudy 26°/16° | 24 Image 51: Cloudy 25°/15° | 25 Image 52: Sunny 27°/18° | 26 Image 53: Sunny 29°/19° | 27 Image 54: Sunny 29°/19° | 28 Image 55: Sunny 29°/19° |\\\\n| 29 Image 56: Sunny 29°/19° | 30 Image 57: Sunny 29°/19° |  |  |  |  |  | [...] | Sun | Mon | Tue | Wed | Thu | Fri | Sat |\\\\n| --- | --- | --- | --- | --- | --- | --- |\\\\n| 1 Image 28: Partly cloudy 25°/16° | 2 Image 29: Partly cloudy 25°/17° | 3 Image 30: Partly cloudy 26°/17° | 4 Image 31: Sunny 26°/18° | 5 Image 32: Sunny 24°/17° | 6 Image 33: Sunny 24°/17° | 7 Image 34: Sunny 24°/16° |'}]\", name='tavily_search_results_json', id='e0f023e2-f499-414a-84e7-cb498dfb261d', tool_call_id='call_vOOA62zOIry8iZwdFmabIrlp')]}\n",
      "{'messages': [HumanMessage(content='Whats the weather in LA?', id='0183675b-2573-4bc6-9507-43769e37e612'), AIMessage(content='', additional_kwargs={'tool_calls': [{'function': {'arguments': '{\"query\":\"weather in Los Angeles\"}', 'name': 'tavily_search_results_json'}, 'id': 'call_vOOA62zOIry8iZwdFmabIrlp', 'type': 'function'}]}, response_metadata={'finish_reason': 'tool_calls', 'logprobs': None, 'model_name': 'gpt-3.5-turbo', 'system_fingerprint': None, 'token_usage': {'completion_tokens': 21, 'completion_tokens_details': {'accepted_prediction_tokens': 0, 'audio_tokens': 0, 'reasoning_tokens': 0, 'rejected_prediction_tokens': 0}, 'prompt_tokens': 152, 'prompt_tokens_details': {'audio_tokens': 0, 'cached_tokens': 0}, 'total_tokens': 173}}, id='run-e7be0502-cfb8-4e0c-aa90-e278acb7acc7-0', tool_calls=[{'name': 'tavily_search_results_json', 'args': {'query': 'weather in Los Angeles'}, 'id': 'call_vOOA62zOIry8iZwdFmabIrlp'}]), ToolMessage(content=\"[{'url': 'https://weathershogun.com/weather/usa/ca/los-angeles/451/june/2025-06-27', 'content': 'Los Angeles, California Weather: Friday, June 27, 2025. Sunny weather, clear skies and sunny weather. Day 79°. Night 64°. Precipitation 0 %.'}, {'url': 'https://www.weather25.com/north-america/usa/california/los-angeles?page=month&month=June', 'content': 'Saturday Jun 21 Image 8: Overcast 0 mm 22°/17°Sunday Jun 22 Image 9: Sunny 0 mm 26°/15°Monday Jun 23 Image 10: Partly cloudy 0 mm 26°/16°Tuesday Jun 24 Image 11: Cloudy 0 mm 25°/15°Wednesday Jun 25 Image 12: Sunny 0 mm 27°/18°Thursday Jun 26 Image 13: Sunny 0 mm 29°/19°Friday Jun 27 Image 14: Sunny 0 mm 29°/19°Saturday Jun 28 Image 15: Sunny 0 mm 29°/19°Sunday Jun 29 Image 16: Sunny 0 mm 29°/19°Monday Jun 30 Image 17: Sunny 0 mm 29°/19°Tuesday Jul 1 Image 18: Sunny 0 mm 30°/19°Wednesday Jul 2 [...] | 22 Image 49: Sunny 26°/15° | 23 Image 50: Partly cloudy 26°/16° | 24 Image 51: Cloudy 25°/15° | 25 Image 52: Sunny 27°/18° | 26 Image 53: Sunny 29°/19° | 27 Image 54: Sunny 29°/19° | 28 Image 55: Sunny 29°/19° |\\\\n| 29 Image 56: Sunny 29°/19° | 30 Image 57: Sunny 29°/19° |  |  |  |  |  | [...] | Sun | Mon | Tue | Wed | Thu | Fri | Sat |\\\\n| --- | --- | --- | --- | --- | --- | --- |\\\\n| 1 Image 28: Partly cloudy 25°/16° | 2 Image 29: Partly cloudy 25°/17° | 3 Image 30: Partly cloudy 26°/17° | 4 Image 31: Sunny 26°/18° | 5 Image 32: Sunny 24°/17° | 6 Image 33: Sunny 24°/17° | 7 Image 34: Sunny 24°/16° |'}]\", name='tavily_search_results_json', id='e0f023e2-f499-414a-84e7-cb498dfb261d', tool_call_id='call_vOOA62zOIry8iZwdFmabIrlp'), AIMessage(content='The weather in Los Angeles is currently sunny with clear skies. The daytime temperature is around 79°F and the nighttime temperature is around 64°F. There is no precipitation expected.', response_metadata={'token_usage': {'completion_tokens': 37, 'prompt_tokens': 790, 'total_tokens': 827, 'prompt_tokens_details': {'cached_tokens': 0, 'audio_tokens': 0}, 'completion_tokens_details': {'reasoning_tokens': 0, 'audio_tokens': 0, 'accepted_prediction_tokens': 0, 'rejected_prediction_tokens': 0}}, 'model_name': 'gpt-3.5-turbo', 'system_fingerprint': None, 'finish_reason': 'stop', 'logprobs': None}, id='run-5631f485-85d7-495e-865c-519eb00d8d94-0')]}\n",
      "{'messages': [AIMessage(content='The weather in Los Angeles is currently sunny with clear skies. The daytime temperature is around 79°F and the nighttime temperature is around 64°F. There is no precipitation expected.', response_metadata={'token_usage': {'completion_tokens': 37, 'prompt_tokens': 790, 'total_tokens': 827, 'prompt_tokens_details': {'cached_tokens': 0, 'audio_tokens': 0}, 'completion_tokens_details': {'reasoning_tokens': 0, 'audio_tokens': 0, 'accepted_prediction_tokens': 0, 'rejected_prediction_tokens': 0}}, 'model_name': 'gpt-3.5-turbo', 'system_fingerprint': None, 'finish_reason': 'stop', 'logprobs': None}, id='run-5631f485-85d7-495e-865c-519eb00d8d94-0')]}\n"
     ]
    }
   ],
   "source": [
    "messages = [HumanMessage(\"Whats the weather in LA?\")]\n",
    "thread = {\"configurable\": {\"thread_id\": \"2\"}}\n",
    "for event in abot.graph.stream({\"messages\": messages}, thread):\n",
    "    for v in event.values():\n",
    "        print(v)\n",
    "while abot.graph.get_state(thread).next:\n",
    "    print(\"\\n\", abot.graph.get_state(thread),\"\\n\")\n",
    "    _input = input(\"proceed?\")\n",
    "    if _input != \"y\":\n",
    "        print(\"aborting\")\n",
    "        break\n",
    "    for event in abot.graph.stream(None, thread):\n",
    "        for v in event.values():\n",
    "            print(v)"
   ]
  },
  {
   "cell_type": "markdown",
   "id": "7bbe5689-54ab-49ca-9055-6e5216abd523",
   "metadata": {},
   "source": [
    "## Modify State\n",
    "Run until the interrupt and then modify the state."
   ]
  },
  {
   "cell_type": "code",
   "execution_count": 14,
   "id": "98f303b1-a4d0-408c-8cc0-515ff980717f",
   "metadata": {
    "height": 98
   },
   "outputs": [
    {
     "name": "stdout",
     "output_type": "stream",
     "text": [
      "{'messages': [HumanMessage(content='Whats the weather in LA?', id='b83cd66d-2c5a-4341-b477-eb93bfb948ba'), AIMessage(content='', additional_kwargs={'tool_calls': [{'id': 'call_DZ6vBb2Egm5yeIDOdfLkx95k', 'function': {'arguments': '{\"query\":\"current weather in Los Angeles\"}', 'name': 'tavily_search_results_json'}, 'type': 'function'}]}, response_metadata={'token_usage': {'completion_tokens': 22, 'prompt_tokens': 152, 'total_tokens': 174, 'prompt_tokens_details': {'cached_tokens': 0, 'audio_tokens': 0}, 'completion_tokens_details': {'reasoning_tokens': 0, 'audio_tokens': 0, 'accepted_prediction_tokens': 0, 'rejected_prediction_tokens': 0}}, 'model_name': 'gpt-3.5-turbo', 'system_fingerprint': None, 'finish_reason': 'tool_calls', 'logprobs': None}, id='run-7e37cbe9-ffe9-402c-8028-83a2bebf6f5d-0', tool_calls=[{'name': 'tavily_search_results_json', 'args': {'query': 'current weather in Los Angeles'}, 'id': 'call_DZ6vBb2Egm5yeIDOdfLkx95k'}])]}\n",
      "{'messages': [AIMessage(content='', additional_kwargs={'tool_calls': [{'id': 'call_DZ6vBb2Egm5yeIDOdfLkx95k', 'function': {'arguments': '{\"query\":\"current weather in Los Angeles\"}', 'name': 'tavily_search_results_json'}, 'type': 'function'}]}, response_metadata={'token_usage': {'completion_tokens': 22, 'prompt_tokens': 152, 'total_tokens': 174, 'prompt_tokens_details': {'cached_tokens': 0, 'audio_tokens': 0}, 'completion_tokens_details': {'reasoning_tokens': 0, 'audio_tokens': 0, 'accepted_prediction_tokens': 0, 'rejected_prediction_tokens': 0}}, 'model_name': 'gpt-3.5-turbo', 'system_fingerprint': None, 'finish_reason': 'tool_calls', 'logprobs': None}, id='run-7e37cbe9-ffe9-402c-8028-83a2bebf6f5d-0', tool_calls=[{'name': 'tavily_search_results_json', 'args': {'query': 'current weather in Los Angeles'}, 'id': 'call_DZ6vBb2Egm5yeIDOdfLkx95k'}])]}\n"
     ]
    }
   ],
   "source": [
    "messages = [HumanMessage(\"Whats the weather in LA?\")]\n",
    "thread = {\"configurable\": {\"thread_id\": \"3\"}}\n",
    "for event in abot.graph.stream({\"messages\": messages}, thread):\n",
    "    for v in event.values():\n",
    "        print(v)"
   ]
  },
  {
   "cell_type": "code",
   "execution_count": 15,
   "id": "bf4dcb93-6298-4cfd-b3ce-61dfac7fb35f",
   "metadata": {
    "height": 30
   },
   "outputs": [
    {
     "data": {
      "text/plain": [
       "StateSnapshot(values={'messages': [HumanMessage(content='Whats the weather in LA?', id='b83cd66d-2c5a-4341-b477-eb93bfb948ba'), AIMessage(content='', additional_kwargs={'tool_calls': [{'function': {'arguments': '{\"query\":\"current weather in Los Angeles\"}', 'name': 'tavily_search_results_json'}, 'id': 'call_DZ6vBb2Egm5yeIDOdfLkx95k', 'type': 'function'}]}, response_metadata={'finish_reason': 'tool_calls', 'logprobs': None, 'model_name': 'gpt-3.5-turbo', 'system_fingerprint': None, 'token_usage': {'completion_tokens': 22, 'completion_tokens_details': {'accepted_prediction_tokens': 0, 'audio_tokens': 0, 'reasoning_tokens': 0, 'rejected_prediction_tokens': 0}, 'prompt_tokens': 152, 'prompt_tokens_details': {'audio_tokens': 0, 'cached_tokens': 0}, 'total_tokens': 174}}, id='run-7e37cbe9-ffe9-402c-8028-83a2bebf6f5d-0', tool_calls=[{'name': 'tavily_search_results_json', 'args': {'query': 'current weather in Los Angeles'}, 'id': 'call_DZ6vBb2Egm5yeIDOdfLkx95k'}])]}, next=('action',), config={'configurable': {'thread_id': '3', 'thread_ts': '1f053397-0384-66d8-8001-7f3d55e07478'}}, metadata={'source': 'loop', 'step': 1, 'writes': {'llm': {'messages': [AIMessage(content='', additional_kwargs={'tool_calls': [{'function': {'arguments': '{\"query\":\"current weather in Los Angeles\"}', 'name': 'tavily_search_results_json'}, 'id': 'call_DZ6vBb2Egm5yeIDOdfLkx95k', 'type': 'function'}]}, response_metadata={'finish_reason': 'tool_calls', 'logprobs': None, 'model_name': 'gpt-3.5-turbo', 'system_fingerprint': None, 'token_usage': {'completion_tokens': 22, 'completion_tokens_details': {'accepted_prediction_tokens': 0, 'audio_tokens': 0, 'reasoning_tokens': 0, 'rejected_prediction_tokens': 0}, 'prompt_tokens': 152, 'prompt_tokens_details': {'audio_tokens': 0, 'cached_tokens': 0}, 'total_tokens': 174}}, id='run-7e37cbe9-ffe9-402c-8028-83a2bebf6f5d-0', tool_calls=[{'name': 'tavily_search_results_json', 'args': {'query': 'current weather in Los Angeles'}, 'id': 'call_DZ6vBb2Egm5yeIDOdfLkx95k'}])]}}}, created_at='2025-06-27T09:31:00.946279+00:00', parent_config={'configurable': {'thread_id': '3', 'thread_ts': '1f053396-cbab-6d60-8000-b87dfd4f9200'}})"
      ]
     },
     "execution_count": 15,
     "metadata": {},
     "output_type": "execute_result"
    }
   ],
   "source": [
    "abot.graph.get_state(thread)"
   ]
  },
  {
   "cell_type": "code",
   "execution_count": 16,
   "id": "932883a4-c722-42bb-aec0-b4f41c5c81a4",
   "metadata": {
    "height": 30
   },
   "outputs": [],
   "source": [
    "current_values = abot.graph.get_state(thread)"
   ]
  },
  {
   "cell_type": "code",
   "execution_count": 17,
   "id": "ff362f49-dcf1-4ea1-a86c-e516e9ab897d",
   "metadata": {
    "height": 30
   },
   "outputs": [
    {
     "data": {
      "text/plain": [
       "AIMessage(content='', additional_kwargs={'tool_calls': [{'function': {'arguments': '{\"query\":\"current weather in Los Angeles\"}', 'name': 'tavily_search_results_json'}, 'id': 'call_DZ6vBb2Egm5yeIDOdfLkx95k', 'type': 'function'}]}, response_metadata={'finish_reason': 'tool_calls', 'logprobs': None, 'model_name': 'gpt-3.5-turbo', 'system_fingerprint': None, 'token_usage': {'completion_tokens': 22, 'completion_tokens_details': {'accepted_prediction_tokens': 0, 'audio_tokens': 0, 'reasoning_tokens': 0, 'rejected_prediction_tokens': 0}, 'prompt_tokens': 152, 'prompt_tokens_details': {'audio_tokens': 0, 'cached_tokens': 0}, 'total_tokens': 174}}, id='run-7e37cbe9-ffe9-402c-8028-83a2bebf6f5d-0', tool_calls=[{'name': 'tavily_search_results_json', 'args': {'query': 'current weather in Los Angeles'}, 'id': 'call_DZ6vBb2Egm5yeIDOdfLkx95k'}])"
      ]
     },
     "execution_count": 17,
     "metadata": {},
     "output_type": "execute_result"
    }
   ],
   "source": [
    "current_values.values['messages'][-1]"
   ]
  },
  {
   "cell_type": "code",
   "execution_count": 18,
   "id": "a7e15a20-83d7-434c-8551-bce8dcc32be0",
   "metadata": {
    "height": 30
   },
   "outputs": [
    {
     "data": {
      "text/plain": [
       "[{'name': 'tavily_search_results_json',\n",
       "  'args': {'query': 'current weather in Los Angeles'},\n",
       "  'id': 'call_DZ6vBb2Egm5yeIDOdfLkx95k'}]"
      ]
     },
     "execution_count": 18,
     "metadata": {},
     "output_type": "execute_result"
    }
   ],
   "source": [
    "current_values.values['messages'][-1].tool_calls"
   ]
  },
  {
   "cell_type": "code",
   "execution_count": 19,
   "id": "54ab2c74-f32e-490c-a85d-932d11444210",
   "metadata": {
    "height": 115
   },
   "outputs": [],
   "source": [
    "_id = current_values.values['messages'][-1].tool_calls[0]['id']\n",
    "current_values.values['messages'][-1].tool_calls = [\n",
    "    {'name': 'tavily_search_results_json',\n",
    "  'args': {'query': 'current weather in Louisiana'},\n",
    "  'id': _id}\n",
    "]"
   ]
  },
  {
   "cell_type": "code",
   "execution_count": 20,
   "id": "a833d3ce-bd31-4319-811d-decff226b970",
   "metadata": {
    "height": 30
   },
   "outputs": [
    {
     "name": "stdout",
     "output_type": "stream",
     "text": [
      "{'messages': [HumanMessage(content='Whats the weather in LA?', id='b83cd66d-2c5a-4341-b477-eb93bfb948ba'), AIMessage(content='', additional_kwargs={'tool_calls': [{'function': {'arguments': '{\"query\":\"current weather in Los Angeles\"}', 'name': 'tavily_search_results_json'}, 'id': 'call_DZ6vBb2Egm5yeIDOdfLkx95k', 'type': 'function'}]}, response_metadata={'finish_reason': 'tool_calls', 'logprobs': None, 'model_name': 'gpt-3.5-turbo', 'system_fingerprint': None, 'token_usage': {'completion_tokens': 22, 'completion_tokens_details': {'accepted_prediction_tokens': 0, 'audio_tokens': 0, 'reasoning_tokens': 0, 'rejected_prediction_tokens': 0}, 'prompt_tokens': 152, 'prompt_tokens_details': {'audio_tokens': 0, 'cached_tokens': 0}, 'total_tokens': 174}}, id='run-7e37cbe9-ffe9-402c-8028-83a2bebf6f5d-0', tool_calls=[{'name': 'tavily_search_results_json', 'args': {'query': 'current weather in Louisiana'}, 'id': 'call_DZ6vBb2Egm5yeIDOdfLkx95k'}])]}\n"
     ]
    },
    {
     "data": {
      "text/plain": [
       "{'configurable': {'thread_id': '3',\n",
       "  'thread_ts': '1f053397-7a88-6f18-8002-cb22af246ec5'}}"
      ]
     },
     "execution_count": 20,
     "metadata": {},
     "output_type": "execute_result"
    }
   ],
   "source": [
    "abot.graph.update_state(thread, current_values.values)"
   ]
  },
  {
   "cell_type": "code",
   "execution_count": 21,
   "id": "76e93cce-6eab-4c7c-ac64-e9993fdb30d6",
   "metadata": {
    "height": 30
   },
   "outputs": [
    {
     "data": {
      "text/plain": [
       "StateSnapshot(values={'messages': [HumanMessage(content='Whats the weather in LA?', id='b83cd66d-2c5a-4341-b477-eb93bfb948ba'), AIMessage(content='', additional_kwargs={'tool_calls': [{'function': {'arguments': '{\"query\":\"current weather in Los Angeles\"}', 'name': 'tavily_search_results_json'}, 'id': 'call_DZ6vBb2Egm5yeIDOdfLkx95k', 'type': 'function'}]}, response_metadata={'finish_reason': 'tool_calls', 'logprobs': None, 'model_name': 'gpt-3.5-turbo', 'system_fingerprint': None, 'token_usage': {'completion_tokens': 22, 'completion_tokens_details': {'accepted_prediction_tokens': 0, 'audio_tokens': 0, 'reasoning_tokens': 0, 'rejected_prediction_tokens': 0}, 'prompt_tokens': 152, 'prompt_tokens_details': {'audio_tokens': 0, 'cached_tokens': 0}, 'total_tokens': 174}}, id='run-7e37cbe9-ffe9-402c-8028-83a2bebf6f5d-0', tool_calls=[{'name': 'tavily_search_results_json', 'args': {'query': 'current weather in Louisiana'}, 'id': 'call_DZ6vBb2Egm5yeIDOdfLkx95k'}])]}, next=('action',), config={'configurable': {'thread_id': '3', 'thread_ts': '1f053397-7a88-6f18-8002-cb22af246ec5'}}, metadata={'source': 'update', 'step': 2, 'writes': {'llm': {'messages': [HumanMessage(content='Whats the weather in LA?', id='b83cd66d-2c5a-4341-b477-eb93bfb948ba'), AIMessage(content='', additional_kwargs={'tool_calls': [{'function': {'arguments': '{\"query\":\"current weather in Los Angeles\"}', 'name': 'tavily_search_results_json'}, 'id': 'call_DZ6vBb2Egm5yeIDOdfLkx95k', 'type': 'function'}]}, response_metadata={'finish_reason': 'tool_calls', 'logprobs': None, 'model_name': 'gpt-3.5-turbo', 'system_fingerprint': None, 'token_usage': {'completion_tokens': 22, 'completion_tokens_details': {'accepted_prediction_tokens': 0, 'audio_tokens': 0, 'reasoning_tokens': 0, 'rejected_prediction_tokens': 0}, 'prompt_tokens': 152, 'prompt_tokens_details': {'audio_tokens': 0, 'cached_tokens': 0}, 'total_tokens': 174}}, id='run-7e37cbe9-ffe9-402c-8028-83a2bebf6f5d-0', tool_calls=[{'name': 'tavily_search_results_json', 'args': {'query': 'current weather in Louisiana'}, 'id': 'call_DZ6vBb2Egm5yeIDOdfLkx95k'}])]}}}, created_at='2025-06-27T09:31:13.426195+00:00', parent_config={'configurable': {'thread_id': '3', 'thread_ts': '1f053397-0384-66d8-8001-7f3d55e07478'}})"
      ]
     },
     "execution_count": 21,
     "metadata": {},
     "output_type": "execute_result"
    }
   ],
   "source": [
    "abot.graph.get_state(thread)"
   ]
  },
  {
   "cell_type": "code",
   "execution_count": 22,
   "id": "fd2d0990-a932-423f-9ff3-5cada58c5f32",
   "metadata": {
    "height": 64
   },
   "outputs": [
    {
     "name": "stdout",
     "output_type": "stream",
     "text": [
      "Calling: {'name': 'tavily_search_results_json', 'args': {'query': 'current weather in Louisiana'}, 'id': 'call_DZ6vBb2Egm5yeIDOdfLkx95k'}\n",
      "Back to the model!\n",
      "{'messages': [ToolMessage(content=\"[{'url': 'https://en.climate-data.org/north-america/united-states-of-america/louisiana-943/r/june-6/', 'content': 'Louisiana weather in June // weather averages ; 27. June, 28 °C | 82 °F · 31 °C | 87 °F ; 28. June, 28 °C | 82 °F · 31 °C | 87 °F ; 29. June, 28 °C | 82 °F · 31 °C |'}, {'url': 'https://world-weather.info/forecast/usa/new_orleans/june-2025/', 'content': 'Detailed ⚡ New Orleans Weather Forecast for June 2025 – day/night 🌡 ... Friday, 27 June. +79°. Day. +88°. Few clouds. Saturday, 28 June. +79°. Day. +88'}]\", name='tavily_search_results_json', id='00efa76e-8e7c-4f2d-beb6-5ad698442055', tool_call_id='call_DZ6vBb2Egm5yeIDOdfLkx95k')]}\n",
      "{'messages': [HumanMessage(content='Whats the weather in LA?', id='b83cd66d-2c5a-4341-b477-eb93bfb948ba'), AIMessage(content='', additional_kwargs={'tool_calls': [{'function': {'arguments': '{\"query\":\"current weather in Los Angeles\"}', 'name': 'tavily_search_results_json'}, 'id': 'call_DZ6vBb2Egm5yeIDOdfLkx95k', 'type': 'function'}]}, response_metadata={'finish_reason': 'tool_calls', 'logprobs': None, 'model_name': 'gpt-3.5-turbo', 'system_fingerprint': None, 'token_usage': {'completion_tokens': 22, 'completion_tokens_details': {'accepted_prediction_tokens': 0, 'audio_tokens': 0, 'reasoning_tokens': 0, 'rejected_prediction_tokens': 0}, 'prompt_tokens': 152, 'prompt_tokens_details': {'audio_tokens': 0, 'cached_tokens': 0}, 'total_tokens': 174}}, id='run-7e37cbe9-ffe9-402c-8028-83a2bebf6f5d-0', tool_calls=[{'name': 'tavily_search_results_json', 'args': {'query': 'current weather in Louisiana'}, 'id': 'call_DZ6vBb2Egm5yeIDOdfLkx95k'}]), ToolMessage(content=\"[{'url': 'https://en.climate-data.org/north-america/united-states-of-america/louisiana-943/r/june-6/', 'content': 'Louisiana weather in June // weather averages ; 27. June, 28 °C | 82 °F · 31 °C | 87 °F ; 28. June, 28 °C | 82 °F · 31 °C | 87 °F ; 29. June, 28 °C | 82 °F · 31 °C |'}, {'url': 'https://world-weather.info/forecast/usa/new_orleans/june-2025/', 'content': 'Detailed ⚡ New Orleans Weather Forecast for June 2025 – day/night 🌡 ... Friday, 27 June. +79°. Day. +88°. Few clouds. Saturday, 28 June. +79°. Day. +88'}]\", name='tavily_search_results_json', id='00efa76e-8e7c-4f2d-beb6-5ad698442055', tool_call_id='call_DZ6vBb2Egm5yeIDOdfLkx95k'), AIMessage(content='I found information about the weather in Louisiana for June. On June 27, the temperature ranges from 79°F to 88°F, and on June 28, it ranges from 79°F to 88°F. Would you like me to look up the current weather in Los Angeles instead?', response_metadata={'token_usage': {'completion_tokens': 61, 'prompt_tokens': 387, 'total_tokens': 448, 'prompt_tokens_details': {'cached_tokens': 0, 'audio_tokens': 0}, 'completion_tokens_details': {'reasoning_tokens': 0, 'audio_tokens': 0, 'accepted_prediction_tokens': 0, 'rejected_prediction_tokens': 0}}, 'model_name': 'gpt-3.5-turbo', 'system_fingerprint': None, 'finish_reason': 'stop', 'logprobs': None}, id='run-8df5e3eb-a685-4be3-b206-c767787f2e95-0')]}\n",
      "{'messages': [AIMessage(content='I found information about the weather in Louisiana for June. On June 27, the temperature ranges from 79°F to 88°F, and on June 28, it ranges from 79°F to 88°F. Would you like me to look up the current weather in Los Angeles instead?', response_metadata={'token_usage': {'completion_tokens': 61, 'prompt_tokens': 387, 'total_tokens': 448, 'prompt_tokens_details': {'cached_tokens': 0, 'audio_tokens': 0}, 'completion_tokens_details': {'reasoning_tokens': 0, 'audio_tokens': 0, 'accepted_prediction_tokens': 0, 'rejected_prediction_tokens': 0}}, 'model_name': 'gpt-3.5-turbo', 'system_fingerprint': None, 'finish_reason': 'stop', 'logprobs': None}, id='run-8df5e3eb-a685-4be3-b206-c767787f2e95-0')]}\n"
     ]
    }
   ],
   "source": [
    "for event in abot.graph.stream(None, thread):\n",
    "    for v in event.values():\n",
    "        print(v)"
   ]
  },
  {
   "cell_type": "markdown",
   "id": "e75b870b-e0df-46f1-b29b-fb151ebcbcc3",
   "metadata": {},
   "source": [
    "## Time Travel"
   ]
  },
  {
   "cell_type": "code",
   "execution_count": 23,
   "id": "27cde654-64e2-48bc-80a9-0ed668ccb7dc",
   "metadata": {
    "height": 98
   },
   "outputs": [
    {
     "name": "stdout",
     "output_type": "stream",
     "text": [
      "StateSnapshot(values={'messages': [HumanMessage(content='Whats the weather in LA?', id='b83cd66d-2c5a-4341-b477-eb93bfb948ba'), AIMessage(content='', additional_kwargs={'tool_calls': [{'function': {'arguments': '{\"query\":\"current weather in Los Angeles\"}', 'name': 'tavily_search_results_json'}, 'id': 'call_DZ6vBb2Egm5yeIDOdfLkx95k', 'type': 'function'}]}, response_metadata={'finish_reason': 'tool_calls', 'logprobs': None, 'model_name': 'gpt-3.5-turbo', 'system_fingerprint': None, 'token_usage': {'completion_tokens': 22, 'completion_tokens_details': {'accepted_prediction_tokens': 0, 'audio_tokens': 0, 'reasoning_tokens': 0, 'rejected_prediction_tokens': 0}, 'prompt_tokens': 152, 'prompt_tokens_details': {'audio_tokens': 0, 'cached_tokens': 0}, 'total_tokens': 174}}, id='run-7e37cbe9-ffe9-402c-8028-83a2bebf6f5d-0', tool_calls=[{'name': 'tavily_search_results_json', 'args': {'query': 'current weather in Louisiana'}, 'id': 'call_DZ6vBb2Egm5yeIDOdfLkx95k'}]), ToolMessage(content=\"[{'url': 'https://en.climate-data.org/north-america/united-states-of-america/louisiana-943/r/june-6/', 'content': 'Louisiana weather in June // weather averages ; 27. June, 28 °C | 82 °F · 31 °C | 87 °F ; 28. June, 28 °C | 82 °F · 31 °C | 87 °F ; 29. June, 28 °C | 82 °F · 31 °C |'}, {'url': 'https://world-weather.info/forecast/usa/new_orleans/june-2025/', 'content': 'Detailed ⚡ New Orleans Weather Forecast for June 2025 – day/night 🌡 ... Friday, 27 June. +79°. Day. +88°. Few clouds. Saturday, 28 June. +79°. Day. +88'}]\", name='tavily_search_results_json', id='00efa76e-8e7c-4f2d-beb6-5ad698442055', tool_call_id='call_DZ6vBb2Egm5yeIDOdfLkx95k'), AIMessage(content='I found information about the weather in Louisiana for June. On June 27, the temperature ranges from 79°F to 88°F, and on June 28, it ranges from 79°F to 88°F. Would you like me to look up the current weather in Los Angeles instead?', response_metadata={'finish_reason': 'stop', 'logprobs': None, 'model_name': 'gpt-3.5-turbo', 'system_fingerprint': None, 'token_usage': {'completion_tokens': 61, 'completion_tokens_details': {'accepted_prediction_tokens': 0, 'audio_tokens': 0, 'reasoning_tokens': 0, 'rejected_prediction_tokens': 0}, 'prompt_tokens': 387, 'prompt_tokens_details': {'audio_tokens': 0, 'cached_tokens': 0}, 'total_tokens': 448}}, id='run-8df5e3eb-a685-4be3-b206-c767787f2e95-0')]}, next=(), config={'configurable': {'thread_id': '3', 'thread_ts': '1f053397-f3fa-64f0-8004-579e933d7083'}}, metadata={'source': 'loop', 'step': 4, 'writes': {'llm': {'messages': [AIMessage(content='I found information about the weather in Louisiana for June. On June 27, the temperature ranges from 79°F to 88°F, and on June 28, it ranges from 79°F to 88°F. Would you like me to look up the current weather in Los Angeles instead?', response_metadata={'finish_reason': 'stop', 'logprobs': None, 'model_name': 'gpt-3.5-turbo', 'system_fingerprint': None, 'token_usage': {'completion_tokens': 61, 'completion_tokens_details': {'accepted_prediction_tokens': 0, 'audio_tokens': 0, 'reasoning_tokens': 0, 'rejected_prediction_tokens': 0}, 'prompt_tokens': 387, 'prompt_tokens_details': {'audio_tokens': 0, 'cached_tokens': 0}, 'total_tokens': 448}}, id='run-8df5e3eb-a685-4be3-b206-c767787f2e95-0')]}}}, created_at='2025-06-27T09:31:26.160373+00:00', parent_config={'configurable': {'thread_id': '3', 'thread_ts': '1f053397-eab8-6180-8003-c43fc5fcdf29'}})\n",
      "--\n",
      "StateSnapshot(values={'messages': [HumanMessage(content='Whats the weather in LA?', id='b83cd66d-2c5a-4341-b477-eb93bfb948ba'), AIMessage(content='', additional_kwargs={'tool_calls': [{'function': {'arguments': '{\"query\":\"current weather in Los Angeles\"}', 'name': 'tavily_search_results_json'}, 'id': 'call_DZ6vBb2Egm5yeIDOdfLkx95k', 'type': 'function'}]}, response_metadata={'finish_reason': 'tool_calls', 'logprobs': None, 'model_name': 'gpt-3.5-turbo', 'system_fingerprint': None, 'token_usage': {'completion_tokens': 22, 'completion_tokens_details': {'accepted_prediction_tokens': 0, 'audio_tokens': 0, 'reasoning_tokens': 0, 'rejected_prediction_tokens': 0}, 'prompt_tokens': 152, 'prompt_tokens_details': {'audio_tokens': 0, 'cached_tokens': 0}, 'total_tokens': 174}}, id='run-7e37cbe9-ffe9-402c-8028-83a2bebf6f5d-0', tool_calls=[{'name': 'tavily_search_results_json', 'args': {'query': 'current weather in Louisiana'}, 'id': 'call_DZ6vBb2Egm5yeIDOdfLkx95k'}]), ToolMessage(content=\"[{'url': 'https://en.climate-data.org/north-america/united-states-of-america/louisiana-943/r/june-6/', 'content': 'Louisiana weather in June // weather averages ; 27. June, 28 °C | 82 °F · 31 °C | 87 °F ; 28. June, 28 °C | 82 °F · 31 °C | 87 °F ; 29. June, 28 °C | 82 °F · 31 °C |'}, {'url': 'https://world-weather.info/forecast/usa/new_orleans/june-2025/', 'content': 'Detailed ⚡ New Orleans Weather Forecast for June 2025 – day/night 🌡 ... Friday, 27 June. +79°. Day. +88°. Few clouds. Saturday, 28 June. +79°. Day. +88'}]\", name='tavily_search_results_json', id='00efa76e-8e7c-4f2d-beb6-5ad698442055', tool_call_id='call_DZ6vBb2Egm5yeIDOdfLkx95k')]}, next=('llm',), config={'configurable': {'thread_id': '3', 'thread_ts': '1f053397-eab8-6180-8003-c43fc5fcdf29'}}, metadata={'source': 'loop', 'step': 3, 'writes': {'action': {'messages': [ToolMessage(content=\"[{'url': 'https://en.climate-data.org/north-america/united-states-of-america/louisiana-943/r/june-6/', 'content': 'Louisiana weather in June // weather averages ; 27. June, 28 °C | 82 °F · 31 °C | 87 °F ; 28. June, 28 °C | 82 °F · 31 °C | 87 °F ; 29. June, 28 °C | 82 °F · 31 °C |'}, {'url': 'https://world-weather.info/forecast/usa/new_orleans/june-2025/', 'content': 'Detailed ⚡ New Orleans Weather Forecast for June 2025 – day/night 🌡 ... Friday, 27 June. +79°. Day. +88°. Few clouds. Saturday, 28 June. +79°. Day. +88'}]\", name='tavily_search_results_json', id='00efa76e-8e7c-4f2d-beb6-5ad698442055', tool_call_id='call_DZ6vBb2Egm5yeIDOdfLkx95k')]}}}, created_at='2025-06-27T09:31:25.189542+00:00', parent_config={'configurable': {'thread_id': '3', 'thread_ts': '1f053397-7a88-6f18-8002-cb22af246ec5'}})\n",
      "--\n",
      "StateSnapshot(values={'messages': [HumanMessage(content='Whats the weather in LA?', id='b83cd66d-2c5a-4341-b477-eb93bfb948ba'), AIMessage(content='', additional_kwargs={'tool_calls': [{'function': {'arguments': '{\"query\":\"current weather in Los Angeles\"}', 'name': 'tavily_search_results_json'}, 'id': 'call_DZ6vBb2Egm5yeIDOdfLkx95k', 'type': 'function'}]}, response_metadata={'finish_reason': 'tool_calls', 'logprobs': None, 'model_name': 'gpt-3.5-turbo', 'system_fingerprint': None, 'token_usage': {'completion_tokens': 22, 'completion_tokens_details': {'accepted_prediction_tokens': 0, 'audio_tokens': 0, 'reasoning_tokens': 0, 'rejected_prediction_tokens': 0}, 'prompt_tokens': 152, 'prompt_tokens_details': {'audio_tokens': 0, 'cached_tokens': 0}, 'total_tokens': 174}}, id='run-7e37cbe9-ffe9-402c-8028-83a2bebf6f5d-0', tool_calls=[{'name': 'tavily_search_results_json', 'args': {'query': 'current weather in Louisiana'}, 'id': 'call_DZ6vBb2Egm5yeIDOdfLkx95k'}])]}, next=('action',), config={'configurable': {'thread_id': '3', 'thread_ts': '1f053397-7a88-6f18-8002-cb22af246ec5'}}, metadata={'source': 'update', 'step': 2, 'writes': {'llm': {'messages': [HumanMessage(content='Whats the weather in LA?', id='b83cd66d-2c5a-4341-b477-eb93bfb948ba'), AIMessage(content='', additional_kwargs={'tool_calls': [{'function': {'arguments': '{\"query\":\"current weather in Los Angeles\"}', 'name': 'tavily_search_results_json'}, 'id': 'call_DZ6vBb2Egm5yeIDOdfLkx95k', 'type': 'function'}]}, response_metadata={'finish_reason': 'tool_calls', 'logprobs': None, 'model_name': 'gpt-3.5-turbo', 'system_fingerprint': None, 'token_usage': {'completion_tokens': 22, 'completion_tokens_details': {'accepted_prediction_tokens': 0, 'audio_tokens': 0, 'reasoning_tokens': 0, 'rejected_prediction_tokens': 0}, 'prompt_tokens': 152, 'prompt_tokens_details': {'audio_tokens': 0, 'cached_tokens': 0}, 'total_tokens': 174}}, id='run-7e37cbe9-ffe9-402c-8028-83a2bebf6f5d-0', tool_calls=[{'name': 'tavily_search_results_json', 'args': {'query': 'current weather in Louisiana'}, 'id': 'call_DZ6vBb2Egm5yeIDOdfLkx95k'}])]}}}, created_at='2025-06-27T09:31:13.426195+00:00', parent_config={'configurable': {'thread_id': '3', 'thread_ts': '1f053397-0384-66d8-8001-7f3d55e07478'}})\n",
      "--\n",
      "StateSnapshot(values={'messages': [HumanMessage(content='Whats the weather in LA?', id='b83cd66d-2c5a-4341-b477-eb93bfb948ba'), AIMessage(content='', additional_kwargs={'tool_calls': [{'function': {'arguments': '{\"query\":\"current weather in Los Angeles\"}', 'name': 'tavily_search_results_json'}, 'id': 'call_DZ6vBb2Egm5yeIDOdfLkx95k', 'type': 'function'}]}, response_metadata={'finish_reason': 'tool_calls', 'logprobs': None, 'model_name': 'gpt-3.5-turbo', 'system_fingerprint': None, 'token_usage': {'completion_tokens': 22, 'completion_tokens_details': {'accepted_prediction_tokens': 0, 'audio_tokens': 0, 'reasoning_tokens': 0, 'rejected_prediction_tokens': 0}, 'prompt_tokens': 152, 'prompt_tokens_details': {'audio_tokens': 0, 'cached_tokens': 0}, 'total_tokens': 174}}, id='run-7e37cbe9-ffe9-402c-8028-83a2bebf6f5d-0', tool_calls=[{'name': 'tavily_search_results_json', 'args': {'query': 'current weather in Los Angeles'}, 'id': 'call_DZ6vBb2Egm5yeIDOdfLkx95k'}])]}, next=('action',), config={'configurable': {'thread_id': '3', 'thread_ts': '1f053397-0384-66d8-8001-7f3d55e07478'}}, metadata={'source': 'loop', 'step': 1, 'writes': {'llm': {'messages': [AIMessage(content='', additional_kwargs={'tool_calls': [{'function': {'arguments': '{\"query\":\"current weather in Los Angeles\"}', 'name': 'tavily_search_results_json'}, 'id': 'call_DZ6vBb2Egm5yeIDOdfLkx95k', 'type': 'function'}]}, response_metadata={'finish_reason': 'tool_calls', 'logprobs': None, 'model_name': 'gpt-3.5-turbo', 'system_fingerprint': None, 'token_usage': {'completion_tokens': 22, 'completion_tokens_details': {'accepted_prediction_tokens': 0, 'audio_tokens': 0, 'reasoning_tokens': 0, 'rejected_prediction_tokens': 0}, 'prompt_tokens': 152, 'prompt_tokens_details': {'audio_tokens': 0, 'cached_tokens': 0}, 'total_tokens': 174}}, id='run-7e37cbe9-ffe9-402c-8028-83a2bebf6f5d-0', tool_calls=[{'name': 'tavily_search_results_json', 'args': {'query': 'current weather in Los Angeles'}, 'id': 'call_DZ6vBb2Egm5yeIDOdfLkx95k'}])]}}}, created_at='2025-06-27T09:31:00.946279+00:00', parent_config={'configurable': {'thread_id': '3', 'thread_ts': '1f053396-cbab-6d60-8000-b87dfd4f9200'}})\n",
      "--\n",
      "StateSnapshot(values={'messages': [HumanMessage(content='Whats the weather in LA?', id='b83cd66d-2c5a-4341-b477-eb93bfb948ba')]}, next=('llm',), config={'configurable': {'thread_id': '3', 'thread_ts': '1f053396-cbab-6d60-8000-b87dfd4f9200'}}, metadata={'source': 'loop', 'step': 0, 'writes': None}, created_at='2025-06-27T09:30:55.090402+00:00', parent_config={'configurable': {'thread_id': '3', 'thread_ts': '1f053396-cba8-66a6-bfff-ee52e40cefb8'}})\n",
      "--\n",
      "StateSnapshot(values={'messages': []}, next=('__start__',), config={'configurable': {'thread_id': '3', 'thread_ts': '1f053396-cba8-66a6-bfff-ee52e40cefb8'}}, metadata={'source': 'input', 'step': -1, 'writes': {'messages': [HumanMessage(content='Whats the weather in LA?')]}}, created_at='2025-06-27T09:30:55.089006+00:00', parent_config=None)\n",
      "--\n"
     ]
    }
   ],
   "source": [
    "states = []\n",
    "for state in abot.graph.get_state_history(thread):\n",
    "    print(state)\n",
    "    print('--')\n",
    "    states.append(state)"
   ]
  },
  {
   "cell_type": "markdown",
   "id": "449896c8-6ec6-4166-b640-9cd1530336a0",
   "metadata": {},
   "source": [
    "To fetch the same state as was filmed, the offset below is changed to `-3` from `-1`. This accounts for the initial state `__start__` and the first state that are now stored to state memory with the latest version of software."
   ]
  },
  {
   "cell_type": "code",
   "execution_count": 24,
   "id": "4871f644-b131-4065-b7ce-b82c20a41f11",
   "metadata": {
    "height": 30
   },
   "outputs": [],
   "source": [
    "to_replay = states[-3]"
   ]
  },
  {
   "cell_type": "code",
   "execution_count": 25,
   "id": "8c3d8070-3f36-4cf0-a677-508e54359c8f",
   "metadata": {
    "height": 30
   },
   "outputs": [
    {
     "data": {
      "text/plain": [
       "StateSnapshot(values={'messages': [HumanMessage(content='Whats the weather in LA?', id='b83cd66d-2c5a-4341-b477-eb93bfb948ba'), AIMessage(content='', additional_kwargs={'tool_calls': [{'function': {'arguments': '{\"query\":\"current weather in Los Angeles\"}', 'name': 'tavily_search_results_json'}, 'id': 'call_DZ6vBb2Egm5yeIDOdfLkx95k', 'type': 'function'}]}, response_metadata={'finish_reason': 'tool_calls', 'logprobs': None, 'model_name': 'gpt-3.5-turbo', 'system_fingerprint': None, 'token_usage': {'completion_tokens': 22, 'completion_tokens_details': {'accepted_prediction_tokens': 0, 'audio_tokens': 0, 'reasoning_tokens': 0, 'rejected_prediction_tokens': 0}, 'prompt_tokens': 152, 'prompt_tokens_details': {'audio_tokens': 0, 'cached_tokens': 0}, 'total_tokens': 174}}, id='run-7e37cbe9-ffe9-402c-8028-83a2bebf6f5d-0', tool_calls=[{'name': 'tavily_search_results_json', 'args': {'query': 'current weather in Los Angeles'}, 'id': 'call_DZ6vBb2Egm5yeIDOdfLkx95k'}])]}, next=('action',), config={'configurable': {'thread_id': '3', 'thread_ts': '1f053397-0384-66d8-8001-7f3d55e07478'}}, metadata={'source': 'loop', 'step': 1, 'writes': {'llm': {'messages': [AIMessage(content='', additional_kwargs={'tool_calls': [{'function': {'arguments': '{\"query\":\"current weather in Los Angeles\"}', 'name': 'tavily_search_results_json'}, 'id': 'call_DZ6vBb2Egm5yeIDOdfLkx95k', 'type': 'function'}]}, response_metadata={'finish_reason': 'tool_calls', 'logprobs': None, 'model_name': 'gpt-3.5-turbo', 'system_fingerprint': None, 'token_usage': {'completion_tokens': 22, 'completion_tokens_details': {'accepted_prediction_tokens': 0, 'audio_tokens': 0, 'reasoning_tokens': 0, 'rejected_prediction_tokens': 0}, 'prompt_tokens': 152, 'prompt_tokens_details': {'audio_tokens': 0, 'cached_tokens': 0}, 'total_tokens': 174}}, id='run-7e37cbe9-ffe9-402c-8028-83a2bebf6f5d-0', tool_calls=[{'name': 'tavily_search_results_json', 'args': {'query': 'current weather in Los Angeles'}, 'id': 'call_DZ6vBb2Egm5yeIDOdfLkx95k'}])]}}}, created_at='2025-06-27T09:31:00.946279+00:00', parent_config={'configurable': {'thread_id': '3', 'thread_ts': '1f053396-cbab-6d60-8000-b87dfd4f9200'}})"
      ]
     },
     "execution_count": 25,
     "metadata": {},
     "output_type": "execute_result"
    }
   ],
   "source": [
    "to_replay"
   ]
  },
  {
   "cell_type": "code",
   "execution_count": 26,
   "id": "98f3be1d-cc4c-41fa-9863-3e386e88e305",
   "metadata": {
    "height": 64
   },
   "outputs": [
    {
     "name": "stdout",
     "output_type": "stream",
     "text": [
      "Calling: {'name': 'tavily_search_results_json', 'args': {'query': 'current weather in Los Angeles'}, 'id': 'call_DZ6vBb2Egm5yeIDOdfLkx95k'}\n",
      "Back to the model!\n",
      "{'messages': [ToolMessage(content=\"[{'url': 'https://weathershogun.com/weather/usa/ca/los-angeles/451/june/2025-06-27', 'content': 'Los Angeles, California weather forecast for Friday, June 27, 2025. Get the latest on temperature, precipitation, wind speed, and UV. ... °F °C Today Tomorrow Hourly 7 days 30 days May Los Angeles, California Weather: Friday, June 27, 2025. Sunny weather, clear skies and sunny weather. Day 75'}, {'url': 'https://world-weather.info/forecast/usa/los_angeles/june-2025/', 'content': 'Detailed ⚡ Los Angeles Weather Forecast for June 2025 - day/night 🌡️ temperatures, precipitations - World-Weather.info. Add the current city. Search. Weather; Archive; Weather Widget °F. World; United States; California; Weather in Los Angeles; ... 27 +82° +63° 28 +82° +63° 29'}]\", name='tavily_search_results_json', id='29c22f3e-e9e4-4fec-aa26-052e99052619', tool_call_id='call_DZ6vBb2Egm5yeIDOdfLkx95k')]}\n",
      "{'messages': [HumanMessage(content='Whats the weather in LA?', id='b83cd66d-2c5a-4341-b477-eb93bfb948ba'), AIMessage(content='', additional_kwargs={'tool_calls': [{'function': {'arguments': '{\"query\":\"current weather in Los Angeles\"}', 'name': 'tavily_search_results_json'}, 'id': 'call_DZ6vBb2Egm5yeIDOdfLkx95k', 'type': 'function'}]}, response_metadata={'finish_reason': 'tool_calls', 'logprobs': None, 'model_name': 'gpt-3.5-turbo', 'system_fingerprint': None, 'token_usage': {'completion_tokens': 22, 'completion_tokens_details': {'accepted_prediction_tokens': 0, 'audio_tokens': 0, 'reasoning_tokens': 0, 'rejected_prediction_tokens': 0}, 'prompt_tokens': 152, 'prompt_tokens_details': {'audio_tokens': 0, 'cached_tokens': 0}, 'total_tokens': 174}}, id='run-7e37cbe9-ffe9-402c-8028-83a2bebf6f5d-0', tool_calls=[{'name': 'tavily_search_results_json', 'args': {'query': 'current weather in Los Angeles'}, 'id': 'call_DZ6vBb2Egm5yeIDOdfLkx95k'}]), ToolMessage(content=\"[{'url': 'https://weathershogun.com/weather/usa/ca/los-angeles/451/june/2025-06-27', 'content': 'Los Angeles, California weather forecast for Friday, June 27, 2025. Get the latest on temperature, precipitation, wind speed, and UV. ... °F °C Today Tomorrow Hourly 7 days 30 days May Los Angeles, California Weather: Friday, June 27, 2025. Sunny weather, clear skies and sunny weather. Day 75'}, {'url': 'https://world-weather.info/forecast/usa/los_angeles/june-2025/', 'content': 'Detailed ⚡ Los Angeles Weather Forecast for June 2025 - day/night 🌡️ temperatures, precipitations - World-Weather.info. Add the current city. Search. Weather; Archive; Weather Widget °F. World; United States; California; Weather in Los Angeles; ... 27 +82° +63° 28 +82° +63° 29'}]\", name='tavily_search_results_json', id='29c22f3e-e9e4-4fec-aa26-052e99052619', tool_call_id='call_DZ6vBb2Egm5yeIDOdfLkx95k'), AIMessage(content='The current weather in Los Angeles is sunny with clear skies and a temperature of 75°F.', response_metadata={'token_usage': {'completion_tokens': 20, 'prompt_tokens': 408, 'total_tokens': 428, 'prompt_tokens_details': {'cached_tokens': 0, 'audio_tokens': 0}, 'completion_tokens_details': {'reasoning_tokens': 0, 'audio_tokens': 0, 'accepted_prediction_tokens': 0, 'rejected_prediction_tokens': 0}}, 'model_name': 'gpt-3.5-turbo', 'system_fingerprint': None, 'finish_reason': 'stop', 'logprobs': None}, id='run-3c90e061-5648-4f00-bfd3-ccd92d650c61-0')]}\n",
      "{'messages': [AIMessage(content='The current weather in Los Angeles is sunny with clear skies and a temperature of 75°F.', response_metadata={'token_usage': {'completion_tokens': 20, 'prompt_tokens': 408, 'total_tokens': 428, 'prompt_tokens_details': {'cached_tokens': 0, 'audio_tokens': 0}, 'completion_tokens_details': {'reasoning_tokens': 0, 'audio_tokens': 0, 'accepted_prediction_tokens': 0, 'rejected_prediction_tokens': 0}}, 'model_name': 'gpt-3.5-turbo', 'system_fingerprint': None, 'finish_reason': 'stop', 'logprobs': None}, id='run-3c90e061-5648-4f00-bfd3-ccd92d650c61-0')]}\n"
     ]
    }
   ],
   "source": [
    "for event in abot.graph.stream(None, to_replay.config):\n",
    "    for k, v in event.items():\n",
    "        print(v)"
   ]
  },
  {
   "cell_type": "markdown",
   "id": "005353dc-630b-4b40-ab19-56c57ac06611",
   "metadata": {},
   "source": [
    "## Go back in time and edit"
   ]
  },
  {
   "cell_type": "code",
   "execution_count": 27,
   "id": "0ad8a6cc-65d4-4ce7-87aa-4e67d7c23d7b",
   "metadata": {
    "height": 30
   },
   "outputs": [
    {
     "data": {
      "text/plain": [
       "StateSnapshot(values={'messages': [HumanMessage(content='Whats the weather in LA?', id='b83cd66d-2c5a-4341-b477-eb93bfb948ba'), AIMessage(content='', additional_kwargs={'tool_calls': [{'function': {'arguments': '{\"query\":\"current weather in Los Angeles\"}', 'name': 'tavily_search_results_json'}, 'id': 'call_DZ6vBb2Egm5yeIDOdfLkx95k', 'type': 'function'}]}, response_metadata={'finish_reason': 'tool_calls', 'logprobs': None, 'model_name': 'gpt-3.5-turbo', 'system_fingerprint': None, 'token_usage': {'completion_tokens': 22, 'completion_tokens_details': {'accepted_prediction_tokens': 0, 'audio_tokens': 0, 'reasoning_tokens': 0, 'rejected_prediction_tokens': 0}, 'prompt_tokens': 152, 'prompt_tokens_details': {'audio_tokens': 0, 'cached_tokens': 0}, 'total_tokens': 174}}, id='run-7e37cbe9-ffe9-402c-8028-83a2bebf6f5d-0', tool_calls=[{'name': 'tavily_search_results_json', 'args': {'query': 'current weather in Los Angeles'}, 'id': 'call_DZ6vBb2Egm5yeIDOdfLkx95k'}])]}, next=('action',), config={'configurable': {'thread_id': '3', 'thread_ts': '1f053397-0384-66d8-8001-7f3d55e07478'}}, metadata={'source': 'loop', 'step': 1, 'writes': {'llm': {'messages': [AIMessage(content='', additional_kwargs={'tool_calls': [{'function': {'arguments': '{\"query\":\"current weather in Los Angeles\"}', 'name': 'tavily_search_results_json'}, 'id': 'call_DZ6vBb2Egm5yeIDOdfLkx95k', 'type': 'function'}]}, response_metadata={'finish_reason': 'tool_calls', 'logprobs': None, 'model_name': 'gpt-3.5-turbo', 'system_fingerprint': None, 'token_usage': {'completion_tokens': 22, 'completion_tokens_details': {'accepted_prediction_tokens': 0, 'audio_tokens': 0, 'reasoning_tokens': 0, 'rejected_prediction_tokens': 0}, 'prompt_tokens': 152, 'prompt_tokens_details': {'audio_tokens': 0, 'cached_tokens': 0}, 'total_tokens': 174}}, id='run-7e37cbe9-ffe9-402c-8028-83a2bebf6f5d-0', tool_calls=[{'name': 'tavily_search_results_json', 'args': {'query': 'current weather in Los Angeles'}, 'id': 'call_DZ6vBb2Egm5yeIDOdfLkx95k'}])]}}}, created_at='2025-06-27T09:31:00.946279+00:00', parent_config={'configurable': {'thread_id': '3', 'thread_ts': '1f053396-cbab-6d60-8000-b87dfd4f9200'}})"
      ]
     },
     "execution_count": 27,
     "metadata": {},
     "output_type": "execute_result"
    }
   ],
   "source": [
    "to_replay"
   ]
  },
  {
   "cell_type": "code",
   "execution_count": 28,
   "id": "592b5e62-a203-433c-92a0-3783f490cde1",
   "metadata": {
    "height": 81
   },
   "outputs": [],
   "source": [
    "_id = to_replay.values['messages'][-1].tool_calls[0]['id']\n",
    "to_replay.values['messages'][-1].tool_calls = [{'name': 'tavily_search_results_json',\n",
    "  'args': {'query': 'current weather in LA, accuweather'},\n",
    "  'id': _id}]"
   ]
  },
  {
   "cell_type": "code",
   "execution_count": 29,
   "id": "14fa923c-7e4f-42d1-965f-0f8ccd50fbd7",
   "metadata": {
    "height": 30
   },
   "outputs": [
    {
     "name": "stdout",
     "output_type": "stream",
     "text": [
      "{'messages': [HumanMessage(content='Whats the weather in LA?', id='b83cd66d-2c5a-4341-b477-eb93bfb948ba'), AIMessage(content='', additional_kwargs={'tool_calls': [{'function': {'arguments': '{\"query\":\"current weather in Los Angeles\"}', 'name': 'tavily_search_results_json'}, 'id': 'call_DZ6vBb2Egm5yeIDOdfLkx95k', 'type': 'function'}]}, response_metadata={'finish_reason': 'tool_calls', 'logprobs': None, 'model_name': 'gpt-3.5-turbo', 'system_fingerprint': None, 'token_usage': {'completion_tokens': 22, 'completion_tokens_details': {'accepted_prediction_tokens': 0, 'audio_tokens': 0, 'reasoning_tokens': 0, 'rejected_prediction_tokens': 0}, 'prompt_tokens': 152, 'prompt_tokens_details': {'audio_tokens': 0, 'cached_tokens': 0}, 'total_tokens': 174}}, id='run-7e37cbe9-ffe9-402c-8028-83a2bebf6f5d-0', tool_calls=[{'name': 'tavily_search_results_json', 'args': {'query': 'current weather in LA, accuweather'}, 'id': 'call_DZ6vBb2Egm5yeIDOdfLkx95k'}])]}\n"
     ]
    }
   ],
   "source": [
    "branch_state = abot.graph.update_state(to_replay.config, to_replay.values)"
   ]
  },
  {
   "cell_type": "code",
   "execution_count": 30,
   "id": "570c6245-2837-4ac5-983b-95f61f3ac10d",
   "metadata": {
    "height": 81
   },
   "outputs": [
    {
     "name": "stdout",
     "output_type": "stream",
     "text": [
      "Calling: {'name': 'tavily_search_results_json', 'args': {'query': 'current weather in LA, accuweather'}, 'id': 'call_DZ6vBb2Egm5yeIDOdfLkx95k'}\n",
      "Back to the model!\n",
      "{'messages': [ToolMessage(content=\"[{'url': 'https://weathershogun.com/weather/usa/ca/los-angeles/451/june/2025-06-27', 'content': 'Los Angeles, California weather forecast for Friday, June 27, 2025. Get the latest on temperature, precipitation, wind speed, and UV. ... °F °C Today Tomorrow Hourly 7 days 30 days May Los Angeles, California Weather: Friday, June 27, 2025. Sunny weather, clear skies and sunny weather. Day 75'}, {'url': 'https://www.weather25.com/north-america/usa/california/los-angeles?page=month&month=June', 'content': 'weather25.com\\\\nSearch\\\\nweather in United States\\\\nRemove from your favorite locations\\\\nAdd to my locations\\\\nShare\\\\nweather in United States\\\\n\\\\n# Los Angeles weather in June 2025\\\\n\\\\nPartly cloudy\\\\nClear\\\\nPartly cloudy\\\\nClear\\\\nClear\\\\nClear\\\\nClear\\\\nClear\\\\nClear\\\\nClear\\\\nClear\\\\nClear\\\\nClear\\\\nOvercast\\\\n\\\\n## The average weather in Los Angeles in June\\\\n\\\\nThe temperatures in Los Angeles in June are comfortable with low of 17°C and and high up to 27°C. [...] As it is almost never rain during June in Los Angeles the weather is perfect for hanging out outside and exploring all that Los Angeles has to offer.\\\\n\\\\nOur weather forecast can give you a great sense of what weather to expect in Los Angeles in June 2025.\\\\n\\\\nIf you’re planning to visit Los Angeles in the near future, we highly recommend that you review the 14 day weather forecast for Los Angeles before you arrive.\\\\n\\\\nTemperatures\\\\nRainy Days\\\\nSnowy Days\\\\nDry Days\\\\nRainfall\\\\n11.8 [...] Partly cloudy\\\\nPartly cloudy\\\\nPartly cloudy\\\\nSunny\\\\nSunny\\\\nSunny\\\\nSunny\\\\nSunny\\\\nSunny\\\\nSunny\\\\nSunny\\\\nSunny\\\\nPartly cloudy\\\\nCloudy\\\\nPartly cloudy\\\\nPartly cloudy\\\\nSunny\\\\nPartly cloudy\\\\nSunny\\\\nSunny\\\\nSunny\\\\nSunny\\\\nPartly cloudy\\\\nSunny\\\\nCloudy\\\\nCloudy\\\\nPartly cloudy\\\\nSunny\\\\nPartly cloudy\\\\nSunny\\\\n\\\\n## Explore the weather in Los Angeles in other months\\\\n\\\\n## Los Angeles annual weather'}]\", name='tavily_search_results_json', id='22bcc7a7-c012-4936-8dbc-237e5a03af1a', tool_call_id='call_DZ6vBb2Egm5yeIDOdfLkx95k')]}\n",
      "{'messages': [HumanMessage(content='Whats the weather in LA?', id='b83cd66d-2c5a-4341-b477-eb93bfb948ba'), AIMessage(content='', additional_kwargs={'tool_calls': [{'function': {'arguments': '{\"query\":\"current weather in Los Angeles\"}', 'name': 'tavily_search_results_json'}, 'id': 'call_DZ6vBb2Egm5yeIDOdfLkx95k', 'type': 'function'}]}, response_metadata={'finish_reason': 'tool_calls', 'logprobs': None, 'model_name': 'gpt-3.5-turbo', 'system_fingerprint': None, 'token_usage': {'completion_tokens': 22, 'completion_tokens_details': {'accepted_prediction_tokens': 0, 'audio_tokens': 0, 'reasoning_tokens': 0, 'rejected_prediction_tokens': 0}, 'prompt_tokens': 152, 'prompt_tokens_details': {'audio_tokens': 0, 'cached_tokens': 0}, 'total_tokens': 174}}, id='run-7e37cbe9-ffe9-402c-8028-83a2bebf6f5d-0', tool_calls=[{'name': 'tavily_search_results_json', 'args': {'query': 'current weather in LA, accuweather'}, 'id': 'call_DZ6vBb2Egm5yeIDOdfLkx95k'}]), ToolMessage(content=\"[{'url': 'https://weathershogun.com/weather/usa/ca/los-angeles/451/june/2025-06-27', 'content': 'Los Angeles, California weather forecast for Friday, June 27, 2025. Get the latest on temperature, precipitation, wind speed, and UV. ... °F °C Today Tomorrow Hourly 7 days 30 days May Los Angeles, California Weather: Friday, June 27, 2025. Sunny weather, clear skies and sunny weather. Day 75'}, {'url': 'https://www.weather25.com/north-america/usa/california/los-angeles?page=month&month=June', 'content': 'weather25.com\\\\nSearch\\\\nweather in United States\\\\nRemove from your favorite locations\\\\nAdd to my locations\\\\nShare\\\\nweather in United States\\\\n\\\\n# Los Angeles weather in June 2025\\\\n\\\\nPartly cloudy\\\\nClear\\\\nPartly cloudy\\\\nClear\\\\nClear\\\\nClear\\\\nClear\\\\nClear\\\\nClear\\\\nClear\\\\nClear\\\\nClear\\\\nClear\\\\nOvercast\\\\n\\\\n## The average weather in Los Angeles in June\\\\n\\\\nThe temperatures in Los Angeles in June are comfortable with low of 17°C and and high up to 27°C. [...] As it is almost never rain during June in Los Angeles the weather is perfect for hanging out outside and exploring all that Los Angeles has to offer.\\\\n\\\\nOur weather forecast can give you a great sense of what weather to expect in Los Angeles in June 2025.\\\\n\\\\nIf you’re planning to visit Los Angeles in the near future, we highly recommend that you review the 14 day weather forecast for Los Angeles before you arrive.\\\\n\\\\nTemperatures\\\\nRainy Days\\\\nSnowy Days\\\\nDry Days\\\\nRainfall\\\\n11.8 [...] Partly cloudy\\\\nPartly cloudy\\\\nPartly cloudy\\\\nSunny\\\\nSunny\\\\nSunny\\\\nSunny\\\\nSunny\\\\nSunny\\\\nSunny\\\\nSunny\\\\nSunny\\\\nPartly cloudy\\\\nCloudy\\\\nPartly cloudy\\\\nPartly cloudy\\\\nSunny\\\\nPartly cloudy\\\\nSunny\\\\nSunny\\\\nSunny\\\\nSunny\\\\nPartly cloudy\\\\nSunny\\\\nCloudy\\\\nCloudy\\\\nPartly cloudy\\\\nSunny\\\\nPartly cloudy\\\\nSunny\\\\n\\\\n## Explore the weather in Los Angeles in other months\\\\n\\\\n## Los Angeles annual weather'}]\", name='tavily_search_results_json', id='22bcc7a7-c012-4936-8dbc-237e5a03af1a', tool_call_id='call_DZ6vBb2Egm5yeIDOdfLkx95k'), AIMessage(content='The current weather in Los Angeles is sunny with clear skies and a temperature of 75°F.', response_metadata={'token_usage': {'completion_tokens': 20, 'prompt_tokens': 681, 'total_tokens': 701, 'prompt_tokens_details': {'cached_tokens': 0, 'audio_tokens': 0}, 'completion_tokens_details': {'reasoning_tokens': 0, 'audio_tokens': 0, 'accepted_prediction_tokens': 0, 'rejected_prediction_tokens': 0}}, 'model_name': 'gpt-3.5-turbo', 'system_fingerprint': None, 'finish_reason': 'stop', 'logprobs': None}, id='run-470ed980-84a0-41b6-9602-98bde5dc85ce-0')]}\n",
      "{'messages': [AIMessage(content='The current weather in Los Angeles is sunny with clear skies and a temperature of 75°F.', response_metadata={'token_usage': {'completion_tokens': 20, 'prompt_tokens': 681, 'total_tokens': 701, 'prompt_tokens_details': {'cached_tokens': 0, 'audio_tokens': 0}, 'completion_tokens_details': {'reasoning_tokens': 0, 'audio_tokens': 0, 'accepted_prediction_tokens': 0, 'rejected_prediction_tokens': 0}}, 'model_name': 'gpt-3.5-turbo', 'system_fingerprint': None, 'finish_reason': 'stop', 'logprobs': None}, id='run-470ed980-84a0-41b6-9602-98bde5dc85ce-0')]}\n"
     ]
    }
   ],
   "source": [
    "for event in abot.graph.stream(None, branch_state):\n",
    "    for k, v in event.items():\n",
    "        if k != \"__end__\":\n",
    "            print(v)"
   ]
  },
  {
   "cell_type": "markdown",
   "id": "f1016ce7-368d-4922-9044-fcdfd47c273b",
   "metadata": {},
   "source": [
    "## Add message to a state at a given time"
   ]
  },
  {
   "cell_type": "code",
   "execution_count": 31,
   "id": "6b910915-b087-4d35-afff-0ec30a5852f1",
   "metadata": {
    "height": 30
   },
   "outputs": [
    {
     "data": {
      "text/plain": [
       "StateSnapshot(values={'messages': [HumanMessage(content='Whats the weather in LA?', id='b83cd66d-2c5a-4341-b477-eb93bfb948ba'), AIMessage(content='', additional_kwargs={'tool_calls': [{'function': {'arguments': '{\"query\":\"current weather in Los Angeles\"}', 'name': 'tavily_search_results_json'}, 'id': 'call_DZ6vBb2Egm5yeIDOdfLkx95k', 'type': 'function'}]}, response_metadata={'finish_reason': 'tool_calls', 'logprobs': None, 'model_name': 'gpt-3.5-turbo', 'system_fingerprint': None, 'token_usage': {'completion_tokens': 22, 'completion_tokens_details': {'accepted_prediction_tokens': 0, 'audio_tokens': 0, 'reasoning_tokens': 0, 'rejected_prediction_tokens': 0}, 'prompt_tokens': 152, 'prompt_tokens_details': {'audio_tokens': 0, 'cached_tokens': 0}, 'total_tokens': 174}}, id='run-7e37cbe9-ffe9-402c-8028-83a2bebf6f5d-0', tool_calls=[{'name': 'tavily_search_results_json', 'args': {'query': 'current weather in LA, accuweather'}, 'id': 'call_DZ6vBb2Egm5yeIDOdfLkx95k'}])]}, next=('action',), config={'configurable': {'thread_id': '3', 'thread_ts': '1f053397-0384-66d8-8001-7f3d55e07478'}}, metadata={'source': 'loop', 'step': 1, 'writes': {'llm': {'messages': [AIMessage(content='', additional_kwargs={'tool_calls': [{'function': {'arguments': '{\"query\":\"current weather in Los Angeles\"}', 'name': 'tavily_search_results_json'}, 'id': 'call_DZ6vBb2Egm5yeIDOdfLkx95k', 'type': 'function'}]}, response_metadata={'finish_reason': 'tool_calls', 'logprobs': None, 'model_name': 'gpt-3.5-turbo', 'system_fingerprint': None, 'token_usage': {'completion_tokens': 22, 'completion_tokens_details': {'accepted_prediction_tokens': 0, 'audio_tokens': 0, 'reasoning_tokens': 0, 'rejected_prediction_tokens': 0}, 'prompt_tokens': 152, 'prompt_tokens_details': {'audio_tokens': 0, 'cached_tokens': 0}, 'total_tokens': 174}}, id='run-7e37cbe9-ffe9-402c-8028-83a2bebf6f5d-0', tool_calls=[{'name': 'tavily_search_results_json', 'args': {'query': 'current weather in Los Angeles'}, 'id': 'call_DZ6vBb2Egm5yeIDOdfLkx95k'}])]}}}, created_at='2025-06-27T09:31:00.946279+00:00', parent_config={'configurable': {'thread_id': '3', 'thread_ts': '1f053396-cbab-6d60-8000-b87dfd4f9200'}})"
      ]
     },
     "execution_count": 31,
     "metadata": {},
     "output_type": "execute_result"
    }
   ],
   "source": [
    "to_replay"
   ]
  },
  {
   "cell_type": "code",
   "execution_count": 32,
   "id": "c4feb6cc-5129-4a99-bb45-851bc07b5709",
   "metadata": {
    "height": 30
   },
   "outputs": [],
   "source": [
    "_id = to_replay.values['messages'][-1].tool_calls[0]['id']"
   ]
  },
  {
   "cell_type": "code",
   "execution_count": 33,
   "id": "e85a02b4-96cc-4b01-8792-397a774eb499",
   "metadata": {
    "height": 98
   },
   "outputs": [],
   "source": [
    "state_update = {\"messages\": [ToolMessage(\n",
    "    tool_call_id=_id,\n",
    "    name=\"tavily_search_results_json\",\n",
    "    content=\"54 degree celcius\",\n",
    ")]}"
   ]
  },
  {
   "cell_type": "code",
   "execution_count": 34,
   "id": "ae8b86a6-5e20-4252-b1d8-009b8318345a",
   "metadata": {
    "height": 81
   },
   "outputs": [],
   "source": [
    "branch_and_add = abot.graph.update_state(\n",
    "    to_replay.config, \n",
    "    state_update, \n",
    "    as_node=\"action\")"
   ]
  },
  {
   "cell_type": "code",
   "execution_count": 35,
   "id": "af925917-b746-48c9-ac74-62fefbe5246c",
   "metadata": {
    "height": 64
   },
   "outputs": [
    {
     "name": "stdout",
     "output_type": "stream",
     "text": [
      "{'messages': [HumanMessage(content='Whats the weather in LA?', id='b83cd66d-2c5a-4341-b477-eb93bfb948ba'), AIMessage(content='', additional_kwargs={'tool_calls': [{'function': {'arguments': '{\"query\":\"current weather in Los Angeles\"}', 'name': 'tavily_search_results_json'}, 'id': 'call_DZ6vBb2Egm5yeIDOdfLkx95k', 'type': 'function'}]}, response_metadata={'finish_reason': 'tool_calls', 'logprobs': None, 'model_name': 'gpt-3.5-turbo', 'system_fingerprint': None, 'token_usage': {'completion_tokens': 22, 'completion_tokens_details': {'accepted_prediction_tokens': 0, 'audio_tokens': 0, 'reasoning_tokens': 0, 'rejected_prediction_tokens': 0}, 'prompt_tokens': 152, 'prompt_tokens_details': {'audio_tokens': 0, 'cached_tokens': 0}, 'total_tokens': 174}}, id='run-7e37cbe9-ffe9-402c-8028-83a2bebf6f5d-0', tool_calls=[{'name': 'tavily_search_results_json', 'args': {'query': 'current weather in Los Angeles'}, 'id': 'call_DZ6vBb2Egm5yeIDOdfLkx95k'}]), ToolMessage(content='54 degree celcius', name='tavily_search_results_json', id='30a66d35-63b3-4795-b455-0e617f590017', tool_call_id='call_DZ6vBb2Egm5yeIDOdfLkx95k'), AIMessage(content='The current weather in Los Angeles is 54 degrees Celsius.', response_metadata={'token_usage': {'completion_tokens': 13, 'prompt_tokens': 191, 'total_tokens': 204, 'prompt_tokens_details': {'cached_tokens': 0, 'audio_tokens': 0}, 'completion_tokens_details': {'reasoning_tokens': 0, 'audio_tokens': 0, 'accepted_prediction_tokens': 0, 'rejected_prediction_tokens': 0}}, 'model_name': 'gpt-3.5-turbo', 'system_fingerprint': None, 'finish_reason': 'stop', 'logprobs': None}, id='run-2aefed74-6416-4eae-a956-45d5c2075603-0')]}\n",
      "{'messages': [AIMessage(content='The current weather in Los Angeles is 54 degrees Celsius.', response_metadata={'token_usage': {'completion_tokens': 13, 'prompt_tokens': 191, 'total_tokens': 204, 'prompt_tokens_details': {'cached_tokens': 0, 'audio_tokens': 0}, 'completion_tokens_details': {'reasoning_tokens': 0, 'audio_tokens': 0, 'accepted_prediction_tokens': 0, 'rejected_prediction_tokens': 0}}, 'model_name': 'gpt-3.5-turbo', 'system_fingerprint': None, 'finish_reason': 'stop', 'logprobs': None}, id='run-2aefed74-6416-4eae-a956-45d5c2075603-0')]}\n"
     ]
    }
   ],
   "source": [
    "for event in abot.graph.stream(None, branch_and_add):\n",
    "    for k, v in event.items():\n",
    "        print(v)"
   ]
  },
  {
   "cell_type": "markdown",
   "id": "a6b1de51-f1dd-4719-89e6-01c21d2b304e",
   "metadata": {},
   "source": [
    "# Extra Practice"
   ]
  },
  {
   "cell_type": "markdown",
   "id": "31e06033-59fd-4d6b-8891-fb8bc2d7a037",
   "metadata": {},
   "source": [
    "## Build a small graph\n",
    "This is a small simple graph you can tinker with if you want more insight into controlling state memory."
   ]
  },
  {
   "cell_type": "code",
   "execution_count": 36,
   "id": "7614683e-1c13-4518-b464-263fb91be761",
   "metadata": {
    "height": 64
   },
   "outputs": [],
   "source": [
    "from dotenv import load_dotenv\n",
    "\n",
    "_ = load_dotenv()"
   ]
  },
  {
   "cell_type": "code",
   "execution_count": 37,
   "id": "efbef86a-75fe-416f-99ab-70b181d934dc",
   "metadata": {
    "height": 81
   },
   "outputs": [],
   "source": [
    "from langgraph.graph import StateGraph, END\n",
    "from typing import TypedDict, Annotated\n",
    "import operator\n",
    "from langgraph.checkpoint.sqlite import SqliteSaver"
   ]
  },
  {
   "cell_type": "markdown",
   "id": "67c972f7-5a14-49da-9d82-37105a6637ed",
   "metadata": {},
   "source": [
    "Define a simple 2 node graph with the following state:\n",
    "-`lnode`: last node\n",
    "-`scratch`: a scratchpad location\n",
    "-`count` : a counter that is incremented each step"
   ]
  },
  {
   "cell_type": "code",
   "execution_count": 38,
   "id": "b846f637-5e98-4a7d-9ca0-5144302b7cef",
   "metadata": {
    "height": 81
   },
   "outputs": [],
   "source": [
    "class AgentState(TypedDict):\n",
    "    lnode: str\n",
    "    scratch: str\n",
    "    count: Annotated[int, operator.add]"
   ]
  },
  {
   "cell_type": "code",
   "execution_count": 39,
   "id": "b8bb1c6d-41b7-4f5b-807b-ecbdec82d8d6",
   "metadata": {
    "height": 183
   },
   "outputs": [],
   "source": [
    "def node1(state: AgentState):\n",
    "    print(f\"node1, count:{state['count']}\")\n",
    "    return {\"lnode\": \"node_1\",\n",
    "            \"count\": 1,\n",
    "           }\n",
    "def node2(state: AgentState):\n",
    "    print(f\"node2, count:{state['count']}\")\n",
    "    return {\"lnode\": \"node_2\",\n",
    "            \"count\": 1,\n",
    "           }"
   ]
  },
  {
   "cell_type": "markdown",
   "id": "6adc403b-10d2-4a6c-bd21-c84bb8e0c8fc",
   "metadata": {},
   "source": [
    "The graph goes N1->N2->N1... but breaks after count reaches 3."
   ]
  },
  {
   "cell_type": "code",
   "execution_count": 40,
   "id": "b2c6d249-4793-41c5-8e80-40f1eedc4baf",
   "metadata": {
    "height": 47
   },
   "outputs": [],
   "source": [
    "def should_continue(state):\n",
    "    return state[\"count\"] < 3"
   ]
  },
  {
   "cell_type": "code",
   "execution_count": 41,
   "id": "4e3721d9-4508-48fa-9be0-93af20144072",
   "metadata": {
    "height": 166
   },
   "outputs": [],
   "source": [
    "builder = StateGraph(AgentState)\n",
    "builder.add_node(\"Node1\", node1)\n",
    "builder.add_node(\"Node2\", node2)\n",
    "\n",
    "builder.add_edge(\"Node1\", \"Node2\")\n",
    "builder.add_conditional_edges(\"Node2\", \n",
    "                              should_continue, \n",
    "                              {True: \"Node1\", False: END})\n",
    "builder.set_entry_point(\"Node1\")"
   ]
  },
  {
   "cell_type": "code",
   "execution_count": 42,
   "id": "8d35d70c-daeb-49c1-9b7c-90cc2a7ca142",
   "metadata": {
    "height": 47
   },
   "outputs": [],
   "source": [
    "memory = SqliteSaver.from_conn_string(\":memory:\")\n",
    "graph = builder.compile(checkpointer=memory)"
   ]
  },
  {
   "cell_type": "markdown",
   "id": "c57051f5-f7fb-4be5-a2f5-21cb1aa4fecb",
   "metadata": {},
   "source": [
    "### Run it!\n",
    "Now, set the thread and run!"
   ]
  },
  {
   "cell_type": "code",
   "execution_count": 43,
   "id": "edba3a1a-84a7-45eb-a6ee-74a612b68d54",
   "metadata": {
    "height": 47
   },
   "outputs": [
    {
     "name": "stdout",
     "output_type": "stream",
     "text": [
      "node1, count:0\n",
      "node2, count:1\n",
      "node1, count:2\n",
      "node2, count:3\n"
     ]
    },
    {
     "data": {
      "text/plain": [
       "{'lnode': 'node_2', 'scratch': 'hi', 'count': 4}"
      ]
     },
     "execution_count": 43,
     "metadata": {},
     "output_type": "execute_result"
    }
   ],
   "source": [
    "thread = {\"configurable\": {\"thread_id\": str(1)}}\n",
    "graph.invoke({\"count\":0, \"scratch\":\"hi\"},thread)"
   ]
  },
  {
   "cell_type": "markdown",
   "id": "2ce7b035-bfdb-4642-8750-47d188277423",
   "metadata": {},
   "source": [
    "### Look at current state"
   ]
  },
  {
   "cell_type": "markdown",
   "id": "43324904-a6f4-4299-86de-e0218e4cb225",
   "metadata": {},
   "source": [
    "Get the current state. Note the `values` which are the AgentState. Note the `config` and the `thread_ts`. You will be using those to refer to snapshots below."
   ]
  },
  {
   "cell_type": "code",
   "execution_count": 44,
   "id": "f2513b41-31b2-46e6-84f6-0c519f697973",
   "metadata": {
    "height": 30
   },
   "outputs": [
    {
     "data": {
      "text/plain": [
       "StateSnapshot(values={'lnode': 'node_2', 'scratch': 'hi', 'count': 4}, next=(), config={'configurable': {'thread_id': '1', 'thread_ts': '1f05339a-4010-636a-8004-eb30d36cbd2c'}}, metadata={'source': 'loop', 'step': 4, 'writes': {'Node2': {'count': 1, 'lnode': 'node_2'}}}, created_at='2025-06-27T09:32:27.825641+00:00', parent_config={'configurable': {'thread_id': '1', 'thread_ts': '1f05339a-400a-6fb4-8003-38c343477599'}})"
      ]
     },
     "execution_count": 44,
     "metadata": {},
     "output_type": "execute_result"
    }
   ],
   "source": [
    "graph.get_state(thread)"
   ]
  },
  {
   "cell_type": "markdown",
   "id": "7f7be4ae-24f0-4362-bd99-55ad38fe0112",
   "metadata": {},
   "source": [
    "View all the statesnapshots in memory. You can use the displayed `count` agentstate variable to help track what you see. Notice the most recent snapshots are returned by the iterator first. Also note that there is a handy `step` variable in the metadata that counts the number of steps in the graph execution. This is a bit detailed - but you can also notice that the *parent_config* is the *config* of the previous node. At initial startup, additional states are inserted into memory to create a parent. This is something to check when you branch or *time travel* below."
   ]
  },
  {
   "cell_type": "markdown",
   "id": "18647be0-c7c6-4ec5-9454-54a034fcd053",
   "metadata": {},
   "source": [
    "### Look at state history"
   ]
  },
  {
   "cell_type": "code",
   "execution_count": 45,
   "id": "686fa197-c97f-4ae6-82d2-938bbe5542c1",
   "metadata": {
    "height": 47
   },
   "outputs": [
    {
     "name": "stdout",
     "output_type": "stream",
     "text": [
      "StateSnapshot(values={'lnode': 'node_2', 'scratch': 'hi', 'count': 4}, next=(), config={'configurable': {'thread_id': '1', 'thread_ts': '1f05339a-4010-636a-8004-eb30d36cbd2c'}}, metadata={'source': 'loop', 'step': 4, 'writes': {'Node2': {'count': 1, 'lnode': 'node_2'}}}, created_at='2025-06-27T09:32:27.825641+00:00', parent_config={'configurable': {'thread_id': '1', 'thread_ts': '1f05339a-400a-6fb4-8003-38c343477599'}}) \n",
      "\n",
      "StateSnapshot(values={'lnode': 'node_1', 'scratch': 'hi', 'count': 3}, next=('Node2',), config={'configurable': {'thread_id': '1', 'thread_ts': '1f05339a-400a-6fb4-8003-38c343477599'}}, metadata={'source': 'loop', 'step': 3, 'writes': {'Node1': {'count': 1, 'lnode': 'node_1'}}}, created_at='2025-06-27T09:32:27.823494+00:00', parent_config={'configurable': {'thread_id': '1', 'thread_ts': '1f05339a-4007-6044-8002-0aff90ca15ff'}}) \n",
      "\n",
      "StateSnapshot(values={'lnode': 'node_2', 'scratch': 'hi', 'count': 2}, next=('Node1',), config={'configurable': {'thread_id': '1', 'thread_ts': '1f05339a-4007-6044-8002-0aff90ca15ff'}}, metadata={'source': 'loop', 'step': 2, 'writes': {'Node2': {'count': 1, 'lnode': 'node_2'}}}, created_at='2025-06-27T09:32:27.821871+00:00', parent_config={'configurable': {'thread_id': '1', 'thread_ts': '1f05339a-4001-64be-8001-df856dc9827f'}}) \n",
      "\n",
      "StateSnapshot(values={'lnode': 'node_1', 'scratch': 'hi', 'count': 1}, next=('Node2',), config={'configurable': {'thread_id': '1', 'thread_ts': '1f05339a-4001-64be-8001-df856dc9827f'}}, metadata={'source': 'loop', 'step': 1, 'writes': {'Node1': {'count': 1, 'lnode': 'node_1'}}}, created_at='2025-06-27T09:32:27.819530+00:00', parent_config={'configurable': {'thread_id': '1', 'thread_ts': '1f05339a-3ffb-6bc2-8000-5615f83bdfea'}}) \n",
      "\n",
      "StateSnapshot(values={'scratch': 'hi', 'count': 0}, next=('Node1',), config={'configurable': {'thread_id': '1', 'thread_ts': '1f05339a-3ffb-6bc2-8000-5615f83bdfea'}}, metadata={'source': 'loop', 'step': 0, 'writes': None}, created_at='2025-06-27T09:32:27.817251+00:00', parent_config={'configurable': {'thread_id': '1', 'thread_ts': '1f05339a-3ff8-6396-bfff-7142b9bb61fb'}}) \n",
      "\n",
      "StateSnapshot(values={'count': 0}, next=('__start__',), config={'configurable': {'thread_id': '1', 'thread_ts': '1f05339a-3ff8-6396-bfff-7142b9bb61fb'}}, metadata={'source': 'input', 'step': -1, 'writes': {'count': 0, 'scratch': 'hi'}}, created_at='2025-06-27T09:32:27.815810+00:00', parent_config=None) \n",
      "\n"
     ]
    }
   ],
   "source": [
    "for state in graph.get_state_history(thread):\n",
    "    print(state, \"\\n\")"
   ]
  },
  {
   "cell_type": "markdown",
   "id": "dd7850ff-0748-43d7-8956-074fa9fd819f",
   "metadata": {},
   "source": [
    "Store just the `config` into an list. Note the sequence of counts on the right. `get_state_history` returns the most recent snapshots first."
   ]
  },
  {
   "cell_type": "code",
   "execution_count": 46,
   "id": "9f68e604-4f53-46c0-8f06-e7726ec9dcf6",
   "metadata": {
    "height": 81
   },
   "outputs": [
    {
     "name": "stdout",
     "output_type": "stream",
     "text": [
      "{'configurable': {'thread_id': '1', 'thread_ts': '1f05339a-4010-636a-8004-eb30d36cbd2c'}} 4\n",
      "{'configurable': {'thread_id': '1', 'thread_ts': '1f05339a-400a-6fb4-8003-38c343477599'}} 3\n",
      "{'configurable': {'thread_id': '1', 'thread_ts': '1f05339a-4007-6044-8002-0aff90ca15ff'}} 2\n",
      "{'configurable': {'thread_id': '1', 'thread_ts': '1f05339a-4001-64be-8001-df856dc9827f'}} 1\n",
      "{'configurable': {'thread_id': '1', 'thread_ts': '1f05339a-3ffb-6bc2-8000-5615f83bdfea'}} 0\n",
      "{'configurable': {'thread_id': '1', 'thread_ts': '1f05339a-3ff8-6396-bfff-7142b9bb61fb'}} 0\n"
     ]
    }
   ],
   "source": [
    "states = []\n",
    "for state in graph.get_state_history(thread):\n",
    "    states.append(state.config)\n",
    "    print(state.config, state.values['count'])"
   ]
  },
  {
   "cell_type": "markdown",
   "id": "90790095-4080-4e76-b538-47caac7d9699",
   "metadata": {},
   "source": [
    "Grab an early state."
   ]
  },
  {
   "cell_type": "code",
   "execution_count": 47,
   "id": "e1db574e-f158-44cf-b921-f1f4466c314d",
   "metadata": {
    "height": 30
   },
   "outputs": [
    {
     "data": {
      "text/plain": [
       "{'configurable': {'thread_id': '1',\n",
       "  'thread_ts': '1f05339a-4001-64be-8001-df856dc9827f'}}"
      ]
     },
     "execution_count": 47,
     "metadata": {},
     "output_type": "execute_result"
    }
   ],
   "source": [
    "states[-3]"
   ]
  },
  {
   "cell_type": "markdown",
   "id": "2cc233eb-f388-4ecd-bfb5-dac3568d37ce",
   "metadata": {},
   "source": [
    "This is the state after Node1 completed for the first time. Note `next` is `Node2`and `count` is 1."
   ]
  },
  {
   "cell_type": "code",
   "execution_count": 48,
   "id": "240f5039-7916-4c2a-88d5-d363b2898e70",
   "metadata": {
    "height": 30
   },
   "outputs": [
    {
     "data": {
      "text/plain": [
       "StateSnapshot(values={'lnode': 'node_1', 'scratch': 'hi', 'count': 1}, next=('Node2',), config={'configurable': {'thread_id': '1', 'thread_ts': '1f05339a-4001-64be-8001-df856dc9827f'}}, metadata={'source': 'loop', 'step': 1, 'writes': {'Node1': {'count': 1, 'lnode': 'node_1'}}}, created_at='2025-06-27T09:32:27.819530+00:00', parent_config={'configurable': {'thread_id': '1', 'thread_ts': '1f05339a-3ffb-6bc2-8000-5615f83bdfea'}})"
      ]
     },
     "execution_count": 48,
     "metadata": {},
     "output_type": "execute_result"
    }
   ],
   "source": [
    "graph.get_state(states[-3])"
   ]
  },
  {
   "cell_type": "markdown",
   "id": "4872468e-4d23-4840-ae14-c06c1ab4f161",
   "metadata": {},
   "source": [
    "### Go Back in Time\n",
    "Use that state in `invoke` to go back in time. Notice it uses states[-3] as *current_state* and continues to node2,"
   ]
  },
  {
   "cell_type": "code",
   "execution_count": 49,
   "id": "e3049179-b901-4557-a9c4-78afb3d53d27",
   "metadata": {
    "height": 30
   },
   "outputs": [
    {
     "name": "stdout",
     "output_type": "stream",
     "text": [
      "node2, count:1\n",
      "node1, count:2\n",
      "node2, count:3\n"
     ]
    },
    {
     "data": {
      "text/plain": [
       "{'lnode': 'node_2', 'scratch': 'hi', 'count': 4}"
      ]
     },
     "execution_count": 49,
     "metadata": {},
     "output_type": "execute_result"
    }
   ],
   "source": [
    "graph.invoke(None, states[-3])"
   ]
  },
  {
   "cell_type": "markdown",
   "id": "5bf7789a-df3d-4c7e-8899-d96a99d45717",
   "metadata": {},
   "source": [
    "Notice the new states are now in state history. Notice the counts on the far right."
   ]
  },
  {
   "cell_type": "code",
   "execution_count": 50,
   "id": "37fa44ec-9bd1-484b-a415-cc5f50b6e799",
   "metadata": {
    "height": 64
   },
   "outputs": [
    {
     "name": "stdout",
     "output_type": "stream",
     "text": [
      "{'configurable': {'thread_id': '1', 'thread_ts': '1f05339a-ee92-6668-8004-bce8e699f4b4'}} 4\n",
      "{'configurable': {'thread_id': '1', 'thread_ts': '1f05339a-ee8e-6018-8003-2235f639f80a'}} 3\n",
      "{'configurable': {'thread_id': '1', 'thread_ts': '1f05339a-ee89-6b26-8002-e5a7093c5390'}} 2\n",
      "{'configurable': {'thread_id': '1', 'thread_ts': '1f05339a-4010-636a-8004-eb30d36cbd2c'}} 4\n",
      "{'configurable': {'thread_id': '1', 'thread_ts': '1f05339a-400a-6fb4-8003-38c343477599'}} 3\n",
      "{'configurable': {'thread_id': '1', 'thread_ts': '1f05339a-4007-6044-8002-0aff90ca15ff'}} 2\n",
      "{'configurable': {'thread_id': '1', 'thread_ts': '1f05339a-4001-64be-8001-df856dc9827f'}} 1\n",
      "{'configurable': {'thread_id': '1', 'thread_ts': '1f05339a-3ffb-6bc2-8000-5615f83bdfea'}} 0\n",
      "{'configurable': {'thread_id': '1', 'thread_ts': '1f05339a-3ff8-6396-bfff-7142b9bb61fb'}} 0\n"
     ]
    }
   ],
   "source": [
    "thread = {\"configurable\": {\"thread_id\": str(1)}}\n",
    "for state in graph.get_state_history(thread):\n",
    "    print(state.config, state.values['count'])"
   ]
  },
  {
   "cell_type": "markdown",
   "id": "d3c8d305-6752-4cf6-a8cb-7babf3bbd643",
   "metadata": {},
   "source": [
    "You can see the details below. Lots of text, but try to find the node that start the new branch. Notice the parent *config* is not the previous entry in the stack, but is the entry from state[-3]."
   ]
  },
  {
   "cell_type": "code",
   "execution_count": 51,
   "id": "07d25697-fcf0-4a26-9485-3e195b0af225",
   "metadata": {
    "height": 64
   },
   "outputs": [
    {
     "name": "stdout",
     "output_type": "stream",
     "text": [
      "StateSnapshot(values={'lnode': 'node_2', 'scratch': 'hi', 'count': 4}, next=(), config={'configurable': {'thread_id': '1', 'thread_ts': '1f05339a-ee92-6668-8004-bce8e699f4b4'}}, metadata={'source': 'loop', 'step': 4, 'writes': {'Node2': {'count': 1, 'lnode': 'node_2'}}}, created_at='2025-06-27T09:32:46.124176+00:00', parent_config={'configurable': {'thread_id': '1', 'thread_ts': '1f05339a-ee8e-6018-8003-2235f639f80a'}}) \n",
      "\n",
      "StateSnapshot(values={'lnode': 'node_1', 'scratch': 'hi', 'count': 3}, next=('Node2',), config={'configurable': {'thread_id': '1', 'thread_ts': '1f05339a-ee8e-6018-8003-2235f639f80a'}}, metadata={'source': 'loop', 'step': 3, 'writes': {'Node1': {'count': 1, 'lnode': 'node_1'}}}, created_at='2025-06-27T09:32:46.122388+00:00', parent_config={'configurable': {'thread_id': '1', 'thread_ts': '1f05339a-ee89-6b26-8002-e5a7093c5390'}}) \n",
      "\n",
      "StateSnapshot(values={'lnode': 'node_2', 'scratch': 'hi', 'count': 2}, next=('Node1',), config={'configurable': {'thread_id': '1', 'thread_ts': '1f05339a-ee89-6b26-8002-e5a7093c5390'}}, metadata={'source': 'loop', 'step': 2, 'writes': {'Node2': {'count': 1, 'lnode': 'node_2'}}}, created_at='2025-06-27T09:32:46.120616+00:00', parent_config={'configurable': {'thread_id': '1', 'thread_ts': '1f05339a-4001-64be-8001-df856dc9827f'}}) \n",
      "\n",
      "StateSnapshot(values={'lnode': 'node_2', 'scratch': 'hi', 'count': 4}, next=(), config={'configurable': {'thread_id': '1', 'thread_ts': '1f05339a-4010-636a-8004-eb30d36cbd2c'}}, metadata={'source': 'loop', 'step': 4, 'writes': {'Node2': {'count': 1, 'lnode': 'node_2'}}}, created_at='2025-06-27T09:32:27.825641+00:00', parent_config={'configurable': {'thread_id': '1', 'thread_ts': '1f05339a-400a-6fb4-8003-38c343477599'}}) \n",
      "\n",
      "StateSnapshot(values={'lnode': 'node_1', 'scratch': 'hi', 'count': 3}, next=('Node2',), config={'configurable': {'thread_id': '1', 'thread_ts': '1f05339a-400a-6fb4-8003-38c343477599'}}, metadata={'source': 'loop', 'step': 3, 'writes': {'Node1': {'count': 1, 'lnode': 'node_1'}}}, created_at='2025-06-27T09:32:27.823494+00:00', parent_config={'configurable': {'thread_id': '1', 'thread_ts': '1f05339a-4007-6044-8002-0aff90ca15ff'}}) \n",
      "\n",
      "StateSnapshot(values={'lnode': 'node_2', 'scratch': 'hi', 'count': 2}, next=('Node1',), config={'configurable': {'thread_id': '1', 'thread_ts': '1f05339a-4007-6044-8002-0aff90ca15ff'}}, metadata={'source': 'loop', 'step': 2, 'writes': {'Node2': {'count': 1, 'lnode': 'node_2'}}}, created_at='2025-06-27T09:32:27.821871+00:00', parent_config={'configurable': {'thread_id': '1', 'thread_ts': '1f05339a-4001-64be-8001-df856dc9827f'}}) \n",
      "\n",
      "StateSnapshot(values={'lnode': 'node_1', 'scratch': 'hi', 'count': 1}, next=('Node2',), config={'configurable': {'thread_id': '1', 'thread_ts': '1f05339a-4001-64be-8001-df856dc9827f'}}, metadata={'source': 'loop', 'step': 1, 'writes': {'Node1': {'count': 1, 'lnode': 'node_1'}}}, created_at='2025-06-27T09:32:27.819530+00:00', parent_config={'configurable': {'thread_id': '1', 'thread_ts': '1f05339a-3ffb-6bc2-8000-5615f83bdfea'}}) \n",
      "\n",
      "StateSnapshot(values={'scratch': 'hi', 'count': 0}, next=('Node1',), config={'configurable': {'thread_id': '1', 'thread_ts': '1f05339a-3ffb-6bc2-8000-5615f83bdfea'}}, metadata={'source': 'loop', 'step': 0, 'writes': None}, created_at='2025-06-27T09:32:27.817251+00:00', parent_config={'configurable': {'thread_id': '1', 'thread_ts': '1f05339a-3ff8-6396-bfff-7142b9bb61fb'}}) \n",
      "\n",
      "StateSnapshot(values={'count': 0}, next=('__start__',), config={'configurable': {'thread_id': '1', 'thread_ts': '1f05339a-3ff8-6396-bfff-7142b9bb61fb'}}, metadata={'source': 'input', 'step': -1, 'writes': {'count': 0, 'scratch': 'hi'}}, created_at='2025-06-27T09:32:27.815810+00:00', parent_config=None) \n",
      "\n"
     ]
    }
   ],
   "source": [
    "thread = {\"configurable\": {\"thread_id\": str(1)}}\n",
    "for state in graph.get_state_history(thread):\n",
    "    print(state,\"\\n\")"
   ]
  },
  {
   "cell_type": "markdown",
   "id": "d4653f91-761c-4185-8ca2-83de758308c7",
   "metadata": {},
   "source": [
    "### Modify State\n",
    "Let's start by starting a fresh thread and running to clean out history."
   ]
  },
  {
   "cell_type": "code",
   "execution_count": 52,
   "id": "0eaf346c-ce22-4b6a-b18f-d200dfd991de",
   "metadata": {
    "height": 47
   },
   "outputs": [
    {
     "name": "stdout",
     "output_type": "stream",
     "text": [
      "node1, count:0\n",
      "node2, count:1\n",
      "node1, count:2\n",
      "node2, count:3\n"
     ]
    },
    {
     "data": {
      "text/plain": [
       "{'lnode': 'node_2', 'scratch': 'hi', 'count': 4}"
      ]
     },
     "execution_count": 52,
     "metadata": {},
     "output_type": "execute_result"
    }
   ],
   "source": [
    "thread2 = {\"configurable\": {\"thread_id\": str(2)}}\n",
    "graph.invoke({\"count\":0, \"scratch\":\"hi\"},thread2)"
   ]
  },
  {
   "cell_type": "code",
   "execution_count": 53,
   "id": "90fc1797-25e6-4931-b173-2e520b71c372",
   "metadata": {
    "height": 64
   },
   "outputs": [
    {
     "data": {
      "image/png": "[encoded data removed]",
      "text/plain": [
       "<IPython.core.display.Image object>"
      ]
     },
     "execution_count": 53,
     "metadata": {},
     "output_type": "execute_result"
    }
   ],
   "source": [
    "from IPython.display import Image\n",
    "\n",
    "Image(graph.get_graph().draw_png())"
   ]
  },
  {
   "cell_type": "code",
   "execution_count": 54,
   "id": "4ede9215-3133-4ad9-8dd5-6a8288ebe055",
   "metadata": {
    "height": 81
   },
   "outputs": [
    {
     "name": "stdout",
     "output_type": "stream",
     "text": [
      "{'configurable': {'thread_id': '2', 'thread_ts': '1f05339b-325f-680a-8004-7765fe070764'}} 4\n",
      "{'configurable': {'thread_id': '2', 'thread_ts': '1f05339b-325a-66b6-8003-1ff8dc962fbc'}} 3\n",
      "{'configurable': {'thread_id': '2', 'thread_ts': '1f05339b-3256-669c-8002-e2e4271d8df7'}} 2\n",
      "{'configurable': {'thread_id': '2', 'thread_ts': '1f05339b-3250-6f26-8001-17348df7c61f'}} 1\n",
      "{'configurable': {'thread_id': '2', 'thread_ts': '1f05339b-3249-6fdc-8000-597f0a16142d'}} 0\n",
      "{'configurable': {'thread_id': '2', 'thread_ts': '1f05339b-3245-6d06-bfff-098ad8d33346'}} 0\n"
     ]
    }
   ],
   "source": [
    "states2 = []\n",
    "for state in graph.get_state_history(thread2):\n",
    "    states2.append(state.config)\n",
    "    print(state.config, state.values['count'])   "
   ]
  },
  {
   "cell_type": "markdown",
   "id": "23ab2c5f-cb1d-4851-8925-ce0af1f12a40",
   "metadata": {},
   "source": [
    "Start by grabbing a state."
   ]
  },
  {
   "cell_type": "code",
   "execution_count": 55,
   "id": "65313f6a-c7a9-49e3-aab2-0eb905e74a91",
   "metadata": {
    "height": 47
   },
   "outputs": [
    {
     "data": {
      "text/plain": [
       "StateSnapshot(values={'lnode': 'node_1', 'scratch': 'hi', 'count': 1}, next=('Node2',), config={'configurable': {'thread_id': '2', 'thread_ts': '1f05339b-3250-6f26-8001-17348df7c61f'}}, metadata={'source': 'loop', 'step': 1, 'writes': {'Node1': {'count': 1, 'lnode': 'node_1'}}}, created_at='2025-06-27T09:32:53.227691+00:00', parent_config={'configurable': {'thread_id': '2', 'thread_ts': '1f05339b-3249-6fdc-8000-597f0a16142d'}})"
      ]
     },
     "execution_count": 55,
     "metadata": {},
     "output_type": "execute_result"
    }
   ],
   "source": [
    "save_state = graph.get_state(states2[-3])\n",
    "save_state"
   ]
  },
  {
   "cell_type": "markdown",
   "id": "c81b354b-8c2d-4150-9150-ac9d8486af02",
   "metadata": {},
   "source": [
    "Now modify the values. One subtle item to note: Recall when agent state was defined, `count` used `operator.add` to indicate that values are *added* to the current value. Here, `-3` will be added to the current count value rather than replace it."
   ]
  },
  {
   "cell_type": "code",
   "execution_count": 56,
   "id": "dae6527b-912f-4f86-a07b-1fae684aaa77",
   "metadata": {
    "height": 64
   },
   "outputs": [
    {
     "data": {
      "text/plain": [
       "StateSnapshot(values={'lnode': 'node_1', 'scratch': 'hello', 'count': -3}, next=('Node2',), config={'configurable': {'thread_id': '2', 'thread_ts': '1f05339b-3250-6f26-8001-17348df7c61f'}}, metadata={'source': 'loop', 'step': 1, 'writes': {'Node1': {'count': 1, 'lnode': 'node_1'}}}, created_at='2025-06-27T09:32:53.227691+00:00', parent_config={'configurable': {'thread_id': '2', 'thread_ts': '1f05339b-3249-6fdc-8000-597f0a16142d'}})"
      ]
     },
     "execution_count": 56,
     "metadata": {},
     "output_type": "execute_result"
    }
   ],
   "source": [
    "save_state.values[\"count\"] = -3\n",
    "save_state.values[\"scratch\"] = \"hello\"\n",
    "save_state"
   ]
  },
  {
   "cell_type": "markdown",
   "id": "904bb1eb-2e39-472f-ae56-d8e95e2f1ab6",
   "metadata": {},
   "source": [
    "Now update the state. This creates a new entry at the *top*, or *latest* entry in memory. This will become the current state."
   ]
  },
  {
   "cell_type": "code",
   "execution_count": 57,
   "id": "bcd78670-b119-45fa-934b-2ce2d477b4c2",
   "metadata": {
    "height": 30
   },
   "outputs": [
    {
     "data": {
      "text/plain": [
       "{'configurable': {'thread_id': '2',\n",
       "  'thread_ts': '1f05339b-9e8c-6582-8005-b45c2cd9a80e'}}"
      ]
     },
     "execution_count": 57,
     "metadata": {},
     "output_type": "execute_result"
    }
   ],
   "source": [
    "graph.update_state(thread2,save_state.values)"
   ]
  },
  {
   "cell_type": "markdown",
   "id": "1bb3beed-1c44-4364-bde9-b29ea5e8ca30",
   "metadata": {},
   "source": [
    "Current state is at the top. You can match the `thread_ts`.\n",
    "Notice the `parent_config`, `thread_ts` of the new node - it is the previous node."
   ]
  },
  {
   "cell_type": "code",
   "execution_count": 58,
   "id": "231c7011-afe4-44bf-9e19-16220004912f",
   "metadata": {
    "height": 81
   },
   "outputs": [
    {
     "name": "stdout",
     "output_type": "stream",
     "text": [
      "StateSnapshot(values={'lnode': 'node_1', 'scratch': 'hello', 'count': 1}, next=('Node1',), config={'configurable': {'thread_id': '2', 'thread_ts': '1f05339b-9e8c-6582-8005-b45c2cd9a80e'}}, metadata={'source': 'update', 'step': 5, 'writes': {'Node2': {'count': -3, 'lnode': 'node_1', 'scratch': 'hello'}}}, created_at='2025-06-27T09:33:04.576645+00:00', parent_config={'configurable': {'thread_id': '2', 'thread_ts': '1f05339b-325f-680a-8004-7765fe070764'}}) \n",
      "\n",
      "StateSnapshot(values={'lnode': 'node_2', 'scratch': 'hi', 'count': 4}, next=(), config={'configurable': {'thread_id': '2', 'thread_ts': '1f05339b-325f-680a-8004-7765fe070764'}}, metadata={'source': 'loop', 'step': 4, 'writes': {'Node2': {'count': 1, 'lnode': 'node_2'}}}, created_at='2025-06-27T09:32:53.233656+00:00', parent_config={'configurable': {'thread_id': '2', 'thread_ts': '1f05339b-325a-66b6-8003-1ff8dc962fbc'}}) \n",
      "\n",
      "StateSnapshot(values={'lnode': 'node_1', 'scratch': 'hi', 'count': 3}, next=('Node2',), config={'configurable': {'thread_id': '2', 'thread_ts': '1f05339b-325a-66b6-8003-1ff8dc962fbc'}}, metadata={'source': 'loop', 'step': 3, 'writes': {'Node1': {'count': 1, 'lnode': 'node_1'}}}, created_at='2025-06-27T09:32:53.231570+00:00', parent_config={'configurable': {'thread_id': '2', 'thread_ts': '1f05339b-3256-669c-8002-e2e4271d8df7'}}) \n",
      "\n"
     ]
    }
   ],
   "source": [
    "for i, state in enumerate(graph.get_state_history(thread2)):\n",
    "    if i >= 3:  #print latest 3\n",
    "        break\n",
    "    print(state, '\\n')"
   ]
  },
  {
   "cell_type": "markdown",
   "id": "62d34cd8-99b6-4224-b345-fe8475f2a602",
   "metadata": {},
   "source": [
    "### Try again with `as_node`\n",
    "When writing using `update_state()`, you want to define to the graph logic which node should be assumed as the writer. What this does is allow th graph logic to find the node on the graph. After writing the values, the `next()` value is computed by travesing the graph using the new state. In this case, the state we have was written by `Node1`. The graph can then compute the next state as being `Node2`. Note that in some graphs, this may involve going through conditional edges!  Let's try this out."
   ]
  },
  {
   "cell_type": "code",
   "execution_count": 59,
   "id": "7bfda2f6-5887-40fa-a733-a4357ad857d8",
   "metadata": {
    "height": 30
   },
   "outputs": [
    {
     "data": {
      "text/plain": [
       "{'configurable': {'thread_id': '2',\n",
       "  'thread_ts': '1f05339b-c9c0-641a-8006-d668d4fa5db6'}}"
      ]
     },
     "execution_count": 59,
     "metadata": {},
     "output_type": "execute_result"
    }
   ],
   "source": [
    "graph.update_state(thread2,save_state.values, as_node=\"Node1\")"
   ]
  },
  {
   "cell_type": "code",
   "execution_count": 60,
   "id": "0788ac0f-5f64-49b2-b335-3094bbb19143",
   "metadata": {
    "height": 81
   },
   "outputs": [
    {
     "name": "stdout",
     "output_type": "stream",
     "text": [
      "StateSnapshot(values={'lnode': 'node_1', 'scratch': 'hello', 'count': -2}, next=('Node2',), config={'configurable': {'thread_id': '2', 'thread_ts': '1f05339b-c9c0-641a-8006-d668d4fa5db6'}}, metadata={'source': 'update', 'step': 6, 'writes': {'Node1': {'count': -3, 'lnode': 'node_1', 'scratch': 'hello'}}}, created_at='2025-06-27T09:33:09.106780+00:00', parent_config={'configurable': {'thread_id': '2', 'thread_ts': '1f05339b-9e8c-6582-8005-b45c2cd9a80e'}}) \n",
      "\n",
      "StateSnapshot(values={'lnode': 'node_1', 'scratch': 'hello', 'count': 1}, next=('Node1',), config={'configurable': {'thread_id': '2', 'thread_ts': '1f05339b-9e8c-6582-8005-b45c2cd9a80e'}}, metadata={'source': 'update', 'step': 5, 'writes': {'Node2': {'count': -3, 'lnode': 'node_1', 'scratch': 'hello'}}}, created_at='2025-06-27T09:33:04.576645+00:00', parent_config={'configurable': {'thread_id': '2', 'thread_ts': '1f05339b-325f-680a-8004-7765fe070764'}}) \n",
      "\n",
      "StateSnapshot(values={'lnode': 'node_2', 'scratch': 'hi', 'count': 4}, next=(), config={'configurable': {'thread_id': '2', 'thread_ts': '1f05339b-325f-680a-8004-7765fe070764'}}, metadata={'source': 'loop', 'step': 4, 'writes': {'Node2': {'count': 1, 'lnode': 'node_2'}}}, created_at='2025-06-27T09:32:53.233656+00:00', parent_config={'configurable': {'thread_id': '2', 'thread_ts': '1f05339b-325a-66b6-8003-1ff8dc962fbc'}}) \n",
      "\n"
     ]
    }
   ],
   "source": [
    "for i, state in enumerate(graph.get_state_history(thread2)):\n",
    "    if i >= 3:  #print latest 3\n",
    "        break\n",
    "    print(state, '\\n')"
   ]
  },
  {
   "cell_type": "markdown",
   "id": "18a8f52e-d1a6-46a0-a519-6fda0cb91624",
   "metadata": {},
   "source": [
    "`invoke` will run from the current state if not given a particular `thread_ts`. This is now the entry that was just added."
   ]
  },
  {
   "cell_type": "code",
   "execution_count": 61,
   "id": "9650d355-07c1-4a7d-a21d-4231673a7ee9",
   "metadata": {
    "height": 30
   },
   "outputs": [
    {
     "name": "stdout",
     "output_type": "stream",
     "text": [
      "node2, count:-2\n",
      "node1, count:-1\n",
      "node2, count:0\n",
      "node1, count:1\n",
      "node2, count:2\n"
     ]
    },
    {
     "data": {
      "text/plain": [
       "{'lnode': 'node_2', 'scratch': 'hello', 'count': 3}"
      ]
     },
     "execution_count": 61,
     "metadata": {},
     "output_type": "execute_result"
    }
   ],
   "source": [
    "graph.invoke(None,thread2)"
   ]
  },
  {
   "cell_type": "markdown",
   "id": "c59d3069-8fe7-4a05-9bfd-8e3a2e4590ad",
   "metadata": {},
   "source": [
    "Print out the state history, notice the `scratch` value change on the latest entries."
   ]
  },
  {
   "cell_type": "code",
   "execution_count": 62,
   "id": "35088704-2b18-4d44-ba0e-dccbfde6ed9e",
   "metadata": {
    "height": 47
   },
   "outputs": [
    {
     "name": "stdout",
     "output_type": "stream",
     "text": [
      "StateSnapshot(values={'lnode': 'node_2', 'scratch': 'hello', 'count': 3}, next=(), config={'configurable': {'thread_id': '2', 'thread_ts': '1f05339b-ef2f-6264-800b-f88ad2a2549f'}}, metadata={'source': 'loop', 'step': 11, 'writes': {'Node2': {'count': 1, 'lnode': 'node_2'}}}, created_at='2025-06-27T09:33:13.031928+00:00', parent_config={'configurable': {'thread_id': '2', 'thread_ts': '1f05339b-ef2b-6b6e-800a-70c20e4a92b2'}}) \n",
      "\n",
      "StateSnapshot(values={'lnode': 'node_1', 'scratch': 'hello', 'count': 2}, next=('Node2',), config={'configurable': {'thread_id': '2', 'thread_ts': '1f05339b-ef2b-6b6e-800a-70c20e4a92b2'}}, metadata={'source': 'loop', 'step': 10, 'writes': {'Node1': {'count': 1, 'lnode': 'node_1'}}}, created_at='2025-06-27T09:33:13.030533+00:00', parent_config={'configurable': {'thread_id': '2', 'thread_ts': '1f05339b-ef29-6508-8009-71c57a3c665b'}}) \n",
      "\n",
      "StateSnapshot(values={'lnode': 'node_2', 'scratch': 'hello', 'count': 1}, next=('Node1',), config={'configurable': {'thread_id': '2', 'thread_ts': '1f05339b-ef29-6508-8009-71c57a3c665b'}}, metadata={'source': 'loop', 'step': 9, 'writes': {'Node2': {'count': 1, 'lnode': 'node_2'}}}, created_at='2025-06-27T09:33:13.029551+00:00', parent_config={'configurable': {'thread_id': '2', 'thread_ts': '1f05339b-ef24-60da-8008-76737c9254b9'}}) \n",
      "\n",
      "StateSnapshot(values={'lnode': 'node_1', 'scratch': 'hello', 'count': 0}, next=('Node2',), config={'configurable': {'thread_id': '2', 'thread_ts': '1f05339b-ef24-60da-8008-76737c9254b9'}}, metadata={'source': 'loop', 'step': 8, 'writes': {'Node1': {'count': 1, 'lnode': 'node_1'}}}, created_at='2025-06-27T09:33:13.027387+00:00', parent_config={'configurable': {'thread_id': '2', 'thread_ts': '1f05339b-ef20-62e6-8007-13b1fa388deb'}}) \n",
      "\n",
      "StateSnapshot(values={'lnode': 'node_2', 'scratch': 'hello', 'count': -1}, next=('Node1',), config={'configurable': {'thread_id': '2', 'thread_ts': '1f05339b-ef20-62e6-8007-13b1fa388deb'}}, metadata={'source': 'loop', 'step': 7, 'writes': {'Node2': {'count': 1, 'lnode': 'node_2'}}}, created_at='2025-06-27T09:33:13.025806+00:00', parent_config={'configurable': {'thread_id': '2', 'thread_ts': '1f05339b-c9c0-641a-8006-d668d4fa5db6'}}) \n",
      "\n",
      "StateSnapshot(values={'lnode': 'node_1', 'scratch': 'hello', 'count': -2}, next=('Node2',), config={'configurable': {'thread_id': '2', 'thread_ts': '1f05339b-c9c0-641a-8006-d668d4fa5db6'}}, metadata={'source': 'update', 'step': 6, 'writes': {'Node1': {'count': -3, 'lnode': 'node_1', 'scratch': 'hello'}}}, created_at='2025-06-27T09:33:09.106780+00:00', parent_config={'configurable': {'thread_id': '2', 'thread_ts': '1f05339b-9e8c-6582-8005-b45c2cd9a80e'}}) \n",
      "\n",
      "StateSnapshot(values={'lnode': 'node_1', 'scratch': 'hello', 'count': 1}, next=('Node1',), config={'configurable': {'thread_id': '2', 'thread_ts': '1f05339b-9e8c-6582-8005-b45c2cd9a80e'}}, metadata={'source': 'update', 'step': 5, 'writes': {'Node2': {'count': -3, 'lnode': 'node_1', 'scratch': 'hello'}}}, created_at='2025-06-27T09:33:04.576645+00:00', parent_config={'configurable': {'thread_id': '2', 'thread_ts': '1f05339b-325f-680a-8004-7765fe070764'}}) \n",
      "\n",
      "StateSnapshot(values={'lnode': 'node_2', 'scratch': 'hi', 'count': 4}, next=(), config={'configurable': {'thread_id': '2', 'thread_ts': '1f05339b-325f-680a-8004-7765fe070764'}}, metadata={'source': 'loop', 'step': 4, 'writes': {'Node2': {'count': 1, 'lnode': 'node_2'}}}, created_at='2025-06-27T09:32:53.233656+00:00', parent_config={'configurable': {'thread_id': '2', 'thread_ts': '1f05339b-325a-66b6-8003-1ff8dc962fbc'}}) \n",
      "\n",
      "StateSnapshot(values={'lnode': 'node_1', 'scratch': 'hi', 'count': 3}, next=('Node2',), config={'configurable': {'thread_id': '2', 'thread_ts': '1f05339b-325a-66b6-8003-1ff8dc962fbc'}}, metadata={'source': 'loop', 'step': 3, 'writes': {'Node1': {'count': 1, 'lnode': 'node_1'}}}, created_at='2025-06-27T09:32:53.231570+00:00', parent_config={'configurable': {'thread_id': '2', 'thread_ts': '1f05339b-3256-669c-8002-e2e4271d8df7'}}) \n",
      "\n",
      "StateSnapshot(values={'lnode': 'node_2', 'scratch': 'hi', 'count': 2}, next=('Node1',), config={'configurable': {'thread_id': '2', 'thread_ts': '1f05339b-3256-669c-8002-e2e4271d8df7'}}, metadata={'source': 'loop', 'step': 2, 'writes': {'Node2': {'count': 1, 'lnode': 'node_2'}}}, created_at='2025-06-27T09:32:53.229932+00:00', parent_config={'configurable': {'thread_id': '2', 'thread_ts': '1f05339b-3250-6f26-8001-17348df7c61f'}}) \n",
      "\n",
      "StateSnapshot(values={'lnode': 'node_1', 'scratch': 'hi', 'count': 1}, next=('Node2',), config={'configurable': {'thread_id': '2', 'thread_ts': '1f05339b-3250-6f26-8001-17348df7c61f'}}, metadata={'source': 'loop', 'step': 1, 'writes': {'Node1': {'count': 1, 'lnode': 'node_1'}}}, created_at='2025-06-27T09:32:53.227691+00:00', parent_config={'configurable': {'thread_id': '2', 'thread_ts': '1f05339b-3249-6fdc-8000-597f0a16142d'}}) \n",
      "\n",
      "StateSnapshot(values={'scratch': 'hi', 'count': 0}, next=('Node1',), config={'configurable': {'thread_id': '2', 'thread_ts': '1f05339b-3249-6fdc-8000-597f0a16142d'}}, metadata={'source': 'loop', 'step': 0, 'writes': None}, created_at='2025-06-27T09:32:53.224838+00:00', parent_config={'configurable': {'thread_id': '2', 'thread_ts': '1f05339b-3245-6d06-bfff-098ad8d33346'}}) \n",
      "\n",
      "StateSnapshot(values={'count': 0}, next=('__start__',), config={'configurable': {'thread_id': '2', 'thread_ts': '1f05339b-3245-6d06-bfff-098ad8d33346'}}, metadata={'source': 'input', 'step': -1, 'writes': {'count': 0, 'scratch': 'hi'}}, created_at='2025-06-27T09:32:53.223131+00:00', parent_config=None) \n",
      "\n"
     ]
    }
   ],
   "source": [
    "for state in graph.get_state_history(thread2):\n",
    "    print(state,\"\\n\")"
   ]
  },
  {
   "cell_type": "markdown",
   "id": "a5ea1bba-cf12-4493-948b-08b300054742",
   "metadata": {},
   "source": [
    "Continue to experiment!"
   ]
  },
  {
   "cell_type": "code",
   "execution_count": null,
   "id": "393f7f1f-68b4-4462-bfa5-b6472ef1304a",
   "metadata": {
    "height": 30
   },
   "outputs": [],
   "source": []
  }
 ],
 "metadata": {
  "kernelspec": {
   "display_name": "langgraph",
   "language": "python",
   "name": "python3"
  },
  "language_info": {
   "codemirror_mode": {
    "name": "ipython",
    "version": 3
   },
   "file_extension": ".py",
   "mimetype": "text/x-python",
   "name": "python",
   "nbconvert_exporter": "python",
   "pygments_lexer": "ipython3",
   "version": "3.11.13"
  }
 },
 "nbformat": 4,
 "nbformat_minor": 5
}
