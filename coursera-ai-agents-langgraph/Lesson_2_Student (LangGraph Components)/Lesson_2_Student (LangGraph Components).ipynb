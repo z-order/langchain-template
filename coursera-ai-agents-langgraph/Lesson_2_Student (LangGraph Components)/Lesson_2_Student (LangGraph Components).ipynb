{
 "cells": [
  {
   "cell_type": "markdown",
   "id": "21fa2e13-567d-4509-9023-c99fb230f31f",
   "metadata": {},
   "source": [
    "# Lesson 2 : LangGraph Components"
   ]
  },
  {
   "cell_type": "code",
   "execution_count": 1,
   "id": "f5762271-8736-4e94-9444-8c92bd0e8074",
   "metadata": {
    "height": 47
   },
   "outputs": [],
   "source": [
    "from dotenv import load_dotenv\n",
    "_ = load_dotenv()"
   ]
  },
  {
   "cell_type": "code",
   "execution_count": 2,
   "id": "d0168aee-bce9-4d60-b827-f86a88187e31",
   "metadata": {
    "height": 115
   },
   "outputs": [],
   "source": [
    "from langgraph.graph import StateGraph, END\n",
    "from typing import TypedDict, Annotated\n",
    "import operator\n",
    "from langchain_core.messages import AnyMessage, SystemMessage, HumanMessage, ToolMessage\n",
    "from langchain_openai import ChatOpenAI\n",
    "from langchain_community.tools.tavily_search import TavilySearchResults"
   ]
  },
  {
   "cell_type": "code",
   "execution_count": 3,
   "id": "2589c5b6-6cc2-4594-9a17-dccdcf676054",
   "metadata": {
    "height": 64
   },
   "outputs": [
    {
     "name": "stdout",
     "output_type": "stream",
     "text": [
      "<class 'langchain_community.tools.tavily_search.tool.TavilySearchResults'>\n",
      "tavily_search_results_json\n"
     ]
    }
   ],
   "source": [
    "tool = TavilySearchResults(max_results=4) #increased number of results\n",
    "print(type(tool))\n",
    "print(tool.name)"
   ]
  },
  {
   "cell_type": "markdown",
   "id": "e196c186-af55-4f2d-b569-b7d63a859304",
   "metadata": {},
   "source": [
    "> If you are not familiar with python typing annotation, you can refer to the [python documents](https://docs.python.org/3/library/typing.html)."
   ]
  },
  {
   "cell_type": "code",
   "execution_count": 4,
   "id": "a2ba84ec-c172-4de7-ac55-e3158a531b23",
   "metadata": {
    "height": 47
   },
   "outputs": [],
   "source": [
    "class AgentState(TypedDict):\n",
    "    messages: Annotated[list[AnyMessage], operator.add]"
   ]
  },
  {
   "cell_type": "markdown",
   "id": "74c7ba73-e603-453b-b06f-5db92c567b19",
   "metadata": {},
   "source": [
    "> Note: in `take_action` below, some logic was added to cover the case that the LLM returned a non-existent tool name. Even with function calling, LLMs can still occasionally hallucinate. Note that all that is done is instructing the LLM to try again! An advantage of an agentic organization."
   ]
  },
  {
   "cell_type": "code",
   "execution_count": 5,
   "id": "876d5092-b8ef-4e38-b4d7-0e80c609bf7a",
   "metadata": {
    "height": 727
   },
   "outputs": [],
   "source": [
    "class Agent:\n",
    "\n",
    "    def __init__(self, model, tools, system=\"\"):\n",
    "        self.system = system\n",
    "        graph = StateGraph(AgentState)\n",
    "        graph.add_node(\"llm\", self.call_openai)\n",
    "        graph.add_node(\"action\", self.take_action)\n",
    "        graph.add_conditional_edges(\n",
    "            \"llm\",\n",
    "            self.exists_action,\n",
    "            {True: \"action\", False: END}\n",
    "        )\n",
    "        graph.add_edge(\"action\", \"llm\")\n",
    "        graph.set_entry_point(\"llm\")\n",
    "        self.graph = graph.compile()\n",
    "        self.tools = {t.name: t for t in tools}\n",
    "        self.model = model.bind_tools(tools)\n",
    "\n",
    "    def exists_action(self, state: AgentState):\n",
    "        result = state['messages'][-1]\n",
    "        return len(result.tool_calls) > 0\n",
    "\n",
    "    def call_openai(self, state: AgentState):\n",
    "        messages = state['messages']\n",
    "        if self.system:\n",
    "            messages = [SystemMessage(content=self.system)] + messages\n",
    "        message = self.model.invoke(messages)\n",
    "        return {'messages': [message]}\n",
    "\n",
    "    def take_action(self, state: AgentState):\n",
    "        tool_calls = state['messages'][-1].tool_calls\n",
    "        results = []\n",
    "        for t in tool_calls:\n",
    "            print(f\"Calling: {t}\")\n",
    "            if not t['name'] in self.tools:      # check for bad tool name from LLM\n",
    "                print(\"\\n ....bad tool name....\")\n",
    "                result = \"bad tool name, retry\"  # instruct LLM to retry if bad\n",
    "            else:\n",
    "                result = self.tools[t['name']].invoke(t['args'])\n",
    "            results.append(ToolMessage(tool_call_id=t['id'], name=t['name'], content=str(result)))\n",
    "        print(\"Back to the model!\")\n",
    "        return {'messages': results}"
   ]
  },
  {
   "cell_type": "code",
   "execution_count": 6,
   "id": "10084a02-2928-4945-9f7c-ad3f5b33caf7",
   "metadata": {
    "height": 149
   },
   "outputs": [],
   "source": [
    "prompt = \"\"\"You are a smart research assistant. Use the search engine to look up information. \\\n",
    "You are allowed to make multiple calls (either together or in sequence). \\\n",
    "Only look up information when you are sure of what you want. \\\n",
    "If you need to look up some information before asking a follow up question, you are allowed to do that!\n",
    "\"\"\"\n",
    "\n",
    "model = ChatOpenAI(model=\"gpt-3.5-turbo\")  #reduce inference cost\n",
    "abot = Agent(model, [tool], system=prompt)"
   ]
  },
  {
   "cell_type": "code",
   "execution_count": 9,
   "id": "a3d6f5f4-2392-41b9-ab96-7919840baa3e",
   "metadata": {
    "height": 64
   },
   "outputs": [
    {
     "data": {
      "image/png": "[encoded data removed]",
      "text/plain": [
       "<IPython.core.display.Image object>"
      ]
     },
     "execution_count": 9,
     "metadata": {},
     "output_type": "execute_result"
    }
   ],
   "source": [
    "from IPython.display import Image\n",
    "\n",
    "Image(abot.graph.get_graph().draw_png())"
   ]
  },
  {
   "cell_type": "code",
   "execution_count": 10,
   "id": "83588e70-254f-4f83-a510-c8ae81e729b0",
   "metadata": {
    "height": 47
   },
   "outputs": [
    {
     "name": "stdout",
     "output_type": "stream",
     "text": [
      "Calling: {'name': 'tavily_search_results_json', 'args': {'query': 'weather in San Francisco'}, 'id': 'call_bhfWk0QWLawEOc5xSmQNt8O6'}\n",
      "Back to the model!\n"
     ]
    }
   ],
   "source": [
    "messages = [HumanMessage(content=\"What is the weather in sf?\")]\n",
    "result = abot.graph.invoke({\"messages\": messages})"
   ]
  },
  {
   "cell_type": "code",
   "execution_count": 11,
   "id": "89a06a8c-fcd4-4ca6-98f0-36c5809813e6",
   "metadata": {
    "height": 30,
    "scrolled": true
   },
   "outputs": [
    {
     "data": {
      "text/plain": [
       "{'messages': [HumanMessage(content='What is the weather in sf?'),\n",
       "  AIMessage(content='', additional_kwargs={'tool_calls': [{'id': 'call_bhfWk0QWLawEOc5xSmQNt8O6', 'function': {'arguments': '{\"query\":\"weather in San Francisco\"}', 'name': 'tavily_search_results_json'}, 'type': 'function'}]}, response_metadata={'token_usage': {'completion_tokens': 21, 'prompt_tokens': 153, 'total_tokens': 174, 'prompt_tokens_details': {'cached_tokens': 0, 'audio_tokens': 0}, 'completion_tokens_details': {'reasoning_tokens': 0, 'audio_tokens': 0, 'accepted_prediction_tokens': 0, 'rejected_prediction_tokens': 0}}, 'model_name': 'gpt-3.5-turbo', 'system_fingerprint': None, 'finish_reason': 'tool_calls', 'logprobs': None}, id='run-d90f1cfc-15bd-40c8-9cb5-2f558b922c5f-0', tool_calls=[{'name': 'tavily_search_results_json', 'args': {'query': 'weather in San Francisco'}, 'id': 'call_bhfWk0QWLawEOc5xSmQNt8O6'}]),\n",
       "  ToolMessage(content='[{\\'url\\': \\'https://weathershogun.com/weather/usa/ca/san-francisco/480/june/2025-06-27\\', \\'content\\': \"Friday, June 27, 2025. San Francisco, CA - Weather Forecast \\\\n\\\\n===============\\\\n\\\\n☰\\\\n\\\\nSan Francisco, CA\\\\n\\\\nImage 1: WeatherShogun.com\\\\n\\\\nHomeContactBrowse StatesPrivacy PolicyTerms and Conditions\\\\n\\\\n°F)°C)\\\\n\\\\n❮\\\\n\\\\nTodayTomorrowHourly7 days30 daysJune\\\\n\\\\n❯\\\\n\\\\nSan Francisco, California Weather: \\\\n\\\\nFriday, June 27, 2025\\\\n\\\\nDay 68°\\\\n\\\\nNight 54°\\\\n\\\\nPrecipitation 0 %\\\\n\\\\nWind 11 mph\\\\n\\\\nUV Index (0 - 11+)11\\\\n\\\\nSaturday\\\\n\\\\n   Hourly\\\\n   Today\\\\n   Tomorrow\\\\n   7 days\\\\n   30 days\\\\n\\\\nWeather Forecast History\\\\n------------------------ [...] Last Year\\'s Weather on This Day (June 27, 2024)\\\\n\\\\n### Day\\\\n\\\\n64°\\\\n\\\\n### Night\\\\n\\\\n52°\\\\n\\\\nPlease note that while we strive for accuracy, the information provided may not always be correct. Use at your own risk.\\\\n\\\\n© Copyright by WeatherShogun.com\"}, {\\'url\\': \\'https://en.climate-data.org/north-america/costa-rica/guanacaste/san-francisco-484220/t/june-6/\\', \\'content\\': \\'| 26\\\\\\\\. June | 26 °C | 79 °F | 28 °C | 82 °F | 24 °C | 76 °F | 15.0 mm | 0.6 inch. |\\\\n| 27\\\\\\\\. June | 26 °C | 79 °F | 28 °C | 83 °F | 25 °C | 76 °F | 13.0 mm | 0.5 inch. |\\\\n| 28\\\\\\\\. June | 26 °C | 79 °F | 28 °C | 82 °F | 25 °C | 76 °F | 15.0 mm | 0.6 inch. |\\\\n| 29\\\\\\\\. June | 26 °C | 79 °F | 28 °C | 82 °F | 24 °C | 76 °F | 13.9 mm | 0.5 inch. |\\\\n| 30\\\\\\\\. June | 26 °C | 79 °F | 28 °C | 82 °F | 24 °C | 76 °F | 15.3 mm | 0.6 inch. | [...] |\\\\n| Min. Temperature °C (°F) | 23.9 °C\\\\n\\\\n(75) °F\\\\n\\\\n | 24.2 °C\\\\n\\\\n(75.5) °F\\\\n\\\\n | 24.6 °C\\\\n\\\\n(76.3) °F\\\\n\\\\n | 24.8 °C\\\\n\\\\n(76.6) °F\\\\n\\\\n | 24.4 °C\\\\n\\\\n(76) °F\\\\n\\\\n | 24.1 °C\\\\n\\\\n(75.4) °F\\\\n\\\\n | 24 °C\\\\n\\\\n(75.2) °F\\\\n\\\\n | 24 °C\\\\n\\\\n(75.1) °F\\\\n\\\\n | 23.8 °C\\\\n\\\\n(74.8) °F\\\\n\\\\n | 23.6 °C\\\\n\\\\n(74.5) °F\\\\n\\\\n | 23.6 °C\\\\n\\\\n(74.5) °F\\\\n\\\\n | 23.6 °C\\\\n\\\\n(74.6) °F\\\\n\\\\n |\\\\n| Max. Temperature °C (°F) | 29.2 °C\\\\n\\\\n(84.5) °F\\\\n\\\\n | 30.1 °C\\\\n\\\\n(86.1) °F\\\\n\\\\n | 30.5 °C\\\\n\\\\n(87) °F\\\\n\\\\n | 29.9 °C\\\\n\\\\n(85.9) °F\\\\n\\\\n | 28.2 °C\\\\n\\\\n(82.8) °F\\\\n\\\\n | 27.7 °C\\\\n\\\\n(81.8) °F\\\\n\\\\n | 27.6 °C\\\\n\\\\n(81.6) °F\\\\n\\\\n | 27.5 °C [...] (81.6) °F\\\\n\\\\n | 27.3 °C\\\\n\\\\n(81.1) °F\\\\n\\\\n | 26.9 °C\\\\n\\\\n(80.4) °F\\\\n\\\\n | 27.2 °C\\\\n\\\\n(80.9) °F\\\\n\\\\n | 27.9 °C\\\\n\\\\n(82.2) °F\\\\n\\\\n |\\\\n| Precipitation / Rainfall mm (in) | 16\\\\n\\\\n(0)\\\\n\\\\n | 11\\\\n\\\\n(0)\\\\n\\\\n | 17\\\\n\\\\n(0)\\\\n\\\\n | 65\\\\n\\\\n(2)\\\\n\\\\n | 314\\\\n\\\\n(12)\\\\n\\\\n | 317\\\\n\\\\n(12)\\\\n\\\\n | 290\\\\n\\\\n(11)\\\\n\\\\n | 315\\\\n\\\\n(12)\\\\n\\\\n | 352\\\\n\\\\n(13)\\\\n\\\\n | 417\\\\n\\\\n(16)\\\\n\\\\n | 196\\\\n\\\\n(7)\\\\n\\\\n | 48\\\\n\\\\n(1)\\'}, {\\'url\\': \\'https://www.easeweather.com/north-america/united-states/california/city-and-county-of-san-francisco/san-francisco/june\\', \\'content\\': \\'| Jun. 23 | Image 64: Partly cloudy Partly cloudy | 55°/50° | 0 in | 2.2 |  |\\\\n| Jun. 24 | Image 65: Cloudy Cloudy | 53°/50° | 0 in | 2.2 |  |\\\\n| Jun. 25 | Image 66: Mist Mist | 55°/50° | 0 in | 2.5 |  |\\\\n| Jun. 26 | Image 67: Cloudy Cloudy | 62°/51° | 0 in | 2.6 |  |\\\\n| Jun. 27 | Image 68: Sunny Sunny | 64°/51° | 0 in | 0 |  |\\\\n| Jun. 28 | Image 69: Sunny Sunny | 64°/53° | 0 in | 4 |  |\\\\n| Jun. 29 | Image 70: Partly cloudy Partly cloudy | 62°/53° | 0 in | 4 |  | [...] Weather in San Francisco, California for June 2025\\\\n==================================================\\\\n\\\\nYour guide to San Francisco weather in June - trends and predictions\\\\n\\\\n### Official Weather Alert ⚠️\\\\n\\\\n   Coastal Flood Advisory - See hour by hour.\\\\n\\\\n### Temperatures\\\\n\\\\n   Until now, June 2025 in San Francisco has been significantly cooler than historical averages by -9.7°F, with average temperature of 55°F. [...] | 15 Image 24: Sunny 68° | 16 Image 25: Sunny 68° | 17 Image 26: Sunny 68° | 18 Image 27: Sunny 68° | 19 Image 28: Sunny 64° | 20 Image 29: Sunny 66° | 21 Image 30: Sunny 69° |\\\\n| 22 Image 31: Partly cloudy 68° | 23 Image 32: Weather AlertImage 33: Partly cloudy 55° | 24 Image 34: Weather AlertImage 35: Cloudy 53° | 25 Image 36: Mist 55° | 26 Image 37: Cloudy 62° | 27 Image 38: Sunny 64° | 28 Image 39: Sunny 64° |\\\\n| 29 Image 40: Partly cloudy 62° | 30 Image 41: Partly cloudy 64° |  |  |  |  |  |\\'}, {\\'url\\': \\'https://www.weather25.com/north-america/usa/california/san-francisco?page=month&month=June\\', \\'content\\': \\'Thursday Jun 26 Image 8: Mist 0 mm 14°/10°Friday Jun 27 Image 9: Mist 0 mm 15°/10°Saturday Jun 28 Image 10: Mist 0 mm 14°/10°Sunday Jun 29 Image 11: Mist 0 mm 16°/10°Monday Jun 30 Image 12: Patchy rain possible 0 mm 17°/12°Tuesday Jul 1 Image 13: Partly cloudy 0 mm 17°/12°Wednesday Jul 2 Image 14: Sunny 0 mm 17°/12°Thursday Jul 3 Image 15: Patchy rain possible 0 mm 17°/12°Friday Jul 4 Image 16: Sunny 0 mm 18°/11°Saturday Jul 5 Image 17: Sunny 0 mm 19°/13°Sunday Jul 6 Image 18: Patchy rain [...] | 22 Image 49: Sunny 20°/13° | 23 Image 50: Partly cloudy 20°/13° | 24 Image 51: Overcast 19°/11° | 25 Image 52: Sunny 19°/12° | 26 Image 53: Mist 14°/10° | 27 Image 54: Mist 15°/10° | 28 Image 55: Mist 14°/10° |\\\\n| 29 Image 56: Mist 16°/10° | 30 Image 57: Patchy rain possible 17°/12° |  |  |  |  |  | [...] | November | 18° / 10° | 3 | 27 | 0 | 37 mm | Good | San Francisco in November |\\\\n| December | 14° / 8° | 4 | 27 | 0 | 55 mm | Good | San Francisco in December |\\'}]', name='tavily_search_results_json', tool_call_id='call_bhfWk0QWLawEOc5xSmQNt8O6'),\n",
       "  AIMessage(content='The weather in San Francisco for today is 68°F during the day and 54°F at night with a 0% chance of precipitation and a wind speed of 11 mph.', response_metadata={'token_usage': {'completion_tokens': 38, 'prompt_tokens': 2365, 'total_tokens': 2403, 'prompt_tokens_details': {'cached_tokens': 0, 'audio_tokens': 0}, 'completion_tokens_details': {'reasoning_tokens': 0, 'audio_tokens': 0, 'accepted_prediction_tokens': 0, 'rejected_prediction_tokens': 0}}, 'model_name': 'gpt-3.5-turbo', 'system_fingerprint': None, 'finish_reason': 'stop', 'logprobs': None}, id='run-35df057d-38a2-44c9-974a-ac333e99fa50-0')]}"
      ]
     },
     "execution_count": 11,
     "metadata": {},
     "output_type": "execute_result"
    }
   ],
   "source": [
    "result"
   ]
  },
  {
   "cell_type": "code",
   "execution_count": 12,
   "id": "6cb3ef4c-58b3-401b-b104-0d51e553d982",
   "metadata": {
    "height": 30
   },
   "outputs": [
    {
     "data": {
      "text/plain": [
       "'The weather in San Francisco for today is 68°F during the day and 54°F at night with a 0% chance of precipitation and a wind speed of 11 mph.'"
      ]
     },
     "execution_count": 12,
     "metadata": {},
     "output_type": "execute_result"
    }
   ],
   "source": [
    "result['messages'][-1].content"
   ]
  },
  {
   "cell_type": "code",
   "execution_count": 13,
   "id": "dc3293b7-a50c-43c8-a022-8975e1e444b8",
   "metadata": {
    "height": 47
   },
   "outputs": [
    {
     "name": "stdout",
     "output_type": "stream",
     "text": [
      "Calling: {'name': 'tavily_search_results_json', 'args': {'query': 'weather in San Francisco'}, 'id': 'call_E8M5q3lL73rPujDV2OAd99fA'}\n",
      "Calling: {'name': 'tavily_search_results_json', 'args': {'query': 'weather in Los Angeles'}, 'id': 'call_iX7Vu61yMeCxn3uhbnypXzHT'}\n",
      "Back to the model!\n"
     ]
    }
   ],
   "source": [
    "messages = [HumanMessage(content=\"What is the weather in SF and LA?\")]\n",
    "result = abot.graph.invoke({\"messages\": messages})"
   ]
  },
  {
   "cell_type": "code",
   "execution_count": 14,
   "id": "0722c3d4-4cbf-43bf-81b0-50f634c4ce61",
   "metadata": {
    "height": 30
   },
   "outputs": [
    {
     "data": {
      "text/plain": [
       "'The weather forecast for San Francisco on Friday, June 27, 2025, indicates a daytime temperature of 68°F and a nighttime temperature of 54°F with a 0% chance of precipitation and a wind speed of 11 mph. The UV Index is 11.\\n\\nIn Los Angeles on the same day, the weather is expected to be sunny with clear skies. The daytime temperature is 75°F.\\n\\nIf you need more detailed information or forecasts for other days, feel free to ask!'"
      ]
     },
     "execution_count": 14,
     "metadata": {},
     "output_type": "execute_result"
    }
   ],
   "source": [
    "result['messages'][-1].content"
   ]
  },
  {
   "cell_type": "code",
   "execution_count": 15,
   "id": "6b2f82fe-3ec4-4917-be51-9fb10d1317fa",
   "metadata": {
    "height": 183
   },
   "outputs": [
    {
     "name": "stdout",
     "output_type": "stream",
     "text": [
      "Calling: {'name': 'tavily_search_results_json', 'args': {'query': '2024 Super Bowl winner'}, 'id': 'call_t6xJmbhney7up9gS8hXYJX0m'}\n",
      "Back to the model!\n",
      "Calling: {'name': 'tavily_search_results_json', 'args': {'query': 'Kansas City Chiefs headquarters location'}, 'id': 'call_12rS2h6pJuXElK0OCkqP74K2'}\n",
      "Calling: {'name': 'tavily_search_results_json', 'args': {'query': 'Missouri GDP 2024'}, 'id': 'call_fIwOI76L9iFwHsTRAg7rTvzd'}\n",
      "Back to the model!\n"
     ]
    }
   ],
   "source": [
    "# Note, the query was modified to produce more consistent results. \n",
    "# Results may vary per run and over time as search information and models change.\n",
    "\n",
    "query = \"Who won the super bowl in 2024? In what state is the winning team headquarters located? \\\n",
    "What is the GDP of that state? Answer each question.\" \n",
    "messages = [HumanMessage(content=query)]\n",
    "\n",
    "model = ChatOpenAI(model=\"gpt-4o\")  # requires more advanced model\n",
    "abot = Agent(model, [tool], system=prompt)\n",
    "result = abot.graph.invoke({\"messages\": messages})"
   ]
  },
  {
   "cell_type": "code",
   "execution_count": 16,
   "id": "ee0fe1c7-77e2-499c-a2f9-1f739bb6ddf0",
   "metadata": {
    "height": 30
   },
   "outputs": [
    {
     "name": "stdout",
     "output_type": "stream",
     "text": [
      "1. The Kansas City Chiefs won the Super Bowl in 2024.\n",
      "\n",
      "2. The headquarters of the Kansas City Chiefs is located in Kansas City, Missouri.\n",
      "\n",
      "3. The GDP of Missouri in 2024 was approximately $460.7 billion.\n"
     ]
    }
   ],
   "source": [
    "print(result['messages'][-1].content)"
   ]
  },
  {
   "cell_type": "code",
   "execution_count": null,
   "id": "1d643182-2802-40fb-ba35-d4f893c5b976",
   "metadata": {
    "height": 30
   },
   "outputs": [],
   "source": []
  }
 ],
 "metadata": {
  "kernelspec": {
   "display_name": "langgraph",
   "language": "python",
   "name": "python3"
  },
  "language_info": {
   "codemirror_mode": {
    "name": "ipython",
    "version": 3
   },
   "file_extension": ".py",
   "mimetype": "text/x-python",
   "name": "python",
   "nbconvert_exporter": "python",
   "pygments_lexer": "ipython3",
   "version": "3.11.13"
  }
 },
 "nbformat": 4,
 "nbformat_minor": 5
}
