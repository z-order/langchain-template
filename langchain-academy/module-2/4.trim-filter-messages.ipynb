{
 "cells": [
  {
   "cell_type": "markdown",
   "id": "fb0ebaf1",
   "metadata": {},
   "source": [
    "[![Open in Colab](https://colab.research.google.com/assets/colab-badge.svg)](https://colab.research.google.com/github/langchain-ai/langchain-academy/blob/main/module-2/trim-filter-messages.ipynb) [![Open in LangChain Academy](https://cdn.prod.website-files.com/65b8cd72835ceeacd4449a53/66e9eba12c7b7688aa3dbb5e_LCA-badge-green.svg)](https://academy.langchain.com/courses/take/intro-to-langgraph/lessons/58239435-lesson-4-trim-and-filter-messages)"
   ]
  },
  {
   "cell_type": "markdown",
   "id": "c52ea2f9-03ff-4647-b782-46867ebed04e",
   "metadata": {},
   "source": [
    "# Filtering and trimming messages\n",
    "\n",
    "## Review\n",
    "\n",
    "Now, we have a deeper understanding of a few things: \n",
    "\n",
    "* How to customize the graph state schema\n",
    "* How to define custom state reducers\n",
    "* How to use multiple graph state schemas\n",
    "\n",
    "## Goals\n",
    "\n",
    "Now, we can start using these concepts with models in LangGraph!\n",
    " \n",
    "In the next few sessions, we'll build towards a chatbot that has long-term memory.\n",
    "\n",
    "Because our chatbot will use messages, let's first talk a bit more about advanced ways to work with messages in graph state."
   ]
  },
  {
   "cell_type": "code",
   "execution_count": null,
   "id": "d5197aba-5d46-421b-ae3b-4e3034edcfda",
   "metadata": {},
   "outputs": [],
   "source": [
    "%%capture --no-stderr\n",
    "%pip install --quiet -U langchain_core langgraph langchain_openai"
   ]
  },
  {
   "cell_type": "code",
   "execution_count": 1,
   "id": "768dc606-d5f2-468d-96ea-910b264e0f8a",
   "metadata": {},
   "outputs": [],
   "source": [
    "import os, getpass\n",
    "\n",
    "def _set_env(var: str):\n",
    "    if not os.environ.get(var):\n",
    "        os.environ[var] = getpass.getpass(f\"{var}: \")\n",
    "\n",
    "_set_env(\"OPENAI_API_KEY\")"
   ]
  },
  {
   "cell_type": "markdown",
   "id": "8b64d8d3-e4ac-4961-bdc0-688825eb5864",
   "metadata": {},
   "source": [
    "We'll use [LangSmith](https://docs.smith.langchain.com/) for [tracing](https://docs.smith.langchain.com/concepts/tracing).\n",
    "\n",
    "We'll log to a project, `langchain-academy`. "
   ]
  },
  {
   "cell_type": "code",
   "execution_count": 2,
   "id": "dd020c79",
   "metadata": {},
   "outputs": [],
   "source": [
    "_set_env(\"LANGSMITH_API_KEY\")\n",
    "os.environ[\"LANGSMITH_TRACING\"] = \"true\"\n",
    "os.environ[\"LANGSMITH_PROJECT\"] = \"langchain-academy\""
   ]
  },
  {
   "cell_type": "markdown",
   "id": "72f3fc90-58b6-4f7f-897e-dddf6ae532c7",
   "metadata": {},
   "source": [
    "## Messages as state\n",
    "\n",
    "First, let's define some messages."
   ]
  },
  {
   "cell_type": "code",
   "execution_count": 3,
   "id": "cf11a463-e27a-4a05-b41d-64882e38edca",
   "metadata": {},
   "outputs": [
    {
     "name": "stdout",
     "output_type": "stream",
     "text": [
      "==================================\u001b[1m Ai Message \u001b[0m==================================\n",
      "Name: Bot\n",
      "\n",
      "So you said you were researching ocean mammals?\n",
      "================================\u001b[1m Human Message \u001b[0m=================================\n",
      "Name: Lance\n",
      "\n",
      "Yes, I know about whales. But what others should I learn about?\n"
     ]
    }
   ],
   "source": [
    "from pprint import pprint\n",
    "from langchain_core.messages import AIMessage, HumanMessage\n",
    "messages = [AIMessage(f\"So you said you were researching ocean mammals?\", name=\"Bot\")]\n",
    "messages.append(HumanMessage(f\"Yes, I know about whales. But what others should I learn about?\", name=\"Lance\"))\n",
    "\n",
    "for m in messages:\n",
    "    m.pretty_print()"
   ]
  },
  {
   "cell_type": "markdown",
   "id": "b814adcb-6bf9-4b75-be11-e59f933fbd0c",
   "metadata": {},
   "source": [
    "Recall we can pass them to a chat model."
   ]
  },
  {
   "cell_type": "code",
   "execution_count": 4,
   "id": "4712e288-e622-48a2-ad3f-a52f65f3ab08",
   "metadata": {},
   "outputs": [
    {
     "data": {
      "text/plain": [
       "AIMessage(content='In addition to whales, there are several other fascinating ocean mammals you might want to explore:\\n\\n1. **Dolphins**: Known for their intelligence and playful behavior, dolphins are part of the cetacean family, which also includes whales and porpoises.\\n\\n2. **Porpoises**: Similar to dolphins but generally smaller and with different body shapes and teeth structures.\\n\\n3. **Seals**: There are various species of seals, known for their adaptability to marine environments and playful behavior on land.\\n\\n4. **Sea Lions**: Often confused with seals, sea lions have external ear flaps and are more social and vocal.\\n\\n5. **Walruses**: Recognizable by their long tusks and whiskers, walruses are large marine mammals that live in the Arctic.\\n\\n6. **Manatees and Dugongs**: Also known as sea cows, these slow-moving herbivores graze on underwater vegetation in warm coastal waters.\\n\\n7. **Sea Otters**: Known for using tools to open shells, sea otters have dense fur that keeps them warm in cold Pacific waters.\\n\\n8. **Polar Bears**: Although primarily land animals, polar bears rely heavily on the ocean for hunting seals and are excellent swimmers.\\n\\nEach of these marine mammals has unique adaptations and behaviors that make them interesting to study. They play crucial roles in marine ecosystems and have various conservation statuses and challenges.', additional_kwargs={'refusal': None}, response_metadata={'token_usage': {'completion_tokens': 284, 'prompt_tokens': 39, 'total_tokens': 323, 'completion_tokens_details': {'accepted_prediction_tokens': 0, 'audio_tokens': 0, 'reasoning_tokens': 0, 'rejected_prediction_tokens': 0}, 'prompt_tokens_details': {'audio_tokens': 0, 'cached_tokens': 0}}, 'model_name': 'gpt-4o-2024-08-06', 'system_fingerprint': 'fp_07871e2ad8', 'id': 'chatcmpl-Bo0WjFjK1egCOP11SMI43525udne4', 'service_tier': 'default', 'finish_reason': 'stop', 'logprobs': None}, id='run--9ae0dc12-143b-46fd-a998-399cafa2889c-0', usage_metadata={'input_tokens': 39, 'output_tokens': 284, 'total_tokens': 323, 'input_token_details': {'audio': 0, 'cache_read': 0}, 'output_token_details': {'audio': 0, 'reasoning': 0}})"
      ]
     },
     "execution_count": 4,
     "metadata": {},
     "output_type": "execute_result"
    }
   ],
   "source": [
    "from langchain_openai import ChatOpenAI\n",
    "llm = ChatOpenAI(model=\"gpt-4o\")\n",
    "llm.invoke(messages)"
   ]
  },
  {
   "cell_type": "markdown",
   "id": "fbd1dab8-0af8-4621-8264-ce65065f76ec",
   "metadata": {},
   "source": [
    "We can run our chat model in a simple graph with `MessagesState`."
   ]
  },
  {
   "cell_type": "code",
   "execution_count": 5,
   "id": "bbd8c39c-633b-4176-9cc6-8318e42bb5dd",
   "metadata": {},
   "outputs": [
    {
     "data": {
      "image/png": "[encoded data removed]",
      "text/plain": [
       "<IPython.core.display.Image object>"
      ]
     },
     "metadata": {},
     "output_type": "display_data"
    }
   ],
   "source": [
    "from IPython.display import Image, display\n",
    "from langgraph.graph import MessagesState\n",
    "from langgraph.graph import StateGraph, START, END\n",
    "\n",
    "# Node\n",
    "def chat_model_node(state: MessagesState):\n",
    "    return {\"messages\": llm.invoke(state[\"messages\"])}\n",
    "\n",
    "# Build graph\n",
    "builder = StateGraph(MessagesState)\n",
    "builder.add_node(\"chat_model\", chat_model_node)\n",
    "builder.add_edge(START, \"chat_model\")\n",
    "builder.add_edge(\"chat_model\", END)\n",
    "graph = builder.compile()\n",
    "\n",
    "# View\n",
    "display(Image(graph.get_graph().draw_mermaid_png()))"
   ]
  },
  {
   "cell_type": "code",
   "execution_count": 6,
   "id": "3a5a3e4a-ccfd-4d14-81f1-f0de6e11a1e4",
   "metadata": {},
   "outputs": [
    {
     "name": "stdout",
     "output_type": "stream",
     "text": [
      "==================================\u001b[1m Ai Message \u001b[0m==================================\n",
      "Name: Bot\n",
      "\n",
      "So you said you were researching ocean mammals?\n",
      "================================\u001b[1m Human Message \u001b[0m=================================\n",
      "Name: Lance\n",
      "\n",
      "Yes, I know about whales. But what others should I learn about?\n",
      "==================================\u001b[1m Ai Message \u001b[0m==================================\n",
      "\n",
      "In addition to whales, there are several other fascinating ocean mammals you might want to explore:\n",
      "\n",
      "1. **Dolphins**: Known for their intelligence and playful behavior, dolphins are widely studied and come in various species like the bottlenose dolphin, orca (which is actually a type of dolphin), and the spinner dolphin.\n",
      "\n",
      "2. **Porpoises**: Similar to dolphins but generally smaller and with different facial structures and teeth. The harbor porpoise and vaquita are examples.\n",
      "\n",
      "3. **Seals**: These marine mammals are part of the pinniped family and include species like the harbor seal, the elephant seal, and the leopard seal. They spend a significant part of their life in water but come ashore to rest and breed.\n",
      "\n",
      "4. **Sea Lions**: Another type of pinniped, sea lions are known for their external ear flaps and their ability to \"walk\" on land using their large flippers. The California sea lion is a well-known representative.\n",
      "\n",
      "5. **Walruses**: Recognizable by their long tusks and whiskers, walruses are social animals that inhabit Arctic regions. They are adapted to cold environments and rely on ice for resting.\n",
      "\n",
      "6. **Manatees and Dugongs**: These are gentle, slow-moving herbivorous mammals. Manatees are found in freshwater and saltwater environments along the coast of the Americas and Africa, while dugongs are mainly found in the waters of the Indo-Pacific region.\n",
      "\n",
      "7. **Sea Otters**: Although not exclusively ocean-dwelling, sea otters spend much of their time in coastal waters and are known for their dense fur and use of tools to open shellfish.\n",
      "\n",
      "Exploring the diverse adaptations and behaviors of these marine mammals can provide a deeper understanding of the ocean ecosystem and the evolutionary paths different species have taken to thrive in marine environments.\n"
     ]
    }
   ],
   "source": [
    "output = graph.invoke({'messages': messages})\n",
    "for m in output['messages']:\n",
    "    m.pretty_print()"
   ]
  },
  {
   "cell_type": "markdown",
   "id": "34c33e63-1ef4-412d-bb10-6a1b9e5b35a7",
   "metadata": {},
   "source": [
    "## Reducer\n",
    "\n",
    "A practical challenge when working with messages is managing long-running conversations. \n",
    "\n",
    "Long-running conversations result in high token usage and latency if we are not careful, because we pass a growing list of messages to the model.\n",
    "\n",
    "We have a few ways to address this.\n",
    "\n",
    "First, recall the trick we saw using `RemoveMessage` and the `add_messages` reducer."
   ]
  },
  {
   "cell_type": "code",
   "execution_count": 7,
   "id": "222c6bc5-bb0e-4a43-80f5-c8ec38d99f3a",
   "metadata": {},
   "outputs": [
    {
     "data": {
      "image/png": "[encoded data removed]",
      "text/plain": [
       "<IPython.core.display.Image object>"
      ]
     },
     "metadata": {},
     "output_type": "display_data"
    }
   ],
   "source": [
    "from langchain_core.messages import RemoveMessage\n",
    "\n",
    "# Nodes\n",
    "def filter_messages(state: MessagesState):\n",
    "    # Delete all but the 2 most recent messages\n",
    "    delete_messages = [RemoveMessage(id=m.id) for m in state[\"messages\"][:-2]]\n",
    "    return {\"messages\": delete_messages}\n",
    "\n",
    "def chat_model_node(state: MessagesState):    \n",
    "    return {\"messages\": [llm.invoke(state[\"messages\"])]}\n",
    "\n",
    "# Build graph\n",
    "builder = StateGraph(MessagesState)\n",
    "builder.add_node(\"filter\", filter_messages)\n",
    "builder.add_node(\"chat_model\", chat_model_node)\n",
    "builder.add_edge(START, \"filter\")\n",
    "builder.add_edge(\"filter\", \"chat_model\")\n",
    "builder.add_edge(\"chat_model\", END)\n",
    "graph = builder.compile()\n",
    "\n",
    "# View\n",
    "display(Image(graph.get_graph().draw_mermaid_png()))"
   ]
  },
  {
   "cell_type": "code",
   "execution_count": 8,
   "id": "95a7c2cc-54ce-43e7-9a90-abf37827d709",
   "metadata": {},
   "outputs": [
    {
     "name": "stdout",
     "output_type": "stream",
     "text": [
      "==================================\u001b[1m Ai Message \u001b[0m==================================\n",
      "Name: Bot\n",
      "\n",
      "So you said you were researching ocean mammals?\n",
      "================================\u001b[1m Human Message \u001b[0m=================================\n",
      "Name: Lance\n",
      "\n",
      "Yes, I know about whales. But what others should I learn about?\n",
      "==================================\u001b[1m Ai Message \u001b[0m==================================\n",
      "\n",
      "There are a variety of fascinating ocean mammals beyond whales that you might find interesting to learn about. Here are a few:\n",
      "\n",
      "1. **Dolphins**: Closely related to whales and porpoises, dolphins are highly intelligent and social creatures, known for their playful behavior and complex communication.\n",
      "\n",
      "2. **Porpoises**: Similar to dolphins but generally smaller and with different facial structures, porpoises are also intelligent and live in groups.\n",
      "\n",
      "3. **Seals**: There are numerous species of seals, which are pinnipeds that can be found in various marine environments around the world. They are known for their thick layer of blubber and ability to thrive in cold water.\n",
      "\n",
      "4. **Sea Lions**: Another type of pinniped, sea lions are known for their external ear flaps and ability to walk on land using their large flippers.\n",
      "\n",
      "5. **Walruses**: Recognizable by their large tusks, whiskers, and bulk, walruses are social pinnipeds that primarily live in the Arctic.\n",
      "\n",
      "6. **Manatees and Dugongs**: These are often referred to as \"sea cows\" and are known for their slow-moving, gentle nature. They inhabit warm coastal waters and feed primarily on sea grasses.\n",
      "\n",
      "7. **Sea Otters**: While not entirely ocean-dwelling, sea otters spend much of their time in coastal waters. They are known for their use of tools and thick fur, which keeps them warm in cold water.\n",
      "\n",
      "Each of these ocean mammals has unique adaptations to marine life, and studying them can provide insight into the diverse ways mammals have evolved to thrive in ocean environments.\n"
     ]
    }
   ],
   "source": [
    "# Message list with a preamble\n",
    "messages = [AIMessage(\"Hi.\", name=\"Bot\", id=\"1\")]\n",
    "messages.append(HumanMessage(\"Hi.\", name=\"Lance\", id=\"2\"))\n",
    "messages.append(AIMessage(\"So you said you were researching ocean mammals?\", name=\"Bot\", id=\"3\"))\n",
    "messages.append(HumanMessage(\"Yes, I know about whales. But what others should I learn about?\", name=\"Lance\", id=\"4\"))\n",
    "\n",
    "# Invoke\n",
    "output = graph.invoke({'messages': messages})\n",
    "for m in output['messages']:\n",
    "    m.pretty_print()"
   ]
  },
  {
   "cell_type": "markdown",
   "id": "f506457d-014b-4fee-a684-e5edfb4b8f0d",
   "metadata": {},
   "source": [
    "## Filtering messages\n",
    "\n",
    "If you don't need or want to modify the graph state, you can just filter the messages you pass to the chat model.\n",
    "\n",
    "For example, just pass in a filtered list: `llm.invoke(messages[-1:])` to the model."
   ]
  },
  {
   "cell_type": "code",
   "execution_count": 9,
   "id": "22d0b904-7cd6-486b-8948-105bee3d4683",
   "metadata": {},
   "outputs": [
    {
     "data": {
      "image/png": "[encoded data removed]",
      "text/plain": [
       "<IPython.core.display.Image object>"
      ]
     },
     "metadata": {},
     "output_type": "display_data"
    }
   ],
   "source": [
    "# Node\n",
    "def chat_model_node(state: MessagesState):\n",
    "    return {\"messages\": [llm.invoke(state[\"messages\"][-1:])]}\n",
    "\n",
    "# Build graph\n",
    "builder = StateGraph(MessagesState)\n",
    "builder.add_node(\"chat_model\", chat_model_node)\n",
    "builder.add_edge(START, \"chat_model\")\n",
    "builder.add_edge(\"chat_model\", END)\n",
    "graph = builder.compile()\n",
    "\n",
    "# View\n",
    "display(Image(graph.get_graph().draw_mermaid_png()))"
   ]
  },
  {
   "cell_type": "markdown",
   "id": "6f58c6fc-532f-418d-b70a-cfcb3307daf5",
   "metadata": {},
   "source": [
    "Let's take our existing list of messages, append the above LLM response, and append a follow-up question."
   ]
  },
  {
   "cell_type": "code",
   "execution_count": 11,
   "id": "16956015-1dbe-4108-89b5-4209b68b51ca",
   "metadata": {},
   "outputs": [],
   "source": [
    "messages.append(output['messages'][-1])\n",
    "messages.append(HumanMessage(f\"Tell me more about Narwhals!\", name=\"Lance\"))"
   ]
  },
  {
   "cell_type": "code",
   "execution_count": 12,
   "id": "85563415-c085-46a8-a4ac-155df798c54e",
   "metadata": {},
   "outputs": [
    {
     "name": "stdout",
     "output_type": "stream",
     "text": [
      "==================================\u001b[1m Ai Message \u001b[0m==================================\n",
      "Name: Bot\n",
      "\n",
      "Hi.\n",
      "================================\u001b[1m Human Message \u001b[0m=================================\n",
      "Name: Lance\n",
      "\n",
      "Hi.\n",
      "==================================\u001b[1m Ai Message \u001b[0m==================================\n",
      "Name: Bot\n",
      "\n",
      "So you said you were researching ocean mammals?\n",
      "================================\u001b[1m Human Message \u001b[0m=================================\n",
      "Name: Lance\n",
      "\n",
      "Yes, I know about whales. But what others should I learn about?\n",
      "==================================\u001b[1m Ai Message \u001b[0m==================================\n",
      "\n",
      "There are a variety of fascinating ocean mammals beyond whales that you might find interesting to learn about. Here are a few:\n",
      "\n",
      "1. **Dolphins**: Closely related to whales and porpoises, dolphins are highly intelligent and social creatures, known for their playful behavior and complex communication.\n",
      "\n",
      "2. **Porpoises**: Similar to dolphins but generally smaller and with different facial structures, porpoises are also intelligent and live in groups.\n",
      "\n",
      "3. **Seals**: There are numerous species of seals, which are pinnipeds that can be found in various marine environments around the world. They are known for their thick layer of blubber and ability to thrive in cold water.\n",
      "\n",
      "4. **Sea Lions**: Another type of pinniped, sea lions are known for their external ear flaps and ability to walk on land using their large flippers.\n",
      "\n",
      "5. **Walruses**: Recognizable by their large tusks, whiskers, and bulk, walruses are social pinnipeds that primarily live in the Arctic.\n",
      "\n",
      "6. **Manatees and Dugongs**: These are often referred to as \"sea cows\" and are known for their slow-moving, gentle nature. They inhabit warm coastal waters and feed primarily on sea grasses.\n",
      "\n",
      "7. **Sea Otters**: While not entirely ocean-dwelling, sea otters spend much of their time in coastal waters. They are known for their use of tools and thick fur, which keeps them warm in cold water.\n",
      "\n",
      "Each of these ocean mammals has unique adaptations to marine life, and studying them can provide insight into the diverse ways mammals have evolved to thrive in ocean environments.\n",
      "================================\u001b[1m Human Message \u001b[0m=================================\n",
      "Name: Lance\n",
      "\n",
      "Tell me more about Narwhals!\n"
     ]
    }
   ],
   "source": [
    "for m in messages:\n",
    "    m.pretty_print()"
   ]
  },
  {
   "cell_type": "code",
   "execution_count": 13,
   "id": "23349705-a059-47b5-9760-d8f64e687393",
   "metadata": {},
   "outputs": [
    {
     "name": "stdout",
     "output_type": "stream",
     "text": [
      "==================================\u001b[1m Ai Message \u001b[0m==================================\n",
      "Name: Bot\n",
      "\n",
      "Hi.\n",
      "================================\u001b[1m Human Message \u001b[0m=================================\n",
      "Name: Lance\n",
      "\n",
      "Hi.\n",
      "==================================\u001b[1m Ai Message \u001b[0m==================================\n",
      "Name: Bot\n",
      "\n",
      "So you said you were researching ocean mammals?\n",
      "================================\u001b[1m Human Message \u001b[0m=================================\n",
      "Name: Lance\n",
      "\n",
      "Yes, I know about whales. But what others should I learn about?\n",
      "==================================\u001b[1m Ai Message \u001b[0m==================================\n",
      "\n",
      "There are a variety of fascinating ocean mammals beyond whales that you might find interesting to learn about. Here are a few:\n",
      "\n",
      "1. **Dolphins**: Closely related to whales and porpoises, dolphins are highly intelligent and social creatures, known for their playful behavior and complex communication.\n",
      "\n",
      "2. **Porpoises**: Similar to dolphins but generally smaller and with different facial structures, porpoises are also intelligent and live in groups.\n",
      "\n",
      "3. **Seals**: There are numerous species of seals, which are pinnipeds that can be found in various marine environments around the world. They are known for their thick layer of blubber and ability to thrive in cold water.\n",
      "\n",
      "4. **Sea Lions**: Another type of pinniped, sea lions are known for their external ear flaps and ability to walk on land using their large flippers.\n",
      "\n",
      "5. **Walruses**: Recognizable by their large tusks, whiskers, and bulk, walruses are social pinnipeds that primarily live in the Arctic.\n",
      "\n",
      "6. **Manatees and Dugongs**: These are often referred to as \"sea cows\" and are known for their slow-moving, gentle nature. They inhabit warm coastal waters and feed primarily on sea grasses.\n",
      "\n",
      "7. **Sea Otters**: While not entirely ocean-dwelling, sea otters spend much of their time in coastal waters. They are known for their use of tools and thick fur, which keeps them warm in cold water.\n",
      "\n",
      "Each of these ocean mammals has unique adaptations to marine life, and studying them can provide insight into the diverse ways mammals have evolved to thrive in ocean environments.\n",
      "================================\u001b[1m Human Message \u001b[0m=================================\n",
      "Name: Lance\n",
      "\n",
      "Tell me more about Narwhals!\n",
      "==================================\u001b[1m Ai Message \u001b[0m==================================\n",
      "\n",
      "Narwhals (Monodon monoceros) are fascinating marine mammals known for their distinctive long, spiral tusks, which can grow up to 10 feet (3 meters) in length. They are part of the Monodontidae family, which also includes belugas.\n",
      "\n",
      "### Physical Characteristics:\n",
      "- **Tusks:** The tusk is actually an elongated tooth, usually found in males. It grows in a spiral pattern and is thought to play a role in mating rituals, dominance displays, or sensory perception. Some females also possess smaller tusks.\n",
      "- **Body:** Narwhals have a robust, torpedo-shaped body covered with a mottled black and white pattern. They lack a dorsal fin, which is thought to be an adaptation to swimming under ice.\n",
      "- **Size:** Adult narwhals typically range from 13 to 18 feet (4 to 5.5 meters) in length, not including the tusk, and weigh around 1,760 to 3,530 pounds (800 to 1,600 kilograms).\n",
      "\n",
      "### Habitat:\n",
      "Narwhals are native to Arctic waters around Canada, Greenland, Norway, and Russia. They are highly adapted to life in the icy waters, often found in pack ice and open-water areas along the edge of sea ice.\n",
      "\n",
      "### Behavior:\n",
      "- **Social Structure:** Narwhals are social animals, usually found in groups called pods, which can range from a few individuals to several dozen. During migration or feeding, pods may merge, forming large groups of hundreds of narwhals.\n",
      "- **Communication:** They are known to use clicks, whistles, and knocks to communicate and navigate through the dark and murky Arctic waters.\n",
      "- **Diet:** Their diet consists mainly of fish like halibut and cod, as well as shrimp and squid. They are deep divers, capable of diving over 4,900 feet (1,500 meters) in search of food.\n",
      "\n",
      "### Conservation:\n",
      "Although narwhal populations are not currently considered endangered, they face threats from climate change, which is rapidly altering their Arctic habitat. Other threats include increased shipping traffic, oil and gas development, and hunting by humans, primarily for subsistence.\n",
      "\n",
      "Narwhals play a significant role in Inuit culture and mythology and are often referred to as the \"unicorns of the sea\" because of their unique tusk. They continue to captivate scientists and the public alike, inspiring ongoing research to better understand their behaviors and ecology.\n"
     ]
    }
   ],
   "source": [
    "# Invoke, using message filtering\n",
    "output = graph.invoke({'messages': messages})\n",
    "for m in output['messages']:\n",
    "    m.pretty_print()"
   ]
  },
  {
   "cell_type": "markdown",
   "id": "42e1d8d2-e297-4d78-b54c-d12b3c866745",
   "metadata": {},
   "source": [
    "The state has all of the mesages.\n",
    "\n",
    "But, let's look at the LangSmith trace to see that the model invocation only uses the last message:\n",
    "\n",
    "https://smith.langchain.com/public/75aca3ce-ef19-4b92-94be-0178c7a660d9/r"
   ]
  },
  {
   "cell_type": "markdown",
   "id": "fc40d930-3c1f-47fe-8d2a-ce174873353c",
   "metadata": {},
   "source": [
    "## Trim messages\n",
    "\n",
    "Another approach is to [trim messages](https://python.langchain.com/v0.2/docs/how_to/trim_messages/#getting-the-last-max_tokens-tokens), based upon a set number of tokens. \n",
    "\n",
    "This restricts the message history to a specified number of tokens.\n",
    "\n",
    "While filtering only returns a post-hoc subset of the messages between agents, trimming restricts the number of tokens that a chat model can use to respond.\n",
    "\n",
    "See the `trim_messages` below."
   ]
  },
  {
   "cell_type": "code",
   "execution_count": 14,
   "id": "2ff99b81-cf03-4cc2-b44f-44829a73e1fd",
   "metadata": {},
   "outputs": [
    {
     "data": {
      "image/png": "[encoded data removed]",
      "text/plain": [
       "<IPython.core.display.Image object>"
      ]
     },
     "metadata": {},
     "output_type": "display_data"
    }
   ],
   "source": [
    "from langchain_core.messages import trim_messages\n",
    "\n",
    "# Node\n",
    "def chat_model_node(state: MessagesState):\n",
    "    messages = trim_messages(\n",
    "            state[\"messages\"],\n",
    "            max_tokens=100,\n",
    "            strategy=\"last\",\n",
    "            token_counter=ChatOpenAI(model=\"gpt-4o\"),\n",
    "            allow_partial=False,\n",
    "        )\n",
    "    return {\"messages\": [llm.invoke(messages)]}\n",
    "\n",
    "# Build graph\n",
    "builder = StateGraph(MessagesState)\n",
    "builder.add_node(\"chat_model\", chat_model_node)\n",
    "builder.add_edge(START, \"chat_model\")\n",
    "builder.add_edge(\"chat_model\", END)\n",
    "graph = builder.compile()\n",
    "\n",
    "# View\n",
    "display(Image(graph.get_graph().draw_mermaid_png()))"
   ]
  },
  {
   "cell_type": "code",
   "execution_count": 17,
   "id": "d1b3f837",
   "metadata": {},
   "outputs": [
    {
     "data": {
      "text/plain": [
       "[AIMessage(content='Hi.', additional_kwargs={}, response_metadata={}, name='Bot', id='1'),\n",
       " HumanMessage(content='Hi.', additional_kwargs={}, response_metadata={}, name='Lance', id='2'),\n",
       " AIMessage(content='So you said you were researching ocean mammals?', additional_kwargs={}, response_metadata={}, name='Bot', id='3'),\n",
       " HumanMessage(content='Yes, I know about whales. But what others should I learn about?', additional_kwargs={}, response_metadata={}, name='Lance', id='4'),\n",
       " AIMessage(content='There are a variety of fascinating ocean mammals beyond whales that you might find interesting to learn about. Here are a few:\\n\\n1. **Dolphins**: Closely related to whales and porpoises, dolphins are highly intelligent and social creatures, known for their playful behavior and complex communication.\\n\\n2. **Porpoises**: Similar to dolphins but generally smaller and with different facial structures, porpoises are also intelligent and live in groups.\\n\\n3. **Seals**: There are numerous species of seals, which are pinnipeds that can be found in various marine environments around the world. They are known for their thick layer of blubber and ability to thrive in cold water.\\n\\n4. **Sea Lions**: Another type of pinniped, sea lions are known for their external ear flaps and ability to walk on land using their large flippers.\\n\\n5. **Walruses**: Recognizable by their large tusks, whiskers, and bulk, walruses are social pinnipeds that primarily live in the Arctic.\\n\\n6. **Manatees and Dugongs**: These are often referred to as \"sea cows\" and are known for their slow-moving, gentle nature. They inhabit warm coastal waters and feed primarily on sea grasses.\\n\\n7. **Sea Otters**: While not entirely ocean-dwelling, sea otters spend much of their time in coastal waters. They are known for their use of tools and thick fur, which keeps them warm in cold water.\\n\\nEach of these ocean mammals has unique adaptations to marine life, and studying them can provide insight into the diverse ways mammals have evolved to thrive in ocean environments.', additional_kwargs={'refusal': None}, response_metadata={'token_usage': {'completion_tokens': 334, 'prompt_tokens': 39, 'total_tokens': 373, 'completion_tokens_details': {'accepted_prediction_tokens': 0, 'audio_tokens': 0, 'reasoning_tokens': 0, 'rejected_prediction_tokens': 0}, 'prompt_tokens_details': {'audio_tokens': 0, 'cached_tokens': 0}}, 'model_name': 'gpt-4o-2024-08-06', 'system_fingerprint': 'fp_07871e2ad8', 'id': 'chatcmpl-Bo0hzcqE6IZzIBam9CA2N2HsGyEIG', 'service_tier': 'default', 'finish_reason': 'stop', 'logprobs': None}, id='run--5fff7b7c-86d0-4ec1-aca9-5a4fd001ec4d-0', usage_metadata={'input_tokens': 39, 'output_tokens': 334, 'total_tokens': 373, 'input_token_details': {'audio': 0, 'cache_read': 0}, 'output_token_details': {'audio': 0, 'reasoning': 0}}),\n",
       " HumanMessage(content='Tell me more about Narwhals!', additional_kwargs={}, response_metadata={}, name='Lance', id='284f8b20-8326-4224-9da9-9c816e1acac8'),\n",
       " AIMessage(content='Narwhals (Monodon monoceros) are fascinating marine mammals known for their distinctive long, spiral tusks, which can grow up to 10 feet (3 meters) in length. They are part of the Monodontidae family, which also includes belugas.\\n\\n### Physical Characteristics:\\n- **Tusks:** The tusk is actually an elongated tooth, usually found in males. It grows in a spiral pattern and is thought to play a role in mating rituals, dominance displays, or sensory perception. Some females also possess smaller tusks.\\n- **Body:** Narwhals have a robust, torpedo-shaped body covered with a mottled black and white pattern. They lack a dorsal fin, which is thought to be an adaptation to swimming under ice.\\n- **Size:** Adult narwhals typically range from 13 to 18 feet (4 to 5.5 meters) in length, not including the tusk, and weigh around 1,760 to 3,530 pounds (800 to 1,600 kilograms).\\n\\n### Habitat:\\nNarwhals are native to Arctic waters around Canada, Greenland, Norway, and Russia. They are highly adapted to life in the icy waters, often found in pack ice and open-water areas along the edge of sea ice.\\n\\n### Behavior:\\n- **Social Structure:** Narwhals are social animals, usually found in groups called pods, which can range from a few individuals to several dozen. During migration or feeding, pods may merge, forming large groups of hundreds of narwhals.\\n- **Communication:** They are known to use clicks, whistles, and knocks to communicate and navigate through the dark and murky Arctic waters.\\n- **Diet:** Their diet consists mainly of fish like halibut and cod, as well as shrimp and squid. They are deep divers, capable of diving over 4,900 feet (1,500 meters) in search of food.\\n\\n### Conservation:\\nAlthough narwhal populations are not currently considered endangered, they face threats from climate change, which is rapidly altering their Arctic habitat. Other threats include increased shipping traffic, oil and gas development, and hunting by humans, primarily for subsistence.\\n\\nNarwhals play a significant role in Inuit culture and mythology and are often referred to as the \"unicorns of the sea\" because of their unique tusk. They continue to captivate scientists and the public alike, inspiring ongoing research to better understand their behaviors and ecology.', additional_kwargs={'refusal': None}, response_metadata={'token_usage': {'completion_tokens': 493, 'prompt_tokens': 17, 'total_tokens': 510, 'completion_tokens_details': {'accepted_prediction_tokens': 0, 'audio_tokens': 0, 'reasoning_tokens': 0, 'rejected_prediction_tokens': 0}, 'prompt_tokens_details': {'audio_tokens': 0, 'cached_tokens': 0}}, 'model_name': 'gpt-4o-2024-08-06', 'system_fingerprint': 'fp_07871e2ad8', 'id': 'chatcmpl-Bo0wDGNXeolsYrLjbIJobzbi0lY6Y', 'service_tier': 'default', 'finish_reason': 'stop', 'logprobs': None}, id='run--e7faaa4f-265a-4683-9078-12acccf0e0c2-0', usage_metadata={'input_tokens': 17, 'output_tokens': 493, 'total_tokens': 510, 'input_token_details': {'audio': 0, 'cache_read': 0}, 'output_token_details': {'audio': 0, 'reasoning': 0}}),\n",
       " HumanMessage(content='Tell me where Orcas live!', additional_kwargs={}, response_metadata={}, name='Lance')]"
      ]
     },
     "execution_count": 17,
     "metadata": {},
     "output_type": "execute_result"
    }
   ],
   "source": [
    "messages"
   ]
  },
  {
   "cell_type": "code",
   "execution_count": 16,
   "id": "24df63ac-da29-4874-b3df-7e390e97cc8a",
   "metadata": {},
   "outputs": [],
   "source": [
    "messages.append(output['messages'][-1])\n",
    "messages.append(HumanMessage(f\"Tell me where Orcas live!\", name=\"Lance\"))"
   ]
  },
  {
   "cell_type": "code",
   "execution_count": 40,
   "id": "6d9d8971-c75c-43ca-a209-eb1d07b2ead0",
   "metadata": {},
   "outputs": [],
   "source": [
    "# Example of trimming messages\n",
    "messages = trim_messages(\n",
    "            messages,\n",
    "            max_tokens=600,\n",
    "            strategy=\"last\",\n",
    "            token_counter=ChatOpenAI(model=\"gpt-4o\"),\n",
    "            allow_partial=False\n",
    "        )"
   ]
  },
  {
   "cell_type": "code",
   "execution_count": 43,
   "id": "ed70a269-a869-4fa0-a1df-29736a432c51",
   "metadata": {},
   "outputs": [
    {
     "data": {
      "text/plain": [
       "{'messages': [HumanMessage(content='Tell me more about Narwhals!', additional_kwargs={}, response_metadata={}, name='Lance', id='284f8b20-8326-4224-9da9-9c816e1acac8'),\n",
       "  AIMessage(content='Narwhals (Monodon monoceros) are fascinating marine mammals known for their distinctive long, spiral tusks, which can grow up to 10 feet (3 meters) in length. They are part of the Monodontidae family, which also includes belugas.\\n\\n### Physical Characteristics:\\n- **Tusks:** The tusk is actually an elongated tooth, usually found in males. It grows in a spiral pattern and is thought to play a role in mating rituals, dominance displays, or sensory perception. Some females also possess smaller tusks.\\n- **Body:** Narwhals have a robust, torpedo-shaped body covered with a mottled black and white pattern. They lack a dorsal fin, which is thought to be an adaptation to swimming under ice.\\n- **Size:** Adult narwhals typically range from 13 to 18 feet (4 to 5.5 meters) in length, not including the tusk, and weigh around 1,760 to 3,530 pounds (800 to 1,600 kilograms).\\n\\n### Habitat:\\nNarwhals are native to Arctic waters around Canada, Greenland, Norway, and Russia. They are highly adapted to life in the icy waters, often found in pack ice and open-water areas along the edge of sea ice.\\n\\n### Behavior:\\n- **Social Structure:** Narwhals are social animals, usually found in groups called pods, which can range from a few individuals to several dozen. During migration or feeding, pods may merge, forming large groups of hundreds of narwhals.\\n- **Communication:** They are known to use clicks, whistles, and knocks to communicate and navigate through the dark and murky Arctic waters.\\n- **Diet:** Their diet consists mainly of fish like halibut and cod, as well as shrimp and squid. They are deep divers, capable of diving over 4,900 feet (1,500 meters) in search of food.\\n\\n### Conservation:\\nAlthough narwhal populations are not currently considered endangered, they face threats from climate change, which is rapidly altering their Arctic habitat. Other threats include increased shipping traffic, oil and gas development, and hunting by humans, primarily for subsistence.\\n\\nNarwhals play a significant role in Inuit culture and mythology and are often referred to as the \"unicorns of the sea\" because of their unique tusk. They continue to captivate scientists and the public alike, inspiring ongoing research to better understand their behaviors and ecology.', additional_kwargs={'refusal': None}, response_metadata={'token_usage': {'completion_tokens': 493, 'prompt_tokens': 17, 'total_tokens': 510, 'completion_tokens_details': {'accepted_prediction_tokens': 0, 'audio_tokens': 0, 'reasoning_tokens': 0, 'rejected_prediction_tokens': 0}, 'prompt_tokens_details': {'audio_tokens': 0, 'cached_tokens': 0}}, 'model_name': 'gpt-4o-2024-08-06', 'system_fingerprint': 'fp_07871e2ad8', 'id': 'chatcmpl-Bo0wDGNXeolsYrLjbIJobzbi0lY6Y', 'service_tier': 'default', 'finish_reason': 'stop', 'logprobs': None}, id='run--e7faaa4f-265a-4683-9078-12acccf0e0c2-0', usage_metadata={'input_tokens': 17, 'output_tokens': 493, 'total_tokens': 510, 'input_token_details': {'audio': 0, 'cache_read': 0}, 'output_token_details': {'audio': 0, 'reasoning': 0}}),\n",
       "  HumanMessage(content='Tell me where Orcas live!', additional_kwargs={}, response_metadata={}, name='Lance', id='c72bc74b-d3dc-4a59-b08a-9b2ecce7b3e9'),\n",
       "  AIMessage(content='Orcas, also known as killer whales, are found in oceans all over the world. They are highly adaptable and can thrive in a wide range of marine environments, from the icy waters of the Arctic and Antarctic to the warmer seas of the equator. Some of the key areas where orcas are commonly found include:\\n\\n1. **North Pacific Ocean**: Particularly off the coasts of Alaska, British Columbia, and the Pacific Northwest of the United States. The waters around the Aleutian Islands and the Bering Sea are also crucial habitats.\\n\\n2. **North Atlantic Ocean**: Including areas around Norway, Iceland, and the British Isles.\\n\\n3. **Southern Ocean**: Surrounding Antarctica, where orcas can be found hunting for seals and other marine animals.\\n\\n4. **Coastal areas**: Such as Patagonia in Argentina, and the coastlines of New Zealand and South Africa.\\n\\n5. **Open ocean**: Orcas are also found in the deep open ocean, though they are more frequently observed in coastal and continental shelf waters.\\n\\n6. **Temperate to tropical waters**: They can also be found in the warmer waters around places like the Caribbean and the Mediterranean Sea, although they are less prevalent in these regions.\\n\\nDifferent populations of orcas often have specific ranges and behaviors, with some being resident groups that stick to one area, and others being transient or offshore, traveling long distances. Each population may have distinct hunting techniques and preferred prey, ranging from fish and squid to seals and whales.', additional_kwargs={'refusal': None}, response_metadata={'token_usage': {'completion_tokens': 304, 'prompt_tokens': 16, 'total_tokens': 320, 'completion_tokens_details': {'accepted_prediction_tokens': 0, 'audio_tokens': 0, 'reasoning_tokens': 0, 'rejected_prediction_tokens': 0}, 'prompt_tokens_details': {'audio_tokens': 0, 'cached_tokens': 0}}, 'model_name': 'gpt-4o-2024-08-06', 'system_fingerprint': 'fp_07871e2ad8', 'id': 'chatcmpl-Bo1KQM40Kvrgh8FWCAaKsjmeuMZmP', 'service_tier': 'default', 'finish_reason': 'stop', 'logprobs': None}, id='run--d2e8b796-57d0-46d6-bb30-ce081c20727e-0', usage_metadata={'input_tokens': 16, 'output_tokens': 304, 'total_tokens': 320, 'input_token_details': {'audio': 0, 'cache_read': 0}, 'output_token_details': {'audio': 0, 'reasoning': 0}})]}"
      ]
     },
     "execution_count": 43,
     "metadata": {},
     "output_type": "execute_result"
    }
   ],
   "source": [
    "# Invoke, using message trimming in the chat_model_node \n",
    "messages_out_trim = graph.invoke({'messages': messages})\n",
    "messages_out_trim"
   ]
  },
  {
   "cell_type": "markdown",
   "id": "38b3db67-380e-46b5-9a6a-20100ba52008",
   "metadata": {},
   "source": [
    "Let's look at the LangSmith trace to see the model invocation:\n",
    "\n",
    "https://smith.langchain.com/public/b153f7e9-f1a5-4d60-8074-f0d7ab5b42ef/r"
   ]
  }
 ],
 "metadata": {
  "kernelspec": {
   "display_name": "Python 3 (ipykernel)",
   "language": "python",
   "name": "python3"
  },
  "language_info": {
   "codemirror_mode": {
    "name": "ipython",
    "version": 3
   },
   "file_extension": ".py",
   "mimetype": "text/x-python",
   "name": "python",
   "nbconvert_exporter": "python",
   "pygments_lexer": "ipython3",
   "version": "3.11.12"
  }
 },
 "nbformat": 4,
 "nbformat_minor": 5
}
