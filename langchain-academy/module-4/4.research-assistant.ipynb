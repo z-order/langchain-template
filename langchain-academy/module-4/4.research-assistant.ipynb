{
 "cells": [
  {
   "cell_type": "markdown",
   "id": "7a5c2153",
   "metadata": {},
   "source": [
    "[![Open in Colab](https://colab.research.google.com/assets/colab-badge.svg)](https://colab.research.google.com/github/langchain-ai/langchain-academy/blob/main/module-4/research-assistant.ipynb) [![Open in LangChain Academy](https://cdn.prod.website-files.com/65b8cd72835ceeacd4449a53/66e9eba12c7b7688aa3dbb5e_LCA-badge-green.svg)](https://academy.langchain.com/courses/take/intro-to-langgraph/lessons/58239974-lesson-4-research-assistant)"
   ]
  },
  {
   "attachments": {},
   "cell_type": "markdown",
   "id": "e0a5763f-5f45-4b8f-b3e2-480f46c5721b",
   "metadata": {},
   "source": [
    "# Research Assistant\n",
    "\n",
    "## Review\n",
    "\n",
    "We've covered a few major LangGraph themes:\n",
    "\n",
    "* Memory\n",
    "* Human-in-the-loop\n",
    "* Controllability\n",
    "\n",
    "Now, we'll bring these ideas together to tackle one of AI's most popular applications: research automation. \n",
    "\n",
    "Research is often laborious work offloaded to analysts. AI has considerable potential to assist with this.\n",
    "\n",
    "However, research demands customization: raw LLM outputs are often poorly suited for real-world decision-making workflows. \n",
    "\n",
    "Customized, AI-based [research and report generation](https://jxnl.co/writing/2024/06/05/predictions-for-the-future-of-rag/#reports-over-rag) workflows are a promising way to address this.\n",
    "\n",
    "## Goal\n",
    "\n",
    "Our goal is to build a lightweight, multi-agent system around chat models that customizes the research process.\n",
    "\n",
    "`Source Selection` \n",
    "* Users can choose any set of input sources for their research.\n",
    "  \n",
    "`Planning` \n",
    "* Users provide a topic, and the system generates a team of AI analysts, each focusing on one sub-topic.\n",
    "* `Human-in-the-loop` will be used to refine these sub-topics before research begins.\n",
    "  \n",
    "`LLM Utilization`\n",
    "* Each analyst will conduct in-depth interviews with an expert AI using the selected sources.\n",
    "* The interview will be a multi-turn conversation to extract detailed insights as shown in the [STORM](https://github.com/langchain-ai/langgraph/blob/main/examples/storm/storm.ipynb) paper.\n",
    "* These interviews will be captured in a using `sub-graphs` with their internal state. \n",
    "   \n",
    "`Research Process`\n",
    "* Experts will gather information to answer analyst questions in `parallel`.\n",
    "* And all interviews will be conducted simultaneously through `map-reduce`.\n",
    "\n",
    "`Output Format` \n",
    "* The gathered insights from each interview will be synthesized into a final report.\n",
    "* We'll use customizable prompts for the report, allowing for a flexible output format. \n",
    "\n",
    "![Screenshot 2024-08-26 at 7.26.33 PM.png](https://cdn.prod.website-files.com/65b8cd72835ceeacd4449a53/66dbb164d61c93d48e604091_research-assistant1.png)"
   ]
  },
  {
   "cell_type": "code",
   "execution_count": null,
   "id": "f23991e9-51b3-4e9f-86a0-dec16aa7d1e6",
   "metadata": {
    "scrolled": true
   },
   "outputs": [],
   "source": [
    "%%capture --no-stderr\n",
    "%pip install --quiet -U langgraph langchain_openai langchain_community langchain_core tavily-python wikipedia"
   ]
  },
  {
   "cell_type": "markdown",
   "id": "99a1c01d-87e1-4723-b83e-ebcf937fe914",
   "metadata": {},
   "source": [
    "## Setup"
   ]
  },
  {
   "cell_type": "code",
   "execution_count": 22,
   "id": "ba917800-10e4-4e2a-8e9e-30893b731e97",
   "metadata": {},
   "outputs": [],
   "source": [
    "import os, getpass\n",
    "\n",
    "def _set_env(var: str):\n",
    "    if not os.environ.get(var):\n",
    "        os.environ[var] = getpass.getpass(f\"{var}: \")\n",
    "\n",
    "_set_env(\"OPENAI_API_KEY\")"
   ]
  },
  {
   "cell_type": "code",
   "execution_count": 23,
   "id": "afe9ff57-0826-4669-b88b-4d0501a509f5",
   "metadata": {},
   "outputs": [],
   "source": [
    "from langchain_openai import ChatOpenAI\n",
    "llm = ChatOpenAI(model=\"gpt-4o\", temperature=0) "
   ]
  },
  {
   "cell_type": "markdown",
   "id": "3419257b-2c6b-4d68-ae38-4a266cc02982",
   "metadata": {},
   "source": [
    "We'll use [LangSmith](https://docs.smith.langchain.com/) for [tracing](https://docs.smith.langchain.com/concepts/tracing)."
   ]
  },
  {
   "cell_type": "code",
   "execution_count": 26,
   "id": "5102cf2e-0ca9-465b-9499-67abb8132e5d",
   "metadata": {},
   "outputs": [],
   "source": [
    "_set_env(\"LANGSMITH_API_KEY\")\n",
    "os.environ[\"LANGSMITH_TRACING\"] = \"true\"\n",
    "os.environ[\"LANGSMITH_PROJECT\"] = \"langchain-academy-3\""
   ]
  },
  {
   "cell_type": "markdown",
   "id": "f8fe5d93-e353-44bb-be3e-434654bcb7ea",
   "metadata": {},
   "source": [
    "## Generate Analysts: Human-In-The-Loop\n",
    "\n",
    "Create analysts and review them using human-in-the-loop."
   ]
  },
  {
   "cell_type": "code",
   "execution_count": 27,
   "id": "1eee8e60-e548-49b1-88ec-a4f3aef2174e",
   "metadata": {},
   "outputs": [],
   "source": [
    "from typing import List\n",
    "from typing_extensions import TypedDict\n",
    "from pydantic import BaseModel, Field\n",
    "\n",
    "class Analyst(BaseModel):\n",
    "    affiliation: str = Field(\n",
    "        description=\"Primary affiliation of the analyst.\",\n",
    "    )\n",
    "    name: str = Field(\n",
    "        description=\"Name of the analyst.\"\n",
    "    )\n",
    "    role: str = Field(\n",
    "        description=\"Role of the analyst in the context of the topic.\",\n",
    "    )\n",
    "    description: str = Field(\n",
    "        description=\"Description of the analyst focus, concerns, and motives.\",\n",
    "    )\n",
    "    @property\n",
    "    def persona(self) -> str:\n",
    "        return f\"Name: {self.name}\\nRole: {self.role}\\nAffiliation: {self.affiliation}\\nDescription: {self.description}\\n\"\n",
    "\n",
    "class Perspectives(BaseModel):\n",
    "    analysts: List[Analyst] = Field(\n",
    "        description=\"Comprehensive list of analysts with their roles and affiliations.\",\n",
    "    )\n",
    "\n",
    "class GenerateAnalystsState(TypedDict):\n",
    "    topic: str # Research topic\n",
    "    max_analysts: int # Number of analysts\n",
    "    human_analyst_feedback: str # Human feedback\n",
    "    analysts: List[Analyst] # Analyst asking questions"
   ]
  },
  {
   "cell_type": "code",
   "execution_count": 28,
   "id": "fd088ff5-4c75-412c-85f0-04afd0900bfc",
   "metadata": {},
   "outputs": [
    {
     "data": {
      "image/png": "[encoded data removed]",
      "text/plain": [
       "<IPython.core.display.Image object>"
      ]
     },
     "metadata": {},
     "output_type": "display_data"
    }
   ],
   "source": [
    "from IPython.display import Image, display\n",
    "from langgraph.graph import START, END, StateGraph\n",
    "from langgraph.checkpoint.memory import MemorySaver\n",
    "from langchain_core.messages import AIMessage, HumanMessage, SystemMessage\n",
    "\n",
    "analyst_instructions=\"\"\"You are tasked with creating a set of AI analyst personas. Follow these instructions carefully:\n",
    "\n",
    "1. First, review the research topic:\n",
    "{topic}\n",
    "        \n",
    "2. Examine any editorial feedback that has been optionally provided to guide creation of the analysts: \n",
    "        \n",
    "{human_analyst_feedback}\n",
    "    \n",
    "3. Determine the most interesting themes based upon documents and / or feedback above.\n",
    "                    \n",
    "4. Pick the top {max_analysts} themes.\n",
    "\n",
    "5. Assign one analyst to each theme.\"\"\"\n",
    "\n",
    "def create_analysts(state: GenerateAnalystsState):\n",
    "    \n",
    "    \"\"\" Create analysts \"\"\"\n",
    "    \n",
    "    topic=state['topic']\n",
    "    max_analysts=state['max_analysts']\n",
    "    human_analyst_feedback=state.get('human_analyst_feedback', '')\n",
    "        \n",
    "    # Enforce structured output\n",
    "    structured_llm = llm.with_structured_output(Perspectives)\n",
    "\n",
    "    # System message\n",
    "    system_message = analyst_instructions.format(topic=topic,\n",
    "                                                            human_analyst_feedback=human_analyst_feedback, \n",
    "                                                            max_analysts=max_analysts)\n",
    "\n",
    "    # Generate question \n",
    "    analysts = structured_llm.invoke([SystemMessage(content=system_message)]+[HumanMessage(content=\"Generate the set of analysts.\")])\n",
    "    \n",
    "    # Write the list of analysis to state\n",
    "    return {\"analysts\": analysts.analysts}\n",
    "\n",
    "def human_feedback(state: GenerateAnalystsState):\n",
    "    \"\"\" No-op node that should be interrupted on \"\"\"\n",
    "    pass\n",
    "\n",
    "def should_continue(state: GenerateAnalystsState):\n",
    "    \"\"\" Return the next node to execute \"\"\"\n",
    "\n",
    "    # Check if human feedback\n",
    "    human_analyst_feedback=state.get('human_analyst_feedback', None)\n",
    "    if human_analyst_feedback:\n",
    "        return \"create_analysts\"\n",
    "    \n",
    "    # Otherwise end\n",
    "    return END\n",
    "\n",
    "# Add nodes and edges \n",
    "builder = StateGraph(GenerateAnalystsState)\n",
    "builder.add_node(\"create_analysts\", create_analysts)\n",
    "builder.add_node(\"human_feedback\", human_feedback)\n",
    "builder.add_edge(START, \"create_analysts\")\n",
    "builder.add_edge(\"create_analysts\", \"human_feedback\")\n",
    "builder.add_conditional_edges(\"human_feedback\", should_continue, [\"create_analysts\", END])\n",
    "\n",
    "# Compile\n",
    "memory = MemorySaver()\n",
    "graph = builder.compile(interrupt_before=['human_feedback'], checkpointer=memory)\n",
    "\n",
    "# View\n",
    "display(Image(graph.get_graph(xray=1).draw_mermaid_png()))"
   ]
  },
  {
   "cell_type": "code",
   "execution_count": 29,
   "id": "6c22cb05-c436-4358-8f7a-72d722f9b5cc",
   "metadata": {},
   "outputs": [
    {
     "name": "stdout",
     "output_type": "stream",
     "text": [
      "\n",
      "\n",
      "==================================================\n",
      "{'topic': 'The benefits of adopting LangGraph as an agent framework', 'max_analysts': 3}\n",
      "--------------------------------------------------\n",
      "\n",
      "\n",
      "==================================================\n",
      "{'topic': 'The benefits of adopting LangGraph as an agent framework', 'max_analysts': 3, 'analysts': [Analyst(affiliation='Tech Innovators Inc.', name='Dr. Emily Carter', role='Technology Adoption Specialist', description='Dr. Carter focuses on the strategic benefits of adopting new technologies like LangGraph. She is particularly interested in how LangGraph can streamline processes, improve efficiency, and provide a competitive edge to organizations. Her analysis often includes case studies and data-driven insights to support the adoption of innovative frameworks.'), Analyst(affiliation='Data Security Solutions', name='Mr. Raj Patel', role='Cybersecurity Analyst', description='Mr. Patel is concerned with the security implications of adopting new frameworks such as LangGraph. His focus is on evaluating the security features of LangGraph, assessing potential vulnerabilities, and ensuring that the framework complies with industry standards and best practices. He provides insights into how LangGraph can enhance or compromise data security.'), Analyst(affiliation='AI Ethics Consortium', name='Dr. Lisa Nguyen', role='Ethical AI Researcher', description='Dr. Nguyen examines the ethical considerations of using agent frameworks like LangGraph. Her work involves analyzing the impact of LangGraph on privacy, bias, and transparency in AI systems. She advocates for responsible AI development and ensures that the adoption of LangGraph aligns with ethical guidelines and promotes fairness and accountability.')]}\n",
      "--------------------------------------------------\n",
      "Name: Dr. Emily Carter\n",
      "Affiliation: Tech Innovators Inc.\n",
      "Role: Technology Adoption Specialist\n",
      "Description: Dr. Carter focuses on the strategic benefits of adopting new technologies like LangGraph. She is particularly interested in how LangGraph can streamline processes, improve efficiency, and provide a competitive edge to organizations. Her analysis often includes case studies and data-driven insights to support the adoption of innovative frameworks.\n",
      "--------------------------------------------------\n",
      "Name: Mr. Raj Patel\n",
      "Affiliation: Data Security Solutions\n",
      "Role: Cybersecurity Analyst\n",
      "Description: Mr. Patel is concerned with the security implications of adopting new frameworks such as LangGraph. His focus is on evaluating the security features of LangGraph, assessing potential vulnerabilities, and ensuring that the framework complies with industry standards and best practices. He provides insights into how LangGraph can enhance or compromise data security.\n",
      "--------------------------------------------------\n",
      "Name: Dr. Lisa Nguyen\n",
      "Affiliation: AI Ethics Consortium\n",
      "Role: Ethical AI Researcher\n",
      "Description: Dr. Nguyen examines the ethical considerations of using agent frameworks like LangGraph. Her work involves analyzing the impact of LangGraph on privacy, bias, and transparency in AI systems. She advocates for responsible AI development and ensures that the adoption of LangGraph aligns with ethical guidelines and promotes fairness and accountability.\n",
      "--------------------------------------------------\n"
     ]
    }
   ],
   "source": [
    "# Input\n",
    "max_analysts = 3 \n",
    "topic = \"The benefits of adopting LangGraph as an agent framework\"\n",
    "thread = {\"configurable\": {\"thread_id\": \"1\"}}\n",
    "\n",
    "# Run the graph until the first interruption\n",
    "for event in graph.stream({\"topic\":topic,\"max_analysts\":max_analysts,}, thread, stream_mode=\"values\"):\n",
    "    # Print the event\n",
    "    print(\"\\n\\n\" + \"=\" * 50)\n",
    "    print(event)\n",
    "    print(\"-\" * 50)\n",
    "    # Review\n",
    "    analysts = event.get('analysts', '')\n",
    "    if analysts:\n",
    "        for analyst in analysts:\n",
    "            print(f\"Name: {analyst.name}\")\n",
    "            print(f\"Affiliation: {analyst.affiliation}\")\n",
    "            print(f\"Role: {analyst.role}\")\n",
    "            print(f\"Description: {analyst.description}\")\n",
    "            print(\"-\" * 50)  "
   ]
  },
  {
   "cell_type": "code",
   "execution_count": 30,
   "id": "2f81ad23-5656-43e6-b50a-0d7a4f69a60a",
   "metadata": {},
   "outputs": [
    {
     "data": {
      "text/plain": [
       "('human_feedback',)"
      ]
     },
     "execution_count": 30,
     "metadata": {},
     "output_type": "execute_result"
    }
   ],
   "source": [
    "# Get state and look at next node\n",
    "state = graph.get_state(thread)\n",
    "state.next"
   ]
  },
  {
   "cell_type": "code",
   "execution_count": 31,
   "id": "72b2a402-fd10-4f26-9a32-3e3c0d4aaf76",
   "metadata": {},
   "outputs": [
    {
     "data": {
      "text/plain": [
       "{'configurable': {'thread_id': '1',\n",
       "  'checkpoint_ns': '',\n",
       "  'checkpoint_id': '1f0580fe-f213-6243-8002-a0c948522b06'}}"
      ]
     },
     "execution_count": 31,
     "metadata": {},
     "output_type": "execute_result"
    }
   ],
   "source": [
    "# We now update the state as if we are the human_feedback node\n",
    "graph.update_state(thread, {\"human_analyst_feedback\": \n",
    "                            \"Add in someone from a startup AC/VC to add an investor perspective\"}, as_node=\"human_feedback\")"
   ]
  },
  {
   "cell_type": "code",
   "execution_count": 32,
   "id": "b8816eb9-9906-441b-b552-be71107db14f",
   "metadata": {},
   "outputs": [
    {
     "name": "stdout",
     "output_type": "stream",
     "text": [
      "\n",
      "\n",
      "==================================================\n",
      "{'topic': 'The benefits of adopting LangGraph as an agent framework', 'max_analysts': 3, 'human_analyst_feedback': 'Add in someone from a startup AC/VC to add an investor perspective', 'analysts': [Analyst(affiliation='Tech Innovators Inc.', name='Dr. Emily Carter', role='Technology Adoption Specialist', description='Dr. Carter focuses on the strategic benefits of adopting new technologies like LangGraph. She is particularly interested in how LangGraph can streamline processes, improve efficiency, and provide a competitive edge to organizations. Her analysis often includes case studies and data-driven insights to support the adoption of innovative frameworks.'), Analyst(affiliation='Data Security Solutions', name='Mr. Raj Patel', role='Cybersecurity Analyst', description='Mr. Patel is concerned with the security implications of adopting new frameworks such as LangGraph. His focus is on evaluating the security features of LangGraph, assessing potential vulnerabilities, and ensuring that the framework complies with industry standards and best practices. He provides insights into how LangGraph can enhance or compromise data security.'), Analyst(affiliation='AI Ethics Consortium', name='Dr. Lisa Nguyen', role='Ethical AI Researcher', description='Dr. Nguyen examines the ethical considerations of using agent frameworks like LangGraph. Her work involves analyzing the impact of LangGraph on privacy, bias, and transparency in AI systems. She advocates for responsible AI development and ensures that the adoption of LangGraph aligns with ethical guidelines and promotes fairness and accountability.')]}\n",
      "--------------------------------------------------\n",
      "Name: Dr. Emily Carter\n",
      "Affiliation: Tech Innovators Inc.\n",
      "Role: Technology Adoption Specialist\n",
      "Description: Dr. Carter focuses on the strategic benefits of adopting new technologies like LangGraph. She is particularly interested in how LangGraph can streamline processes, improve efficiency, and provide a competitive edge to organizations. Her analysis often includes case studies and data-driven insights to support the adoption of innovative frameworks.\n",
      "--------------------------------------------------\n",
      "Name: Mr. Raj Patel\n",
      "Affiliation: Data Security Solutions\n",
      "Role: Cybersecurity Analyst\n",
      "Description: Mr. Patel is concerned with the security implications of adopting new frameworks such as LangGraph. His focus is on evaluating the security features of LangGraph, assessing potential vulnerabilities, and ensuring that the framework complies with industry standards and best practices. He provides insights into how LangGraph can enhance or compromise data security.\n",
      "--------------------------------------------------\n",
      "Name: Dr. Lisa Nguyen\n",
      "Affiliation: AI Ethics Consortium\n",
      "Role: Ethical AI Researcher\n",
      "Description: Dr. Nguyen examines the ethical considerations of using agent frameworks like LangGraph. Her work involves analyzing the impact of LangGraph on privacy, bias, and transparency in AI systems. She advocates for responsible AI development and ensures that the adoption of LangGraph aligns with ethical guidelines and promotes fairness and accountability.\n",
      "--------------------------------------------------\n",
      "\n",
      "\n",
      "==================================================\n",
      "{'topic': 'The benefits of adopting LangGraph as an agent framework', 'max_analysts': 3, 'human_analyst_feedback': 'Add in someone from a startup AC/VC to add an investor perspective', 'analysts': [Analyst(affiliation='Tech Innovators Inc.', name='Dr. Emily Carter', role='Technology Analyst', description='Dr. Emily Carter focuses on the technical advantages and innovations brought by adopting LangGraph as an agent framework. Her primary interest lies in how LangGraph can enhance system performance, scalability, and integration capabilities. She is particularly concerned with the technical feasibility and the potential for LangGraph to streamline complex processes in software development.'), Analyst(affiliation='GreenTech Solutions', name='Michael Thompson', role='Sustainability Analyst', description='Michael Thompson evaluates the environmental and sustainability benefits of adopting LangGraph. His analysis centers on how LangGraph can contribute to reducing energy consumption and improving resource efficiency in tech operations. He is motivated by the potential for LangGraph to support sustainable development goals and reduce the carbon footprint of technology infrastructures.'), Analyst(affiliation='Venture Capital Firm AC/VC', name='Sarah Lee', role='Investment Analyst', description=\"Sarah Lee provides an investor's perspective on the adoption of LangGraph. She is interested in the market potential and financial benefits of integrating LangGraph into business models. Her focus is on the return on investment, competitive advantage, and the potential for LangGraph to drive innovation and growth in startups and established companies alike.\")]}\n",
      "--------------------------------------------------\n",
      "Name: Dr. Emily Carter\n",
      "Affiliation: Tech Innovators Inc.\n",
      "Role: Technology Analyst\n",
      "Description: Dr. Emily Carter focuses on the technical advantages and innovations brought by adopting LangGraph as an agent framework. Her primary interest lies in how LangGraph can enhance system performance, scalability, and integration capabilities. She is particularly concerned with the technical feasibility and the potential for LangGraph to streamline complex processes in software development.\n",
      "--------------------------------------------------\n",
      "Name: Michael Thompson\n",
      "Affiliation: GreenTech Solutions\n",
      "Role: Sustainability Analyst\n",
      "Description: Michael Thompson evaluates the environmental and sustainability benefits of adopting LangGraph. His analysis centers on how LangGraph can contribute to reducing energy consumption and improving resource efficiency in tech operations. He is motivated by the potential for LangGraph to support sustainable development goals and reduce the carbon footprint of technology infrastructures.\n",
      "--------------------------------------------------\n",
      "Name: Sarah Lee\n",
      "Affiliation: Venture Capital Firm AC/VC\n",
      "Role: Investment Analyst\n",
      "Description: Sarah Lee provides an investor's perspective on the adoption of LangGraph. She is interested in the market potential and financial benefits of integrating LangGraph into business models. Her focus is on the return on investment, competitive advantage, and the potential for LangGraph to drive innovation and growth in startups and established companies alike.\n",
      "--------------------------------------------------\n"
     ]
    }
   ],
   "source": [
    "# Continue the graph execution\n",
    "for event in graph.stream(None, thread, stream_mode=\"values\"):\n",
    "    # Print the event\n",
    "    print(\"\\n\\n\" + \"=\" * 50)\n",
    "    print(event)\n",
    "    print(\"-\" * 50)    \n",
    "    # Review\n",
    "    analysts = event.get('analysts', '')\n",
    "    if analysts:\n",
    "        for analyst in analysts:\n",
    "            print(f\"Name: {analyst.name}\")\n",
    "            print(f\"Affiliation: {analyst.affiliation}\")\n",
    "            print(f\"Role: {analyst.role}\")\n",
    "            print(f\"Description: {analyst.description}\")\n",
    "            print(\"-\" * 50) "
   ]
  },
  {
   "cell_type": "code",
   "execution_count": 33,
   "id": "bcb3527c",
   "metadata": {},
   "outputs": [
    {
     "data": {
      "text/plain": [
       "{'topic': 'The benefits of adopting LangGraph as an agent framework',\n",
       " 'max_analysts': 3,\n",
       " 'human_analyst_feedback': 'Add in someone from a startup AC/VC to add an investor perspective',\n",
       " 'analysts': [Analyst(affiliation='Tech Innovators Inc.', name='Dr. Emily Carter', role='Technology Analyst', description='Dr. Emily Carter focuses on the technical advantages and innovations brought by adopting LangGraph as an agent framework. Her primary interest lies in how LangGraph can enhance system performance, scalability, and integration capabilities. She is particularly concerned with the technical feasibility and the potential for LangGraph to streamline complex processes in software development.'),\n",
       "  Analyst(affiliation='GreenTech Solutions', name='Michael Thompson', role='Sustainability Analyst', description='Michael Thompson evaluates the environmental and sustainability benefits of adopting LangGraph. His analysis centers on how LangGraph can contribute to reducing energy consumption and improving resource efficiency in tech operations. He is motivated by the potential for LangGraph to support sustainable development goals and reduce the carbon footprint of technology infrastructures.'),\n",
       "  Analyst(affiliation='Venture Capital Firm AC/VC', name='Sarah Lee', role='Investment Analyst', description=\"Sarah Lee provides an investor's perspective on the adoption of LangGraph. She is interested in the market potential and financial benefits of integrating LangGraph into business models. Her focus is on the return on investment, competitive advantage, and the potential for LangGraph to drive innovation and growth in startups and established companies alike.\")]}"
      ]
     },
     "execution_count": 33,
     "metadata": {},
     "output_type": "execute_result"
    }
   ],
   "source": [
    "# Display the state\n",
    "state = graph.get_state(thread)\n",
    "state.values"
   ]
  },
  {
   "cell_type": "code",
   "execution_count": 34,
   "id": "a43ac322-5926-4932-8653-68206fec0d2c",
   "metadata": {},
   "outputs": [
    {
     "data": {
      "text/plain": [
       "{'configurable': {'thread_id': '1',\n",
       "  'checkpoint_ns': '',\n",
       "  'checkpoint_id': '1f058100-4862-6e5a-8004-eb68d4890d2f'}}"
      ]
     },
     "execution_count": 34,
     "metadata": {},
     "output_type": "execute_result"
    }
   ],
   "source": [
    "# If we are satisfied, then we simply supply no feedback\n",
    "further_feedack = None\n",
    "graph.update_state(thread, {\"human_analyst_feedback\": \n",
    "                            further_feedack}, as_node=\"human_feedback\")"
   ]
  },
  {
   "cell_type": "code",
   "execution_count": 35,
   "id": "ab034e65-aeee-4723-8d6d-74541b548425",
   "metadata": {},
   "outputs": [],
   "source": [
    "# Continue the graph execution to end\n",
    "for event in graph.stream(None, thread, stream_mode=\"updates\"):\n",
    "    print(\"--Node--\")\n",
    "    node_name = next(iter(event.keys()))\n",
    "    print(node_name)"
   ]
  },
  {
   "cell_type": "code",
   "execution_count": 36,
   "id": "2f204e8a-285c-4e46-8223-a695caec7764",
   "metadata": {},
   "outputs": [],
   "source": [
    "final_state = graph.get_state(thread)\n",
    "analysts = final_state.values.get('analysts')"
   ]
  },
  {
   "cell_type": "code",
   "execution_count": 37,
   "id": "59704086-cb3b-42e9-8395-37be6f0d44e9",
   "metadata": {},
   "outputs": [
    {
     "data": {
      "text/plain": [
       "()"
      ]
     },
     "execution_count": 37,
     "metadata": {},
     "output_type": "execute_result"
    }
   ],
   "source": [
    "final_state.next"
   ]
  },
  {
   "cell_type": "code",
   "execution_count": 38,
   "id": "230a4f23",
   "metadata": {},
   "outputs": [
    {
     "data": {
      "text/plain": [
       "{'configurable': {'thread_id': '1',\n",
       "  'checkpoint_ns': '',\n",
       "  'checkpoint_id': '1f058100-4862-6e5a-8004-eb68d4890d2f'}}"
      ]
     },
     "execution_count": 38,
     "metadata": {},
     "output_type": "execute_result"
    }
   ],
   "source": [
    "final_state.config"
   ]
  },
  {
   "cell_type": "code",
   "execution_count": 56,
   "id": "7fb5c639",
   "metadata": {},
   "outputs": [
    {
     "data": {
      "text/plain": [
       "{'source': 'update', 'step': 4, 'parents': {}, 'thread_id': '1'}"
      ]
     },
     "execution_count": 56,
     "metadata": {},
     "output_type": "execute_result"
    }
   ],
   "source": [
    "final_state.metadata"
   ]
  },
  {
   "cell_type": "code",
   "execution_count": 39,
   "id": "3877723c",
   "metadata": {},
   "outputs": [
    {
     "data": {
      "text/plain": [
       "{'topic': 'The benefits of adopting LangGraph as an agent framework',\n",
       " 'max_analysts': 3,\n",
       " 'human_analyst_feedback': None,\n",
       " 'analysts': [Analyst(affiliation='Tech Innovators Inc.', name='Dr. Emily Carter', role='Technology Analyst', description='Dr. Emily Carter focuses on the technical advantages and innovations brought by adopting LangGraph as an agent framework. Her primary interest lies in how LangGraph can enhance system performance, scalability, and integration capabilities. She is particularly concerned with the technical feasibility and the potential for LangGraph to streamline complex processes in software development.'),\n",
       "  Analyst(affiliation='GreenTech Solutions', name='Michael Thompson', role='Sustainability Analyst', description='Michael Thompson evaluates the environmental and sustainability benefits of adopting LangGraph. His analysis centers on how LangGraph can contribute to reducing energy consumption and improving resource efficiency in tech operations. He is motivated by the potential for LangGraph to support sustainable development goals and reduce the carbon footprint of technology infrastructures.'),\n",
       "  Analyst(affiliation='Venture Capital Firm AC/VC', name='Sarah Lee', role='Investment Analyst', description=\"Sarah Lee provides an investor's perspective on the adoption of LangGraph. She is interested in the market potential and financial benefits of integrating LangGraph into business models. Her focus is on the return on investment, competitive advantage, and the potential for LangGraph to drive innovation and growth in startups and established companies alike.\")]}"
      ]
     },
     "execution_count": 39,
     "metadata": {},
     "output_type": "execute_result"
    }
   ],
   "source": [
    "final_state.values"
   ]
  },
  {
   "cell_type": "code",
   "execution_count": 40,
   "id": "95717ba3-aa00-48d6-bbb7-5fe4db5919bf",
   "metadata": {},
   "outputs": [
    {
     "name": "stdout",
     "output_type": "stream",
     "text": [
      "Name: Dr. Emily Carter\n",
      "Affiliation: Tech Innovators Inc.\n",
      "Role: Technology Analyst\n",
      "Description: Dr. Emily Carter focuses on the technical advantages and innovations brought by adopting LangGraph as an agent framework. Her primary interest lies in how LangGraph can enhance system performance, scalability, and integration capabilities. She is particularly concerned with the technical feasibility and the potential for LangGraph to streamline complex processes in software development.\n",
      "--------------------------------------------------\n",
      "Name: Michael Thompson\n",
      "Affiliation: GreenTech Solutions\n",
      "Role: Sustainability Analyst\n",
      "Description: Michael Thompson evaluates the environmental and sustainability benefits of adopting LangGraph. His analysis centers on how LangGraph can contribute to reducing energy consumption and improving resource efficiency in tech operations. He is motivated by the potential for LangGraph to support sustainable development goals and reduce the carbon footprint of technology infrastructures.\n",
      "--------------------------------------------------\n",
      "Name: Sarah Lee\n",
      "Affiliation: Venture Capital Firm AC/VC\n",
      "Role: Investment Analyst\n",
      "Description: Sarah Lee provides an investor's perspective on the adoption of LangGraph. She is interested in the market potential and financial benefits of integrating LangGraph into business models. Her focus is on the return on investment, competitive advantage, and the potential for LangGraph to drive innovation and growth in startups and established companies alike.\n",
      "--------------------------------------------------\n"
     ]
    }
   ],
   "source": [
    "for analyst in analysts:\n",
    "    print(f\"Name: {analyst.name}\")\n",
    "    print(f\"Affiliation: {analyst.affiliation}\")\n",
    "    print(f\"Role: {analyst.role}\")\n",
    "    print(f\"Description: {analyst.description}\")\n",
    "    print(\"-\" * 50) "
   ]
  },
  {
   "cell_type": "markdown",
   "id": "7d2498e4-20ae-4503-9dd0-a4165132b7a7",
   "metadata": {},
   "source": [
    "## Conduct Interview\n",
    "\n",
    "### Generate Question\n",
    "\n",
    "The analyst will ask questions to the expert."
   ]
  },
  {
   "cell_type": "code",
   "execution_count": 41,
   "id": "e5d5f559-f42e-442b-87cd-dbf0a91abf9c",
   "metadata": {},
   "outputs": [],
   "source": [
    "import operator\n",
    "from typing import  Annotated\n",
    "from langgraph.graph import MessagesState\n",
    "\n",
    "class InterviewState(MessagesState):\n",
    "    max_num_turns: int # Number turns of conversation\n",
    "    context: Annotated[list, operator.add] # Source docs\n",
    "    analyst: Analyst # Analyst asking questions\n",
    "    interview: str # Interview transcript\n",
    "    sections: list # Final key we duplicate in outer state for Send() API\n",
    "\n",
    "class SearchQuery(BaseModel):\n",
    "    search_query: str = Field(None, description=\"Search query for retrieval.\")"
   ]
  },
  {
   "cell_type": "code",
   "execution_count": 42,
   "id": "1c2e71eb-07ad-4bea-aabc-dbaf551408c0",
   "metadata": {},
   "outputs": [],
   "source": [
    "question_instructions = \"\"\"You are an analyst tasked with interviewing an expert to learn about a specific topic. \n",
    "\n",
    "Your goal is boil down to interesting and specific insights related to your topic.\n",
    "\n",
    "1. Interesting: Insights that people will find surprising or non-obvious.\n",
    "        \n",
    "2. Specific: Insights that avoid generalities and include specific examples from the expert.\n",
    "\n",
    "Here is your topic of focus and set of goals: {goals}\n",
    "        \n",
    "Begin by introducing yourself using a name that fits your persona, and then ask your question.\n",
    "\n",
    "Continue to ask questions to drill down and refine your understanding of the topic.\n",
    "        \n",
    "When you are satisfied with your understanding, complete the interview with: \"Thank you so much for your help!\"\n",
    "\n",
    "Remember to stay in character throughout your response, reflecting the persona and goals provided to you.\"\"\"\n",
    "\n",
    "def ask_question(state: InterviewState):\n",
    "    \"\"\" Node to generate a question \"\"\"\n",
    "\n",
    "    # Get state\n",
    "    analyst = state[\"analyst\"]\n",
    "    messages = state[\"messages\"]\n",
    "\n",
    "    # Generate question \n",
    "    system_message = question_instructions.format(goals=analyst.persona)\n",
    "    question = llm.invoke([SystemMessage(content=system_message)]+messages)\n",
    "        \n",
    "    # Write messages to state\n",
    "    return {\"messages\": [question]}"
   ]
  },
  {
   "cell_type": "markdown",
   "id": "be2ff33a-6232-4a79-8a82-882a645394f5",
   "metadata": {},
   "source": [
    "### Generate Answer: Parallelization\n",
    "\n",
    "The expert will gather information from multiple sources in parallel to answer questions.\n",
    "\n",
    "For example, we can use:\n",
    "\n",
    "* Specific web sites e.g., via [`WebBaseLoader`](https://python.langchain.com/v0.2/docs/integrations/document_loaders/web_base/)\n",
    "* Indexed documents e.g., via [RAG](https://python.langchain.com/v0.2/docs/tutorials/rag/)\n",
    "* Web search\n",
    "* Wikipedia search\n",
    "\n",
    "You can try different web search tools, like [Tavily](https://tavily.com/)."
   ]
  },
  {
   "cell_type": "code",
   "execution_count": 43,
   "id": "606ea95b-e811-4299-8b66-835d4016c338",
   "metadata": {},
   "outputs": [],
   "source": [
    "def _set_env(var: str):\n",
    "    if not os.environ.get(var):\n",
    "        os.environ[var] = getpass.getpass(f\"{var}: \")\n",
    "\n",
    "_set_env(\"TAVILY_API_KEY\")"
   ]
  },
  {
   "cell_type": "code",
   "execution_count": 44,
   "id": "c61ae74a-f838-4e97-8bd5-48ccd15b7789",
   "metadata": {},
   "outputs": [],
   "source": [
    "# Web search tool\n",
    "from langchain_community.tools.tavily_search import TavilySearchResults\n",
    "tavily_search = TavilySearchResults(max_results=3)"
   ]
  },
  {
   "cell_type": "code",
   "execution_count": 45,
   "id": "2d8f760b-5a1a-4fa9-a014-d3fb02bec51c",
   "metadata": {},
   "outputs": [],
   "source": [
    "# Wikipedia search tool\n",
    "from langchain_community.document_loaders import WikipediaLoader"
   ]
  },
  {
   "cell_type": "markdown",
   "id": "06cb1603",
   "metadata": {},
   "source": [
    "Now, we create nodes to search the web and wikipedia.\n",
    "\n",
    "We'll also create a node to answer analyst questions.\n",
    "\n",
    "Finally, we'll create nodes to save the full interview and to write a summary (\"section\") of the interview."
   ]
  },
  {
   "cell_type": "code",
   "execution_count": 62,
   "id": "9c863768-2278-415b-aef1-96fd18c1b1cb",
   "metadata": {},
   "outputs": [
    {
     "data": {
      "image/png": "[encoded data removed]",
      "text/plain": [
       "<IPython.core.display.Image object>"
      ]
     },
     "metadata": {},
     "output_type": "display_data"
    }
   ],
   "source": [
    "from langchain_core.messages import get_buffer_string\n",
    "\n",
    "# Search query writing\n",
    "search_instructions = SystemMessage(content=f\"\"\"You will be given a conversation between an analyst and an expert. \n",
    "\n",
    "Your goal is to generate a well-structured query for use in retrieval and / or web-search related to the conversation.\n",
    "        \n",
    "First, analyze the full conversation.\n",
    "\n",
    "Pay particular attention to the final question posed by the analyst.\n",
    "\n",
    "Convert this final question into a well-structured web search query\"\"\")\n",
    "\n",
    "def search_web(state: InterviewState):\n",
    "    \n",
    "    \"\"\" Retrieve docs from web search \"\"\"\n",
    "\n",
    "    # Search query\n",
    "    structured_llm = llm.with_structured_output(SearchQuery)\n",
    "    search_query = structured_llm.invoke([search_instructions]+state['messages'])\n",
    "    \n",
    "    # Search\n",
    "    search_docs = tavily_search.invoke(search_query.search_query)\n",
    "\n",
    "     # Format\n",
    "    formatted_search_docs = \"\\n\\n---\\n\\n\".join(\n",
    "        [\n",
    "            f'<Document href=\"{doc[\"url\"]}\"/>\\n{doc[\"content\"]}\\n</Document>'\n",
    "            for doc in search_docs\n",
    "        ]\n",
    "    )\n",
    "\n",
    "    return {\"context\": [formatted_search_docs]} \n",
    "\n",
    "def search_wikipedia(state: InterviewState):\n",
    "    \n",
    "    \"\"\" Retrieve docs from wikipedia \"\"\"\n",
    "\n",
    "    # Search query\n",
    "    structured_llm = llm.with_structured_output(SearchQuery)\n",
    "    search_query = structured_llm.invoke([search_instructions]+state['messages'])\n",
    "    \n",
    "    # Search\n",
    "    search_docs = WikipediaLoader(query=search_query.search_query, \n",
    "                                  load_max_docs=2).load()\n",
    "\n",
    "     # Format\n",
    "    formatted_search_docs = \"\\n\\n---\\n\\n\".join(\n",
    "        [\n",
    "            f'<Document source=\"{doc.metadata[\"source\"]}\" page=\"{doc.metadata.get(\"page\", \"\")}\"/>\\n{doc.page_content}\\n</Document>'\n",
    "            for doc in search_docs\n",
    "        ]\n",
    "    )\n",
    "\n",
    "    return {\"context\": [formatted_search_docs]} \n",
    "\n",
    "answer_instructions = \"\"\"You are an expert being interviewed by an analyst.\n",
    "\n",
    "Here is analyst area of focus: {goals}. \n",
    "        \n",
    "Your goal is to answer a question posed by the interviewer.\n",
    "\n",
    "To answer question, use this context:\n",
    "        \n",
    "{context}\n",
    "\n",
    "When answering questions, follow these guidelines:\n",
    "        \n",
    "1. Use only the information provided in the context. \n",
    "        \n",
    "2. Do not introduce external information or make assumptions beyond what is explicitly stated in the context.\n",
    "\n",
    "3. The context contain sources at the topic of each individual document.\n",
    "\n",
    "4. Include these sources your answer next to any relevant statements. For example, for source # 1 use [1]. \n",
    "\n",
    "5. List your sources in order at the bottom of your answer. [1] Source 1, [2] Source 2, etc\n",
    "        \n",
    "6. If the source is: <Document source=\"assistant/docs/llama3_1.pdf\" page=\"7\"/>' then just list: \n",
    "        \n",
    "[1] assistant/docs/llama3_1.pdf, page 7 \n",
    "        \n",
    "And skip the addition of the brackets as well as the Document source preamble in your citation.\"\"\"\n",
    "\n",
    "def answer_question(state: InterviewState):\n",
    "    \n",
    "    \"\"\" Node to answer a question \"\"\"\n",
    "\n",
    "    # Get state\n",
    "    analyst = state[\"analyst\"]\n",
    "    messages = state[\"messages\"]\n",
    "    context = state[\"context\"]\n",
    "\n",
    "    # Answer question\n",
    "    system_message = answer_instructions.format(goals=analyst.persona, context=context)\n",
    "    answer = llm.invoke([SystemMessage(content=system_message)]+messages)\n",
    "            \n",
    "    # Name the message as coming from the expert\n",
    "    answer.name = \"expert\"\n",
    "    \n",
    "    # Append it to state\n",
    "    return {\"messages\": [answer]}\n",
    "\n",
    "def save_interview(state: InterviewState):\n",
    "    \n",
    "    \"\"\" Save interviews \"\"\"\n",
    "\n",
    "    # Get messages\n",
    "    messages = state[\"messages\"]\n",
    "    \n",
    "    # Convert interview to a string\n",
    "    interview = get_buffer_string(messages)\n",
    "    \n",
    "    # Save to interviews key\n",
    "    return {\"interview\": interview}\n",
    "\n",
    "def route_messages(state: InterviewState, \n",
    "                   name: str = \"expert\"):\n",
    "\n",
    "    \"\"\" Route between question and answer \"\"\"\n",
    "    \n",
    "    # Get messages\n",
    "    messages = state[\"messages\"]\n",
    "    max_num_turns = state.get('max_num_turns',2)\n",
    "\n",
    "    # Check the number of expert answers \n",
    "    num_responses = len(\n",
    "        [m for m in messages if isinstance(m, AIMessage) and m.name == name]\n",
    "    )\n",
    "\n",
    "    # End if expert has answered more than the max turns\n",
    "    if num_responses >= max_num_turns:\n",
    "        return 'save_interview'\n",
    "\n",
    "    # This router is run after each question - answer pair \n",
    "    # Get the last question asked to check if it signals the end of discussion\n",
    "    last_question = messages[-2]\n",
    "    \n",
    "    if \"Thank you so much for your help\" in last_question.content:\n",
    "        return 'save_interview'\n",
    "    return \"ask_question\"\n",
    "\n",
    "section_writer_instructions = \"\"\"You are an expert technical writer. \n",
    "            \n",
    "Your task is to create a short, easily digestible section of a report based on a set of source documents.\n",
    "\n",
    "1. Analyze the content of the source documents: \n",
    "- The name of each source document is at the start of the document, with the <Document tag.\n",
    "        \n",
    "2. Create a report structure using markdown formatting:\n",
    "- Use ## for the section title\n",
    "- Use ### for sub-section headers\n",
    "        \n",
    "3. Write the report following this structure:\n",
    "a. Title (## header)\n",
    "b. Summary (### header)\n",
    "c. Sources (### header)\n",
    "\n",
    "4. Make your title engaging based upon the focus area of the analyst: \n",
    "{focus}\n",
    "\n",
    "5. For the summary section:\n",
    "- Set up summary with general background / context related to the focus area of the analyst\n",
    "- Emphasize what is novel, interesting, or surprising about insights gathered from the interview\n",
    "- Create a numbered list of source documents, as you use them\n",
    "- Do not mention the names of interviewers or experts\n",
    "- Aim for approximately 400 words maximum\n",
    "- Use numbered sources in your report (e.g., [1], [2], [3], ...) based on information from source documents\n",
    "        \n",
    "6. In the Sources section:\n",
    "- Include all sources used in your report\n",
    "- Provide full links to relevant websites or specific document paths\n",
    "- Separate each source by a newline. Use two spaces at the end of each line to create a newline in Markdown.\n",
    "- It will look like:\n",
    "\n",
    "### Sources\n",
    "[1] Link or Document name\n",
    "[2] Link or Document name\n",
    "\n",
    "7. Be sure to combine sources. For example this is not correct:\n",
    "\n",
    "[1] https://ai.meta.com/blog/meta-llama-3-1/\n",
    "[2] https://ai.meta.com/blog/meta-llama-3-1/\n",
    "\n",
    "There should be no redundant sources. It should simply be:\n",
    "\n",
    "[1] https://ai.meta.com/blog/meta-llama-3-1/\n",
    "\n",
    "8. Final review:\n",
    "- Ensure the report follows the required structure\n",
    "- Include no preamble before the title of the report\n",
    "- Check that all guidelines have been followed\"\"\"\n",
    "\n",
    "def write_section(state: InterviewState):\n",
    "\n",
    "    \"\"\" Node to answer a question \"\"\"\n",
    "\n",
    "    # Get state\n",
    "    interview = state[\"interview\"]\n",
    "    context = state[\"context\"]\n",
    "    analyst = state[\"analyst\"]\n",
    "   \n",
    "    # Write section using either the gathered source docs from interview (context) or the interview itself (interview)\n",
    "    system_message = section_writer_instructions.format(focus=analyst.description)\n",
    "    section = llm.invoke([SystemMessage(content=system_message)]+[HumanMessage(\n",
    "        content=f\"\"\"\n",
    "Use the following source and interview to write your section.\n",
    "The source is enclosed with <source> tag and the interview is enclosed with <interview> tag.\n",
    "<source>{context}</source>\\n\\n---\\n\\n<interview>{interview}</interview>\"\"\")]) \n",
    "    \n",
    "    print(section.content)\n",
    "\n",
    "    # Append it to state\n",
    "    return {\"sections\": [section.content]}\n",
    "\n",
    "# Add nodes and edges \n",
    "interview_builder = StateGraph(InterviewState)\n",
    "interview_builder.add_node(\"ask_question\", ask_question)\n",
    "interview_builder.add_node(\"search_web\", search_web)\n",
    "interview_builder.add_node(\"search_wikipedia\", search_wikipedia)\n",
    "interview_builder.add_node(\"answer_question\", answer_question)\n",
    "interview_builder.add_node(\"save_interview\", save_interview)\n",
    "interview_builder.add_node(\"write_section\", write_section)\n",
    "\n",
    "# Flow\n",
    "interview_builder.add_edge(START, \"ask_question\")\n",
    "interview_builder.add_edge(\"ask_question\", \"search_web\")\n",
    "interview_builder.add_edge(\"ask_question\", \"search_wikipedia\")\n",
    "interview_builder.add_edge(\"search_web\", \"answer_question\")\n",
    "interview_builder.add_edge(\"search_wikipedia\", \"answer_question\")\n",
    "interview_builder.add_conditional_edges(\"answer_question\", route_messages,['ask_question','save_interview'])\n",
    "interview_builder.add_edge(\"save_interview\", \"write_section\")\n",
    "interview_builder.add_edge(\"write_section\", END)\n",
    "\n",
    "# Interview \n",
    "memory = MemorySaver()\n",
    "interview_graph = interview_builder.compile(checkpointer=memory).with_config(run_name=\"Conduct Interviews\")\n",
    "\n",
    "# View\n",
    "display(Image(interview_graph.get_graph().draw_mermaid_png()))"
   ]
  },
  {
   "cell_type": "code",
   "execution_count": 47,
   "id": "50f382f1-6e93-48d0-a44a-1094d26ccb1e",
   "metadata": {},
   "outputs": [
    {
     "data": {
      "text/plain": [
       "Analyst(affiliation='Tech Innovators Inc.', name='Dr. Emily Carter', role='Technology Analyst', description='Dr. Emily Carter focuses on the technical advantages and innovations brought by adopting LangGraph as an agent framework. Her primary interest lies in how LangGraph can enhance system performance, scalability, and integration capabilities. She is particularly concerned with the technical feasibility and the potential for LangGraph to streamline complex processes in software development.')"
      ]
     },
     "execution_count": 47,
     "metadata": {},
     "output_type": "execute_result"
    }
   ],
   "source": [
    "# Pick one analyst\n",
    "analysts[0]"
   ]
  },
  {
   "cell_type": "markdown",
   "id": "3750ac4f-f458-4b2d-8bad-32ce34895758",
   "metadata": {},
   "source": [
    "Here, we run the interview passing an index of the llama3.1 paper, which is related to our topic."
   ]
  },
  {
   "cell_type": "code",
   "execution_count": 48,
   "id": "b2242d4e-8430-4de9-8cf7-3ad2f9a22b28",
   "metadata": {},
   "outputs": [
    {
     "name": "stdout",
     "output_type": "stream",
     "text": [
      "## LangGraph: Revolutionizing Agent Frameworks for Enhanced System Performance\n",
      "\n",
      "### Summary\n",
      "\n",
      "In the rapidly evolving landscape of software development, the need for robust frameworks that can handle complex processes efficiently is paramount. LangGraph emerges as a groundbreaking agent framework that offers significant technical advantages over traditional solutions. Unlike Directed Acyclic Graph (DAG)-based frameworks, LangGraph supports cyclical workflows, which are essential for implementing agent-like behaviors. This capability allows developers to create sophisticated agents that can iteratively refine their understanding and actions, leading to more capable AI systems [1][2].\n",
      "\n",
      "One of the most compelling features of LangGraph is its ability to enhance system performance through fine-grained control over application flow and state. This is achieved by allowing developers to manage complex agent interactions more effectively, thereby improving system quality and reducing development time. The framework's built-in persistence feature supports advanced memory and cumulative loop functions, further contributing to its robustness [3].\n",
      "\n",
      "For organizations and developers aiming to build complex agent systems or applications requiring stateful, iterative processing, LangGraph provides a solid foundation. However, it is crucial to assess whether the additional complexity of LangGraph is justified for simpler applications, as its capabilities are best suited for scenarios that demand such advanced features [2].\n",
      "\n",
      "A notable example of LangGraph's cyclical workflow capability is its application in developing a debate system between two agents. In this system, a user poses a question, and two agents—one optimistic and one skeptical—debate the topic. A judge agent evaluates the arguments and determines the best answer to return to the user. LangGraph's support for cycles allows these agents to loop through their tasks, evaluate outcomes, and adapt dynamically based on the debate's progress and the judge's evaluation [4]. This cyclical capability streamlines the process by enabling continuous refinement and decision-making, which would be challenging to implement with traditional DAG-based frameworks [5].\n",
      "\n",
      "In summary, LangGraph stands out as a versatile and powerful framework that can significantly enhance system performance, scalability, and integration capabilities. Its innovative approach to cyclical workflows and state management makes it an ideal choice for developers looking to streamline complex processes in software development.\n",
      "\n",
      "### Sources\n",
      "[1] https://medium.com/primastat/building-agentic-applications-with-langgraph-part-1-tabular-ocr-agent-6ba81a6c0862  \n",
      "[2] https://medium.com/@ken_lin/langgraph-a-framework-for-building-stateful-multi-agent-llm-applications-a51d5eb68d03  \n",
      "[3] https://arize.com/blog/langgraph/  \n",
      "[4] https://www.metriccoders.com/post/langgraph-building-stateful-multi-agent-workflows-with-langchain  \n",
      "[5] https://blog.spheron.network/build-smarter-ai-agents-in-minutes-with-langgraph  \n"
     ]
    },
    {
     "data": {
      "text/markdown": [
       "## LangGraph: Revolutionizing Agent Frameworks for Enhanced System Performance\n",
       "\n",
       "### Summary\n",
       "\n",
       "In the rapidly evolving landscape of software development, the need for robust frameworks that can handle complex processes efficiently is paramount. LangGraph emerges as a groundbreaking agent framework that offers significant technical advantages over traditional solutions. Unlike Directed Acyclic Graph (DAG)-based frameworks, LangGraph supports cyclical workflows, which are essential for implementing agent-like behaviors. This capability allows developers to create sophisticated agents that can iteratively refine their understanding and actions, leading to more capable AI systems [1][2].\n",
       "\n",
       "One of the most compelling features of LangGraph is its ability to enhance system performance through fine-grained control over application flow and state. This is achieved by allowing developers to manage complex agent interactions more effectively, thereby improving system quality and reducing development time. The framework's built-in persistence feature supports advanced memory and cumulative loop functions, further contributing to its robustness [3].\n",
       "\n",
       "For organizations and developers aiming to build complex agent systems or applications requiring stateful, iterative processing, LangGraph provides a solid foundation. However, it is crucial to assess whether the additional complexity of LangGraph is justified for simpler applications, as its capabilities are best suited for scenarios that demand such advanced features [2].\n",
       "\n",
       "A notable example of LangGraph's cyclical workflow capability is its application in developing a debate system between two agents. In this system, a user poses a question, and two agents—one optimistic and one skeptical—debate the topic. A judge agent evaluates the arguments and determines the best answer to return to the user. LangGraph's support for cycles allows these agents to loop through their tasks, evaluate outcomes, and adapt dynamically based on the debate's progress and the judge's evaluation [4]. This cyclical capability streamlines the process by enabling continuous refinement and decision-making, which would be challenging to implement with traditional DAG-based frameworks [5].\n",
       "\n",
       "In summary, LangGraph stands out as a versatile and powerful framework that can significantly enhance system performance, scalability, and integration capabilities. Its innovative approach to cyclical workflows and state management makes it an ideal choice for developers looking to streamline complex processes in software development.\n",
       "\n",
       "### Sources\n",
       "[1] https://medium.com/primastat/building-agentic-applications-with-langgraph-part-1-tabular-ocr-agent-6ba81a6c0862  \n",
       "[2] https://medium.com/@ken_lin/langgraph-a-framework-for-building-stateful-multi-agent-llm-applications-a51d5eb68d03  \n",
       "[3] https://arize.com/blog/langgraph/  \n",
       "[4] https://www.metriccoders.com/post/langgraph-building-stateful-multi-agent-workflows-with-langchain  \n",
       "[5] https://blog.spheron.network/build-smarter-ai-agents-in-minutes-with-langgraph  "
      ],
      "text/plain": [
       "<IPython.core.display.Markdown object>"
      ]
     },
     "execution_count": 48,
     "metadata": {},
     "output_type": "execute_result"
    }
   ],
   "source": [
    "from IPython.display import Markdown\n",
    "messages = [HumanMessage(f\"So you said you were writing an article on {topic}?\")]\n",
    "thread = {\"configurable\": {\"thread_id\": \"1\"}}\n",
    "interview = interview_graph.invoke({\"analyst\": analysts[0], \"messages\": messages, \"max_num_turns\": 2}, thread)\n",
    "Markdown(interview['sections'][0])"
   ]
  },
  {
   "cell_type": "code",
   "execution_count": 49,
   "id": "261f73cd",
   "metadata": {},
   "outputs": [
    {
     "data": {
      "text/plain": [
       "[\"## LangGraph: Revolutionizing Agent Frameworks for Enhanced System Performance\\n\\n### Summary\\n\\nIn the rapidly evolving landscape of software development, the need for robust frameworks that can handle complex processes efficiently is paramount. LangGraph emerges as a groundbreaking agent framework that offers significant technical advantages over traditional solutions. Unlike Directed Acyclic Graph (DAG)-based frameworks, LangGraph supports cyclical workflows, which are essential for implementing agent-like behaviors. This capability allows developers to create sophisticated agents that can iteratively refine their understanding and actions, leading to more capable AI systems [1][2].\\n\\nOne of the most compelling features of LangGraph is its ability to enhance system performance through fine-grained control over application flow and state. This is achieved by allowing developers to manage complex agent interactions more effectively, thereby improving system quality and reducing development time. The framework's built-in persistence feature supports advanced memory and cumulative loop functions, further contributing to its robustness [3].\\n\\nFor organizations and developers aiming to build complex agent systems or applications requiring stateful, iterative processing, LangGraph provides a solid foundation. However, it is crucial to assess whether the additional complexity of LangGraph is justified for simpler applications, as its capabilities are best suited for scenarios that demand such advanced features [2].\\n\\nA notable example of LangGraph's cyclical workflow capability is its application in developing a debate system between two agents. In this system, a user poses a question, and two agents—one optimistic and one skeptical—debate the topic. A judge agent evaluates the arguments and determines the best answer to return to the user. LangGraph's support for cycles allows these agents to loop through their tasks, evaluate outcomes, and adapt dynamically based on the debate's progress and the judge's evaluation [4]. This cyclical capability streamlines the process by enabling continuous refinement and decision-making, which would be challenging to implement with traditional DAG-based frameworks [5].\\n\\nIn summary, LangGraph stands out as a versatile and powerful framework that can significantly enhance system performance, scalability, and integration capabilities. Its innovative approach to cyclical workflows and state management makes it an ideal choice for developers looking to streamline complex processes in software development.\\n\\n### Sources\\n[1] https://medium.com/primastat/building-agentic-applications-with-langgraph-part-1-tabular-ocr-agent-6ba81a6c0862  \\n[2] https://medium.com/@ken_lin/langgraph-a-framework-for-building-stateful-multi-agent-llm-applications-a51d5eb68d03  \\n[3] https://arize.com/blog/langgraph/  \\n[4] https://www.metriccoders.com/post/langgraph-building-stateful-multi-agent-workflows-with-langchain  \\n[5] https://blog.spheron.network/build-smarter-ai-agents-in-minutes-with-langgraph  \"]"
      ]
     },
     "execution_count": 49,
     "metadata": {},
     "output_type": "execute_result"
    }
   ],
   "source": [
    "interview['sections']"
   ]
  },
  {
   "cell_type": "code",
   "execution_count": 52,
   "id": "7115c45e",
   "metadata": {},
   "outputs": [
    {
     "data": {
      "text/plain": [
       "{'messages': [HumanMessage(content='So you said you were writing an article on The benefits of adopting LangGraph as an agent framework?', additional_kwargs={}, response_metadata={}, id='159b4564-2223-43a0-ab09-50815d09e13c'),\n",
       "  AIMessage(content=\"Hello, I'm Alex Thompson, a fellow technology enthusiast and writer. I'm eager to learn more about the technical advantages and innovations that LangGraph brings to the table. Dr. Carter, could you start by explaining what makes LangGraph stand out in terms of enhancing system performance compared to other agent frameworks?\", additional_kwargs={'refusal': None}, response_metadata={'token_usage': {'completion_tokens': 59, 'prompt_tokens': 263, 'total_tokens': 322, 'completion_tokens_details': {'accepted_prediction_tokens': 0, 'audio_tokens': 0, 'reasoning_tokens': 0, 'rejected_prediction_tokens': 0}, 'prompt_tokens_details': {'audio_tokens': 0, 'cached_tokens': 0}}, 'model_name': 'gpt-4o-2024-08-06', 'system_fingerprint': 'fp_07871e2ad8', 'id': 'chatcmpl-BpE7uzIPJXJVyEnEjl4FqR0PH4DuO', 'service_tier': 'default', 'finish_reason': 'stop', 'logprobs': None}, id='run--52c10895-88a0-4773-98f7-6457826239e4-0', usage_metadata={'input_tokens': 263, 'output_tokens': 59, 'total_tokens': 322, 'input_token_details': {'audio': 0, 'cache_read': 0}, 'output_token_details': {'audio': 0, 'reasoning': 0}}),\n",
       "  AIMessage(content=\"Certainly, Dr. Carter. LangGraph distinguishes itself from other agent frameworks primarily through its support for cyclical workflows, which are essential for implementing agent-like behaviors. Unlike Directed Acyclic Graph (DAG)-based solutions, LangGraph allows for cycles, enabling developers to create workflows with loops and conditions. This capability is crucial for developing sophisticated agents that can iteratively refine their understanding and actions, leading to more capable AI systems [1][2].\\n\\nAdditionally, LangGraph offers fine-grained control over the flow and state of an application, which enhances system performance by allowing developers to manage complex agent interactions more effectively. Its built-in persistence feature supports advanced memory and cumulative loop functions, further contributing to improved system quality and reduced development time [3].\\n\\nFor organizations and developers looking to build complex agent systems or applications requiring stateful, iterative processing, LangGraph provides a robust foundation. However, it's important to note that for simpler applications, the additional complexity of LangGraph may not be justified unless the specific requirements and use cases demand such capabilities [2].\\n\\nSources:\\n[1] medium.com/primastat\\n[2] medium.com/@ken_lin\\n[3] arize.com/blog/langgraph\", additional_kwargs={'refusal': None}, response_metadata={'token_usage': {'completion_tokens': 239, 'prompt_tokens': 2713, 'total_tokens': 2952, 'completion_tokens_details': {'accepted_prediction_tokens': 0, 'audio_tokens': 0, 'reasoning_tokens': 0, 'rejected_prediction_tokens': 0}, 'prompt_tokens_details': {'audio_tokens': 0, 'cached_tokens': 0}}, 'model_name': 'gpt-4o-2024-08-06', 'system_fingerprint': 'fp_07871e2ad8', 'id': 'chatcmpl-BpE8336aVgKBY0cygqfPhDmnsrpE6', 'service_tier': 'default', 'finish_reason': 'stop', 'logprobs': None}, name='expert', id='run--b6ce0497-e566-4950-a792-19fd371a1c6d-0', usage_metadata={'input_tokens': 2713, 'output_tokens': 239, 'total_tokens': 2952, 'input_token_details': {'audio': 0, 'cache_read': 0}, 'output_token_details': {'audio': 0, 'reasoning': 0}}),\n",
       "  AIMessage(content=\"That's fascinating! Could you provide a specific example of how LangGraph's cyclical workflow capability has been used to streamline a complex process in software development?\", additional_kwargs={'refusal': None}, response_metadata={'token_usage': {'completion_tokens': 30, 'prompt_tokens': 571, 'total_tokens': 601, 'completion_tokens_details': {'accepted_prediction_tokens': 0, 'audio_tokens': 0, 'reasoning_tokens': 0, 'rejected_prediction_tokens': 0}, 'prompt_tokens_details': {'audio_tokens': 0, 'cached_tokens': 0}}, 'model_name': 'gpt-4o-2024-08-06', 'system_fingerprint': 'fp_07871e2ad8', 'id': 'chatcmpl-BpE8Ble6bU1lSJsxHZMTX9wqQJsFn', 'service_tier': 'default', 'finish_reason': 'stop', 'logprobs': None}, id='run--05f3588b-f563-42a2-aa13-55bb5fac086b-0', usage_metadata={'input_tokens': 571, 'output_tokens': 30, 'total_tokens': 601, 'input_token_details': {'audio': 0, 'cache_read': 0}, 'output_token_details': {'audio': 0, 'reasoning': 0}}),\n",
       "  AIMessage(content=\"Certainly! One specific example of LangGraph's cyclical workflow capability in action is in the development of a debate system between two agents. In this system, a user poses a question, and two agents—one optimistic and one skeptical—debate the topic. A judge agent then evaluates the arguments and determines the best answer to return to the user. LangGraph's support for cycles allows these agents to loop through their tasks, evaluate outcomes, and adapt dynamically based on the debate's progress and the judge's evaluation [4].\\n\\nThis cyclical capability streamlines the process by enabling continuous refinement and decision-making, which would be challenging to implement with traditional DAG-based frameworks. The ability to revisit nodes based on changing conditions allows for more nuanced and sophisticated agent interactions, ultimately leading to more accurate and reliable outcomes in complex processes like debates [5].\\n\\nSources:\\n[4] metriccoders.com/post/langgraph\\n[5] blog.spheron.network/build-smarter-ai-agents-in-minutes-with-langgraph\", additional_kwargs={'refusal': None}, response_metadata={'token_usage': {'completion_tokens': 200, 'prompt_tokens': 4363, 'total_tokens': 4563, 'completion_tokens_details': {'accepted_prediction_tokens': 0, 'audio_tokens': 0, 'reasoning_tokens': 0, 'rejected_prediction_tokens': 0}, 'prompt_tokens_details': {'audio_tokens': 0, 'cached_tokens': 2304}}, 'model_name': 'gpt-4o-2024-08-06', 'system_fingerprint': 'fp_07871e2ad8', 'id': 'chatcmpl-BpE8IUPFw4KPHS9oEVQM6o8Ng9XTc', 'service_tier': 'default', 'finish_reason': 'stop', 'logprobs': None}, name='expert', id='run--fc30418a-a255-4b9d-9ad2-65fe53085821-0', usage_metadata={'input_tokens': 4363, 'output_tokens': 200, 'total_tokens': 4563, 'input_token_details': {'audio': 0, 'cache_read': 2304}, 'output_token_details': {'audio': 0, 'reasoning': 0}})],\n",
       " 'max_num_turns': 2,\n",
       " 'context': ['<Document href=\"https://medium.com/primastat/building-agentic-applications-with-langgraph-part-1-tabular-ocr-agent-6ba81a6c0862\"/>\\nPublished Time: 2024-09-16T06:21:22.241Z\\n\\nBuilding Agentic Applications with LangGraph: Part 1 — Tabular OCR Agent | by Shivansh Kaushik | Primastat | Medium\\n===============\\n \\n\\nOpen in app\\n\\nSign up\\n\\nSign in\\n\\n. Unlike other LLM frameworks, LangGraph offers unique benefits like cycles, controllability, and persistence, making it ideal for agent-based architectures. It allows developers to create workflows with loops and conditions, offering fine-grained control over application flow and state.\\n</Document>\\n\\n---\\n\\n<Document href=\"https://medium.com/@ken_lin/langgraph-a-framework-for-building-stateful-multi-agent-llm-applications-a51d5eb68d03\"/>\\nThe most significant advantage of LangGraph is its explicit support for cyclical workflows, which are essential for implementing agent-like behaviors. As emphasized in the documentation: “Crucially, this is NOT a DAG framework… Cycles are important for agent-like behaviors, where you call an LLM in a loop, asking it what action to take next.” This capability enables the development of sophisticated agents that can iteratively refine their understanding and actions, leading to more capable AI [...] For organizations and developers looking to build complex agent systems or applications requiring stateful, iterative processing, LangGraph provides a robust foundation that can significantly reduce development time and improve system quality. However, those working on simpler applications should carefully evaluate whether the additional complexity is justified by their specific requirements and use cases.\\n\\nImage 4\\n</Document>\\n\\n---\\n\\n<Document href=\"https://arize.com/blog/langgraph/\"/>\\nLangGraph is a flexible, low-level framework that allows developers to build agents and multi-agent workflows. Unlike Directed Acyclic Graph (DAG)-based solutions, LangGraph supports cycles, which are crucial for creating agents. The framework also provides greater control over the flow and state of an application, making it easier to manage complex agent interactions. A key feature is its built-in persistence, enabling advanced memory and cumulative loop functions.\\n</Document>',\n",
       "  '<Document source=\"https://en.wikipedia.org/wiki/Semantic_Web\" page=\"\"/>\\nThe Semantic Web, sometimes known as Web 3.0, is an extension of the World Wide Web through standards set by the World Wide Web Consortium (W3C). The goal of the Semantic Web is to make Internet data machine-readable.\\nTo enable the encoding of semantics with the data, technologies such as Resource Description Framework (RDF) and Web Ontology Language (OWL) are used. These technologies are used to formally represent metadata. For example, ontology can describe concepts, relationships between entities, and categories of things. These embedded semantics offer significant advantages such as reasoning over data and operating with heterogeneous data sources.\\nThese standards promote common data formats and exchange protocols on the Web, fundamentally the RDF. According to the W3C, \"The Semantic Web provides a common framework that allows data to be shared and reused across application, enterprise, and community boundaries.\" The Semantic Web is therefore regarded as an integrator across different content and information applications and systems.\\n\\n\\n== History ==\\nThe term was coined by Tim Berners-Lee for a web of data (or data web) that can be processed by machines—that is, one in which much of the meaning is machine-readable. While its critics have questioned its feasibility, proponents argue that applications in library and information science, industry, biology and human sciences research have already proven the validity of the original concept.\\nBerners-Lee originally expressed his vision of the Semantic Web in 1999 as follows:\\n\\nI have a dream for the Web [in which computers] become capable of analyzing all the data on the Web – the content, links, and transactions between people and computers. A \"Semantic Web\", which makes this possible, has yet to emerge, but when it does, the day-to-day mechanisms of trade, bureaucracy and our daily lives will be handled by machines talking to machines. The \"intelligent agents\" people have touted for ages will finally materialize.\\nThe 2001 Scientific American article by Berners-Lee, Hendler, and Lassila described an expected evolution of the existing Web to a Semantic Web. In 2006, Berners-Lee and colleagues stated that: \"This simple idea…remains largely unrealized\".\\nIn 2013, more than four million Web domains (out of roughly 250 million total) contained Semantic Web markup.\\n\\n\\n== Example ==\\nIn the following example, the text \"Paul Schuster was born in Dresden\" on a website will be annotated, connecting a person with their place of birth. The following HTML fragment shows how a small graph is being described, in RDFa-syntax using a schema.org vocabulary and a Wikidata ID:\\n\\nThe example defines the following five triples (shown in Turtle syntax). Each triple represents one edge in the resulting graph: the first element of the triple (the subject) is the name of the node where the edge starts, the second element (the predicate) the type of the edge, and the last and third element (the object) either the name of the node where the edge ends or a literal value (e.g. a text, a number, etc.).\\n\\nThe triples result in the graph shown in the given figure.\\n\\nOne of the advantages of using Uniform Resource Identifiers (URIs) is that they can be dereferenced using the HTTP protocol. According to the so-called Linked Open Data principles, such a dereferenced URI should result in a document that offers further data about the given URI. In this example, all URIs, both for edges and nodes (e.g. http://schema.org/Person, http://schema.org/birthPlace, http://www.wikidata.org/entity/Q1731) can be dereferenced and will result in further RDF graphs, describing the URI, e.g. that Dresden is a city in Germany, or that a person, in the sense of that URI, can be fictional.\\nThe second graph shows the previous example, but now enriched with a few of the triples from the documents that result from dereferencing https://schema.org/Person (green edge) and https://www.wikidata.org/entity/Q1731 (blue edges).\\nAdditionally to the edg\\n</Document>\\n\\n---\\n\\n<Document source=\"https://en.wikipedia.org/wiki/React_(software)\" page=\"\"/>\\nReact (also known as React.js or ReactJS) is a free and open-source front-end JavaScript library that aims to make building user interfaces based on components more \"seamless\". It is maintained by Meta (formerly Facebook) and a community of individual developers and companies.\\nReact can be used to develop single-page, mobile, or server-rendered applications with frameworks like Next.js and Remix. Because React is only concerned with the user interface and rendering components to the DOM, React applications often rely on libraries for routing and other client-side functionality. A key advantage of React is that it only re-renders those parts of the page that have changed, avoiding unnecessary re-rendering of unchanged DOM elements.\\n\\n\\n== Notable features ==\\n\\n\\n=== Declarative ===\\nReact adheres to the declarative programming paradigm.:\\u200a76\\u200a Developers design views for each state of an application, and React updates and renders components when data changes. This is in contrast with imperative programming.\\n\\n\\n=== Components ===\\nReact code is made of entities called components.:\\u200a10–12\\u200a These components are modular and can be reused.:\\u200a70\\u200a React applications typically consist of many layers of components. The components are rendered to a root element in the DOM using the React DOM library. When rendering a component, values are passed between components through props (short for \"properties\"). Values internal to a component are called its state.\\nThe two primary ways of declaring components in React are through function components and class components.:\\u200a118\\u200a:\\u200a10\\u200a Since React v16.8, using function components is the recommended way.\\n\\n\\n=== Function components ===\\nFunction components, announced at React Conf 2018, and available since React v16.8 and are declared with a function that accepts a single \"props\" argument and returns JSX. Function components can use internal state with the useState Hook.\\n\\n\\n=== React Hooks ===\\nOn February 16, 2019, React 16.8 was released to the public, introducing React Hooks. Hooks are functions that let developers \"hook into\" React state and lifecycle features from function components. Notably, Hooks do not work inside classes — they let developers use more features of React without classes.\\nReact provides several built-in hooks such as useState,:\\u200a37\\u200a useContext,:\\u200a11\\u200a:\\u200a12\\u200a useReducer,:\\u200a92\\u200a:\\u200a65–66\\u200a useMemo:\\u200a154\\u200a:\\u200a162\\u200a and useEffect.:\\u200a93–95\\u200a Others are documented in the Hooks API Reference.:\\u200a62\\u200a useState and useEffect, which are the most commonly used, are for controlling state:\\u200a37\\u200a and side effects,:\\u200a61\\u200a respectively.\\n\\n\\n==== Rules of hooks ====\\nThere are two rules of hooks which describe the characteristic code patterns that hooks rely on:\\n\\n\"Only call hooks at the top level\" — do not call hooks from inside loops, conditions, or nested statements so that the hooks are called in the same order each render.\\n\"Only call hooks from React functions\" — do not call hooks from plain JavaScript functions so that stateful logic stays with the component.\\nAlthough these rules cannot be enforced at runtime, code analysis tools such as linters can be configured to detect many mistakes during development. The rules apply to both usage of Hooks and the implementation of custom Hooks, which may call other Hooks.\\n\\n\\n=== Server components ===\\nReact server components (RSC)  are function components that run exclusively on the server.  The concept was first introduced in the talk \"Data Fetching with Server Components\". Though a similar concept to Server Side Rendering, RSCs do not send corresponding JavaScript to the client as no hydration occurs.  As a result, they have no access to hooks. However, they may be asynchronous function, allowing them to directly perform asynchronous operations:\\n\\nCurrently, server components are most readily usable with Next.js. With Next.js, it\\'s possible to write components for both the server and the client (browser). When a server rendered component is received by the browser, React in the browser takes ov\\n</Document>',\n",
       "  '<Document href=\"https://blog.spheron.network/build-smarter-ai-agents-in-minutes-with-langgraph\"/>\\n### PermalinkCyclic Workflow Capabilities\\n\\nUnlike linear workflows that end once all tasks are executed, LangGraph creates cyclic graphs, allowing agents to revisit nodes based on changing conditions. For instance:\\n\\n   An agent can fetch weather data, analyze it, and decide whether to gather additional details.\\n    \\n   Nodes represent tasks (e.g., API calls, data processing), while edges dictate the flow and conditions for looping.\\n    \\n\\n### PermalinkDynamic Decision-Making [...] PermalinkHow LangGraph Works\\n--------------------------------------------------------------------------------------------------------------------------------\\n\\nLangGraph’s core capability lies in enabling the cyclic execution of LLM-based workflows. This means agents can loop through tasks, evaluate outcomes, and adapt dynamically. Inspired by frameworks like Apache Beam and Pregel, LangGraph simplifies the implementation of such systems through its graph-based programming model.\\n</Document>\\n\\n---\\n\\n<Document href=\"https://www.metriccoders.com/post/langgraph-building-stateful-multi-agent-workflows-with-langchain\"/>\\nUnlike traditional DAGs (Directed Acyclic Graphs), LangGraph supports cycles — meaning you can loop between nodes until a goal is reached.\\n\\n## 🔄 Example Use Case: Debate Between Two Agents\\n\\nImagine building a system where:\\n\\n1. A user asks a question.\\n2. Two agents (e.g., one optimistic, one skeptical) debate it.\\n3. A judge agent evaluates the arguments.\\n4. The best answer is returned.\\n\\nWith LangGraph, you can:\\n</Document>\\n\\n---\\n\\n<Document href=\"https://www.linkedin.com/pulse/langgraph-ai-agents-engineering-cyclical-reasoning-llm-jagadeesan-leqyc\"/>\\nEach step becomes a LangGraph node, with conditional next actions depending on success, failure, or ambiguity.\\n\\nExample:\\n\\n   If vendor lookup fails → retry\\n   If SLA breached → route to EscalationAgent\\n   If inventory is zero → trigger RestockAgent\\n   If customer responded → replan\\n\\n### 6.2 Pause, Resume, and Long-Running Agents\\n\\nSome agent flows (e.g., hardware provisioning or form submission) may need to pause and resume hours or days later.\\n\\nLangGraph enables this with:\\n</Document>',\n",
       "  '<Document source=\"https://en.wikipedia.org/wiki/2022_in_science\" page=\"\"/>\\nThe following scientific events occurred in 2022.\\n\\n\\n== Events ==\\n\\n\\n=== January ===\\n\\n\\n=== February ===\\n\\n\\n=== March ===\\n\\n\\n=== April ===\\n1 April\\nBiochemists report finishing the complete sequence of the human genome.\\nA study shows that, contrary to widespread belief, body sizes of mammal extinction survivors of the dinosaur-times extinction event were the first to evolutionarily increase, with brain sizes increasing later in the Eocene.\\n4 April\\nThe Intergovernmental Panel on Climate Change (IPCC) releases the third and final part of its Sixth Assessment Report on climate change, warning that greenhouse gas emissions must peak before 2025 at the latest and decline 43% by 2030, in order to likely limit global warming to 1.5 °C (2.7 °F).\\nResearchers announce a new technique for accelerating the development of vaccines and other pharmaceutical products by up to a million times, using much smaller quantities based on DNA nanotechnology.\\nAlzheimer\\'s disease (AD) research progress:A study reports 42 new genes linked to an increased risk of AD. Researchers report a potential primary mechanism of sleep disturbance as an early-stage effect of neurodegenerative diseases. Researchers identify several genes associated with changes in brain structure over lifetime and potential AD therapy-targets (5 Apr).\\n\\n5 April\\nCOVID-19 pandemic: Preclinical data for a new vaccine developed at the Medical University of Vienna indicates it is effective against all SARS-CoV-2 variants known to date, including Omicron.\\nA study presents a mechanism by which the hypothesized potential dark-energy-explaining quintessence, if true, would smoothly cause the accelerating expansion of the Universe to inverse to contraction, possibly within the cosmic near-future (100 My) given current data. It concludes that its end-time scenario theory fits \"naturally with cyclic cosmologies [(each a theory of cycles of universe originations and ends, rather than the theories of one Big Bang beginning of the Universe/multiverse, to which authors were major contributors)] and recent conjectures about quantum gravity\".\\n\\n6 April\\nU.S. Space Command, based on information collected from its planetary defense sensors, confirms the detection of the first known interstellar object. The purported interstellar meteorite, technically known as CNEOS 2014-01-08, impacted Earth in 2014, and was determined, based on its hyperbolic trajectory and estimated initial high velocity, to be from beyond the Solar System. The 2014 meteorite was detected three years earlier than the more recent and widely known interstellar objects, ʻOumuamua in 2017 and  2I/Borisov in 2019. Further related studies were reported on 1 September 2023.\\nThe first known dinosaur fossil linked to the very day of the Chicxulub impact is reported by paleontologists at the Tanis site in North Dakota.\\nOne science journalist reflects on the global management of the COVID-19 pandemic in relation to science, investigating the question \"Why the WHO took two years to say COVID is airborne\" – a finding hundreds of scientists reaffirmed in an open letter in July 2020 – with one indication that this may be one valid major concern to many expert scientists being several writings published by news outlets.\\nA study decodes electrical communication between fungi into word-like components via spiking characteristics.\\nResearchers demonstrate semi-automated testing for reproducibility (which is lacking especially in cancer research) via extraction of statements about experimental results in, as of 2022 non-semantic, gene expression cancer research papers and subsequent testing with breast cancer cell lines via robot scientist \"Eve\".\\n\\n7 April\\nAstronomers report the discovery of HD1, considered to be the earliest and most distant known galaxy yet identified in the observable universe, located only about 330 million years after the Big Bang 13.8 billion years ago, a light-travel distance of 13.5 billion light-years from Earth, and, due to the expansion\\n</Document>'],\n",
       " 'analyst': Analyst(affiliation='Tech Innovators Inc.', name='Dr. Emily Carter', role='Technology Analyst', description='Dr. Emily Carter focuses on the technical advantages and innovations brought by adopting LangGraph as an agent framework. Her primary interest lies in how LangGraph can enhance system performance, scalability, and integration capabilities. She is particularly concerned with the technical feasibility and the potential for LangGraph to streamline complex processes in software development.'),\n",
       " 'interview': \"Human: So you said you were writing an article on The benefits of adopting LangGraph as an agent framework?\\nAI: Hello, I'm Alex Thompson, a fellow technology enthusiast and writer. I'm eager to learn more about the technical advantages and innovations that LangGraph brings to the table. Dr. Carter, could you start by explaining what makes LangGraph stand out in terms of enhancing system performance compared to other agent frameworks?\\nAI: Certainly, Dr. Carter. LangGraph distinguishes itself from other agent frameworks primarily through its support for cyclical workflows, which are essential for implementing agent-like behaviors. Unlike Directed Acyclic Graph (DAG)-based solutions, LangGraph allows for cycles, enabling developers to create workflows with loops and conditions. This capability is crucial for developing sophisticated agents that can iteratively refine their understanding and actions, leading to more capable AI systems [1][2].\\n\\nAdditionally, LangGraph offers fine-grained control over the flow and state of an application, which enhances system performance by allowing developers to manage complex agent interactions more effectively. Its built-in persistence feature supports advanced memory and cumulative loop functions, further contributing to improved system quality and reduced development time [3].\\n\\nFor organizations and developers looking to build complex agent systems or applications requiring stateful, iterative processing, LangGraph provides a robust foundation. However, it's important to note that for simpler applications, the additional complexity of LangGraph may not be justified unless the specific requirements and use cases demand such capabilities [2].\\n\\nSources:\\n[1] medium.com/primastat\\n[2] medium.com/@ken_lin\\n[3] arize.com/blog/langgraph\\nAI: That's fascinating! Could you provide a specific example of how LangGraph's cyclical workflow capability has been used to streamline a complex process in software development?\\nAI: Certainly! One specific example of LangGraph's cyclical workflow capability in action is in the development of a debate system between two agents. In this system, a user poses a question, and two agents—one optimistic and one skeptical—debate the topic. A judge agent then evaluates the arguments and determines the best answer to return to the user. LangGraph's support for cycles allows these agents to loop through their tasks, evaluate outcomes, and adapt dynamically based on the debate's progress and the judge's evaluation [4].\\n\\nThis cyclical capability streamlines the process by enabling continuous refinement and decision-making, which would be challenging to implement with traditional DAG-based frameworks. The ability to revisit nodes based on changing conditions allows for more nuanced and sophisticated agent interactions, ultimately leading to more accurate and reliable outcomes in complex processes like debates [5].\\n\\nSources:\\n[4] metriccoders.com/post/langgraph\\n[5] blog.spheron.network/build-smarter-ai-agents-in-minutes-with-langgraph\",\n",
       " 'sections': [\"## LangGraph: Revolutionizing Agent Frameworks for Enhanced System Performance\\n\\n### Summary\\n\\nIn the rapidly evolving landscape of software development, the need for robust frameworks that can handle complex processes efficiently is paramount. LangGraph emerges as a groundbreaking agent framework that offers significant technical advantages over traditional solutions. Unlike Directed Acyclic Graph (DAG)-based frameworks, LangGraph supports cyclical workflows, which are essential for implementing agent-like behaviors. This capability allows developers to create sophisticated agents that can iteratively refine their understanding and actions, leading to more capable AI systems [1][2].\\n\\nOne of the most compelling features of LangGraph is its ability to enhance system performance through fine-grained control over application flow and state. This is achieved by allowing developers to manage complex agent interactions more effectively, thereby improving system quality and reducing development time. The framework's built-in persistence feature supports advanced memory and cumulative loop functions, further contributing to its robustness [3].\\n\\nFor organizations and developers aiming to build complex agent systems or applications requiring stateful, iterative processing, LangGraph provides a solid foundation. However, it is crucial to assess whether the additional complexity of LangGraph is justified for simpler applications, as its capabilities are best suited for scenarios that demand such advanced features [2].\\n\\nA notable example of LangGraph's cyclical workflow capability is its application in developing a debate system between two agents. In this system, a user poses a question, and two agents—one optimistic and one skeptical—debate the topic. A judge agent evaluates the arguments and determines the best answer to return to the user. LangGraph's support for cycles allows these agents to loop through their tasks, evaluate outcomes, and adapt dynamically based on the debate's progress and the judge's evaluation [4]. This cyclical capability streamlines the process by enabling continuous refinement and decision-making, which would be challenging to implement with traditional DAG-based frameworks [5].\\n\\nIn summary, LangGraph stands out as a versatile and powerful framework that can significantly enhance system performance, scalability, and integration capabilities. Its innovative approach to cyclical workflows and state management makes it an ideal choice for developers looking to streamline complex processes in software development.\\n\\n### Sources\\n[1] https://medium.com/primastat/building-agentic-applications-with-langgraph-part-1-tabular-ocr-agent-6ba81a6c0862  \\n[2] https://medium.com/@ken_lin/langgraph-a-framework-for-building-stateful-multi-agent-llm-applications-a51d5eb68d03  \\n[3] https://arize.com/blog/langgraph/  \\n[4] https://www.metriccoders.com/post/langgraph-building-stateful-multi-agent-workflows-with-langchain  \\n[5] https://blog.spheron.network/build-smarter-ai-agents-in-minutes-with-langgraph  \"]}"
      ]
     },
     "execution_count": 52,
     "metadata": {},
     "output_type": "execute_result"
    }
   ],
   "source": [
    "interview"
   ]
  },
  {
   "cell_type": "code",
   "execution_count": 53,
   "id": "4d39e9b2",
   "metadata": {},
   "outputs": [
    {
     "data": {
      "text/plain": [
       "1"
      ]
     },
     "execution_count": 53,
     "metadata": {},
     "output_type": "execute_result"
    }
   ],
   "source": [
    "len(interview['sections'])"
   ]
  },
  {
   "cell_type": "markdown",
   "id": "3b739e87-68bb-4e96-a86a-704e84240a6c",
   "metadata": {},
   "source": [
    "### Parallelze interviews: Map-Reduce\n",
    "\n",
    "We parallelize the interviews via the `Send()` API, a map step.\n",
    "\n",
    "We combine them into the report body in a reduce step.\n",
    "\n",
    "### Finalize\n",
    "\n",
    "We add a final step to write an intro and conclusion to the final report."
   ]
  },
  {
   "cell_type": "code",
   "execution_count": 54,
   "id": "6a0042f9-5b9f-441a-9e8d-7d8189f44140",
   "metadata": {},
   "outputs": [],
   "source": [
    "import operator\n",
    "from typing import List, Annotated\n",
    "from typing_extensions import TypedDict\n",
    "\n",
    "class ResearchGraphState(TypedDict):\n",
    "    ### GenerateAnalystsState - at the top of the graph for the analysts ###\n",
    "    topic: str # Research topic\n",
    "    max_analysts: int # Number of analysts\n",
    "    human_analyst_feedback: str # Human feedback\n",
    "    analysts: List[Analyst] # Analyst asking questions\n",
    "    ### InterviewState - in the middle of the graph for the interview ###\n",
    "    sections: Annotated[list, operator.add] # Send() API key\n",
    "    ### Global State - in the bottom of the graph for the final report ###\n",
    "    introduction: str # Introduction for the final report\n",
    "    content: str # Content for the final report\n",
    "    conclusion: str # Conclusion for the final report\n",
    "    final_report: str # Final report"
   ]
  },
  {
   "cell_type": "code",
   "execution_count": 55,
   "id": "c2224592-d2ff-469d-97bd-928809f896d7",
   "metadata": {},
   "outputs": [
    {
     "data": {
      "image/png": "[encoded data removed]",
      "text/plain": [
       "<IPython.core.display.Image object>"
      ]
     },
     "metadata": {},
     "output_type": "display_data"
    }
   ],
   "source": [
    "from langgraph.constants import Send\n",
    "\n",
    "def initiate_all_interviews(state: ResearchGraphState):\n",
    "    \"\"\" This is the \"map\" step where we run each interview sub-graph using Send API \"\"\"    \n",
    "\n",
    "    # Check if human feedback\n",
    "    human_analyst_feedback=state.get('human_analyst_feedback')\n",
    "    if human_analyst_feedback:\n",
    "        # Return to create_analysts\n",
    "        return \"create_analysts\"\n",
    "\n",
    "    # Otherwise kick off interviews in parallel via Send() API\n",
    "    else:\n",
    "        topic = state[\"topic\"]\n",
    "        return [Send(\"conduct_interview\", {\"analyst\": analyst,\n",
    "                                           \"messages\": [HumanMessage(\n",
    "                                               content=f\"So you said you were writing an article on {topic}?\"\n",
    "                                           )\n",
    "                                                       ]}) for analyst in state[\"analysts\"]]\n",
    "\n",
    "report_writer_instructions = \"\"\"You are a technical writer creating a report on this overall topic: \n",
    "\n",
    "{topic}\n",
    "    \n",
    "You have a team of analysts. Each analyst has done two things: \n",
    "\n",
    "1. They conducted an interview with an expert on a specific sub-topic.\n",
    "2. They write up their finding into a memo.\n",
    "\n",
    "Your task: \n",
    "\n",
    "1. You will be given a collection of memos from your analysts.\n",
    "2. Think carefully about the insights from each memo.\n",
    "3. Consolidate these into a crisp overall summary that ties together the central ideas from all of the memos. \n",
    "4. Summarize the central points in each memo into a cohesive single narrative.\n",
    "\n",
    "To format your report:\n",
    " \n",
    "1. Use markdown formatting. \n",
    "2. Include no pre-amble for the report.\n",
    "3. Use no sub-heading. \n",
    "4. Start your report with a single title header: ## Insights\n",
    "5. Do not mention any analyst names in your report.\n",
    "6. Preserve any citations in the memos, which will be annotated in brackets, for example [1] or [2].\n",
    "7. Create a final, consolidated list of sources and add to a Sources section with the `## Sources` header.\n",
    "8. List your sources in order and do not repeat.\n",
    "\n",
    "[1] Source 1\n",
    "[2] Source 2\n",
    "\n",
    "Here are the memos from your analysts to build your report from: \n",
    "\n",
    "{context}\"\"\"\n",
    "\n",
    "def write_report(state: ResearchGraphState):\n",
    "    # Full set of sections\n",
    "    sections = state[\"sections\"]\n",
    "    topic = state[\"topic\"]\n",
    "\n",
    "    # Concat all sections together\n",
    "    formatted_str_sections = \"\\n\\n\".join([f\"{section}\" for section in sections])\n",
    "    \n",
    "    # Summarize the sections into a final report\n",
    "    system_message = report_writer_instructions.format(topic=topic, context=formatted_str_sections)    \n",
    "    report = llm.invoke([SystemMessage(content=system_message)]+[HumanMessage(content=f\"Write a report based upon these memos.\")]) \n",
    "    return {\"content\": report.content}\n",
    "\n",
    "intro_conclusion_instructions = \"\"\"You are a technical writer finishing a report on {topic}\n",
    "\n",
    "You will be given all of the sections of the report.\n",
    "\n",
    "You job is to write a crisp and compelling introduction or conclusion section.\n",
    "\n",
    "The user will instruct you whether to write the introduction or conclusion.\n",
    "\n",
    "Include no pre-amble for either section.\n",
    "\n",
    "Target around 100 words, crisply previewing (for introduction) or recapping (for conclusion) all of the sections of the report.\n",
    "\n",
    "Use markdown formatting. \n",
    "\n",
    "For your introduction, create a compelling title and use the # header for the title.\n",
    "\n",
    "For your introduction, use ## Introduction as the section header. \n",
    "\n",
    "For your conclusion, use ## Conclusion as the section header.\n",
    "\n",
    "Here are the sections to reflect on for writing: {formatted_str_sections}\"\"\"\n",
    "\n",
    "def write_introduction(state: ResearchGraphState):\n",
    "    # Full set of sections\n",
    "    sections = state[\"sections\"]\n",
    "    topic = state[\"topic\"]\n",
    "\n",
    "    # Concat all sections together\n",
    "    formatted_str_sections = \"\\n\\n---\\n\\n\".join([f\"{section}\" for section in sections])\n",
    "    \n",
    "    # Summarize the sections into a final report\n",
    "    \n",
    "    instructions = intro_conclusion_instructions.format(topic=topic, formatted_str_sections=formatted_str_sections)    \n",
    "    intro = llm.invoke([instructions]+[HumanMessage(content=f\"Write the report introduction\")]) \n",
    "    return {\"introduction\": intro.content}\n",
    "\n",
    "def write_conclusion(state: ResearchGraphState):\n",
    "    # Full set of sections\n",
    "    sections = state[\"sections\"]\n",
    "    topic = state[\"topic\"]\n",
    "\n",
    "    # Concat all sections together\n",
    "    formatted_str_sections = \"\\n\\n\".join([f\"{section}\" for section in sections])\n",
    "    \n",
    "    # Summarize the sections into a final report\n",
    "    \n",
    "    instructions = intro_conclusion_instructions.format(topic=topic, formatted_str_sections=formatted_str_sections)    \n",
    "    conclusion = llm.invoke([instructions]+[HumanMessage(content=f\"Write the report conclusion\")]) \n",
    "    return {\"conclusion\": conclusion.content}\n",
    "\n",
    "def finalize_report(state: ResearchGraphState):\n",
    "    \"\"\" The is the \"reduce\" step where we gather all the sections, combine them, and reflect on them to write the intro/conclusion \"\"\"\n",
    "    # Save full final report\n",
    "    content = state[\"content\"]\n",
    "    if content.startswith(\"## Insights\"):\n",
    "        content = content.strip(\"## Insights\")\n",
    "    if \"## Sources\" in content:\n",
    "        try:\n",
    "            content, sources = content.split(\"\\n## Sources\\n\")\n",
    "        except:\n",
    "            sources = None\n",
    "    else:\n",
    "        sources = None\n",
    "\n",
    "    final_report = state[\"introduction\"] + \"\\n\\n---\\n\\n\" + content + \"\\n\\n---\\n\\n\" + state[\"conclusion\"]\n",
    "    if sources is not None:\n",
    "        final_report += \"\\n\\n## Sources\\n\" + sources\n",
    "    return {\"final_report\": final_report}\n",
    "\n",
    "# Add nodes and edges \n",
    "builder = StateGraph(ResearchGraphState)\n",
    "builder.add_node(\"create_analysts\", create_analysts)\n",
    "builder.add_node(\"human_feedback\", human_feedback)\n",
    "builder.add_node(\"conduct_interview\", interview_builder.compile())\n",
    "builder.add_node(\"write_report\",write_report)\n",
    "builder.add_node(\"write_introduction\",write_introduction)\n",
    "builder.add_node(\"write_conclusion\",write_conclusion)\n",
    "builder.add_node(\"finalize_report\",finalize_report)\n",
    "\n",
    "# Logic\n",
    "builder.add_edge(START, \"create_analysts\")\n",
    "builder.add_edge(\"create_analysts\", \"human_feedback\")\n",
    "builder.add_conditional_edges(\"human_feedback\", initiate_all_interviews, [\"create_analysts\", \"conduct_interview\"])\n",
    "builder.add_edge(\"conduct_interview\", \"write_report\")\n",
    "builder.add_edge(\"conduct_interview\", \"write_introduction\")\n",
    "builder.add_edge(\"conduct_interview\", \"write_conclusion\")\n",
    "builder.add_edge([\"write_conclusion\", \"write_report\", \"write_introduction\"], \"finalize_report\")\n",
    "builder.add_edge(\"finalize_report\", END)\n",
    "\n",
    "# Compile\n",
    "memory = MemorySaver()\n",
    "graph = builder.compile(interrupt_before=['human_feedback'], checkpointer=memory)\n",
    "display(Image(graph.get_graph(xray=1).draw_mermaid_png()))"
   ]
  },
  {
   "cell_type": "markdown",
   "id": "1b64ba9a-2b5e-40e1-a778-0f635aa3f6d0",
   "metadata": {},
   "source": [
    "Let's ask an open-ended question about LangGraph."
   ]
  },
  {
   "cell_type": "code",
   "execution_count": 66,
   "id": "362932ee-4106-4a2d-a32d-b812eafcf9df",
   "metadata": {},
   "outputs": [
    {
     "name": "stdout",
     "output_type": "stream",
     "text": [
      "Name: Dr. Emily Chen\n",
      "Affiliation: Global Linguistics Institute\n",
      "Role: Linguistic Specialist\n",
      "Description: Dr. Chen focuses on the linguistic nuances and challenges in AI translation versus localization. She is particularly interested in how AI tools handle idiomatic expressions and cultural context, and the implications for accuracy and user satisfaction.\n",
      "--------------------------------------------------\n",
      "Name: Raj Patel\n",
      "Affiliation: Tech Innovators Inc.\n",
      "Role: AI Technology Developer\n",
      "Description: Raj is a developer specializing in AI tools for language processing. His primary concern is the technological advancements and limitations in AI translation and localization, including the integration of machine learning algorithms to improve contextual understanding.\n",
      "--------------------------------------------------\n",
      "Name: Sofia Martinez\n",
      "Affiliation: Cultural Insights Group\n",
      "Role: Cultural Analyst\n",
      "Description: Sofia examines the cultural implications of AI localization. She is focused on how AI tools can be used to adapt content to different cultural norms and values, ensuring that localized content resonates with local audiences.\n",
      "--------------------------------------------------\n",
      "Name: Liam O'Connor\n",
      "Affiliation: International Business Solutions\n",
      "Role: Business Strategist\n",
      "Description: Liam analyzes the business impact of AI translation and localization. He is interested in how these technologies can be leveraged to expand into new markets, reduce costs, and improve global communication strategies.\n",
      "--------------------------------------------------\n",
      "Name: Aisha Rahman\n",
      "Affiliation: Ethical AI Consortium\n",
      "Role: Ethics Advisor\n",
      "Description: Aisha is concerned with the ethical considerations of using AI in translation and localization. She explores issues such as data privacy, bias in AI algorithms, and the potential for AI to perpetuate cultural stereotypes.\n",
      "--------------------------------------------------\n"
     ]
    }
   ],
   "source": [
    "# Inputs\n",
    "max_analysts = 5 \n",
    "# topic = \"The benefits of adopting LangGraph as an agent framework\"\n",
    "topic = \"The differences between AI translation and AI localization using AI Tools as an agent framework\"\n",
    "thread = {\"configurable\": {\"thread_id\": \"2\"}}\n",
    "\n",
    "# Run the graph until the first interruption\n",
    "for event in graph.stream({\"topic\":topic,\n",
    "                           \"max_analysts\":max_analysts}, \n",
    "                          thread, \n",
    "                          stream_mode=\"values\"):\n",
    "    \n",
    "    analysts = event.get('analysts', '')\n",
    "    if analysts:\n",
    "        for analyst in analysts:\n",
    "            print(f\"Name: {analyst.name}\")\n",
    "            print(f\"Affiliation: {analyst.affiliation}\")\n",
    "            print(f\"Role: {analyst.role}\")\n",
    "            print(f\"Description: {analyst.description}\")\n",
    "            print(\"-\" * 50)  "
   ]
  },
  {
   "cell_type": "code",
   "execution_count": 67,
   "id": "ac521a5f-5a4f-44f9-8af9-d05228e20882",
   "metadata": {},
   "outputs": [
    {
     "data": {
      "text/plain": [
       "{'configurable': {'thread_id': '2',\n",
       "  'checkpoint_ns': '',\n",
       "  'checkpoint_id': '1f058155-84ed-686f-8002-a4b304217c93'}}"
      ]
     },
     "execution_count": 67,
     "metadata": {},
     "output_type": "execute_result"
    }
   ],
   "source": [
    "# We now update the state as if we are the human_feedback node\n",
    "graph.update_state(thread, {\"human_analyst_feedback\": \n",
    "                                \"Add in someone from a startup AC/VC to add an investor perspective\"}, as_node=\"human_feedback\")"
   ]
  },
  {
   "cell_type": "code",
   "execution_count": 68,
   "id": "a3be311f-62ee-49e7-b037-75c53d8960a8",
   "metadata": {},
   "outputs": [
    {
     "name": "stdout",
     "output_type": "stream",
     "text": [
      "Name: Dr. Emily Chen\n",
      "Affiliation: Global Linguistics Institute\n",
      "Role: Linguistic Specialist\n",
      "Description: Dr. Chen focuses on the linguistic nuances and challenges in AI translation versus localization. She is particularly interested in how AI tools handle idiomatic expressions and cultural context, and the implications for accuracy and user satisfaction.\n",
      "--------------------------------------------------\n",
      "Name: Raj Patel\n",
      "Affiliation: Tech Innovators Inc.\n",
      "Role: AI Technology Developer\n",
      "Description: Raj is a developer specializing in AI tools for language processing. His primary concern is the technological advancements and limitations in AI translation and localization, including the integration of machine learning algorithms to improve contextual understanding.\n",
      "--------------------------------------------------\n",
      "Name: Sofia Martinez\n",
      "Affiliation: Cultural Insights Group\n",
      "Role: Cultural Analyst\n",
      "Description: Sofia examines the cultural implications of AI localization. She is focused on how AI tools can be used to adapt content to different cultural norms and values, ensuring that localized content resonates with local audiences.\n",
      "--------------------------------------------------\n",
      "Name: Liam O'Connor\n",
      "Affiliation: International Business Solutions\n",
      "Role: Business Strategist\n",
      "Description: Liam analyzes the business impact of AI translation and localization. He is interested in how these technologies can be leveraged to expand into new markets, reduce costs, and improve global communication strategies.\n",
      "--------------------------------------------------\n",
      "Name: Aisha Rahman\n",
      "Affiliation: Ethical AI Consortium\n",
      "Role: Ethics Advisor\n",
      "Description: Aisha is concerned with the ethical considerations of using AI in translation and localization. She explores issues such as data privacy, bias in AI algorithms, and the potential for AI to perpetuate cultural stereotypes.\n",
      "--------------------------------------------------\n",
      "Name: Dr. Emily Tran\n",
      "Affiliation: Global Language Solutions\n",
      "Role: Linguistic Expert\n",
      "Description: Dr. Tran focuses on the linguistic nuances and cultural contexts that differentiate AI translation from AI localization. She is concerned with how AI tools can maintain the integrity of meaning across different languages and cultures, ensuring that translations are not only accurate but also culturally relevant.\n",
      "--------------------------------------------------\n",
      "Name: Raj Patel\n",
      "Affiliation: Tech Innovators Inc.\n",
      "Role: AI Technology Specialist\n",
      "Description: Raj Patel is an expert in AI technologies and their applications in translation and localization. He is interested in the technical capabilities and limitations of current AI tools, and how advancements in AI can improve the efficiency and accuracy of both translation and localization processes.\n",
      "--------------------------------------------------\n",
      "Name: Sofia Martinez\n",
      "Affiliation: Cultural Insights Group\n",
      "Role: Cultural Analyst\n",
      "Description: Sofia Martinez examines the cultural implications of AI localization. Her focus is on how AI tools can be used to adapt content to fit cultural norms and expectations, ensuring that localized content resonates with local audiences and respects cultural sensitivities.\n",
      "--------------------------------------------------\n",
      "Name: Alex Chen\n",
      "Affiliation: Venture Capital Firm - Tech Growth Partners\n",
      "Role: Investor and Startup Advisor\n",
      "Description: Alex Chen provides an investor's perspective on the AI translation and localization market. He is interested in identifying emerging startups and technologies that have the potential for high growth and impact in the language services industry, and how these innovations can be monetized.\n",
      "--------------------------------------------------\n",
      "Name: Linda Zhao\n",
      "Affiliation: Global Business Solutions\n",
      "Role: Business Strategist\n",
      "Description: Linda Zhao focuses on the business applications and strategic benefits of AI translation and localization. She analyzes how companies can leverage AI tools to expand into new markets, improve customer engagement, and enhance global communication strategies.\n",
      "--------------------------------------------------\n"
     ]
    }
   ],
   "source": [
    "# Check\n",
    "for event in graph.stream(None, thread, stream_mode=\"values\"):\n",
    "    analysts = event.get('analysts', '')\n",
    "    if analysts:\n",
    "        for analyst in analysts:\n",
    "            print(f\"Name: {analyst.name}\")\n",
    "            print(f\"Affiliation: {analyst.affiliation}\")\n",
    "            print(f\"Role: {analyst.role}\")\n",
    "            print(f\"Description: {analyst.description}\")\n",
    "            print(\"-\" * 50)  "
   ]
  },
  {
   "cell_type": "code",
   "execution_count": 69,
   "id": "0af41f54-88d9-4597-98b0-444c08322095",
   "metadata": {},
   "outputs": [
    {
     "data": {
      "text/plain": [
       "{'configurable': {'thread_id': '2',\n",
       "  'checkpoint_ns': '',\n",
       "  'checkpoint_id': '1f058156-5f46-6316-8004-5e3554a0c176'}}"
      ]
     },
     "execution_count": 69,
     "metadata": {},
     "output_type": "execute_result"
    }
   ],
   "source": [
    "# Confirm we are happy\n",
    "graph.update_state(thread, {\"human_analyst_feedback\": \n",
    "                            None}, as_node=\"human_feedback\")"
   ]
  },
  {
   "cell_type": "code",
   "execution_count": 70,
   "id": "37123ca7-c20b-43c1-9a71-39ba344e7ca6",
   "metadata": {},
   "outputs": [
    {
     "name": "stdout",
     "output_type": "stream",
     "text": [
      "## Bridging Cultures: The Role of AI in Translation and Localization\n",
      "\n",
      "### Summary\n",
      "\n",
      "In the rapidly evolving landscape of artificial intelligence, the distinction between AI translation and AI localization is becoming increasingly significant. Dr. Tran's exploration into this domain highlights the critical role AI plays in maintaining the integrity of meaning across different languages and cultures. While AI translation focuses on converting text from one language to another with grammatical accuracy, AI localization delves deeper, ensuring that content is culturally relevant and resonates with the target audience.\n",
      "\n",
      "AI translation tools, such as those integrated into translation management systems like XTM Cloud, are designed to enhance translation workflows by automating processes, thereby reducing costs and time to market without compromising quality [1]. These tools primarily aim to maintain the accuracy of the original message while ensuring grammatical correctness in the target language.\n",
      "\n",
      "On the other hand, AI localization goes beyond mere translation. It involves the cultural adaptation of content, which includes translating text and adapting images, symbols, and other cultural references to fit the local context. This ensures that the content is not only linguistically accurate but also culturally relevant [2]. AI localization tools integrate artificial intelligence into the entire localization process, ensuring that the content resonates with the target audience by aligning with local customs and preferences.\n",
      "\n",
      "A notable insight from Dr. Tran's research is the importance of AI localization in avoiding cultural faux pas. For instance, a marketing campaign that uses a phrase or image acceptable in one country might be misinterpreted or considered offensive in another. AI localization tools help adapt such content to align with local customs, thereby avoiding misunderstandings and ensuring cultural sensitivity [3]. This might involve changing idiomatic expressions, adjusting imagery, or altering the tone of the message to suit the cultural context of the target audience [4].\n",
      "\n",
      "In summary, while AI translation focuses on linguistic accuracy, AI localization encompasses a broader scope, ensuring cultural appropriateness and relevance in addition to linguistic correctness. This distinction is crucial for businesses and organizations aiming to engage effectively with global audiences, as it fosters trust and strengthens bonds by creating a sense of familiarity and relevance for the target audience.\n",
      "\n",
      "### Sources\n",
      "[1] https://xtm.cloud/blog/ai-in-translation/  \n",
      "[2] https://www.transifex.com/blog/2024/ai-localization/  \n",
      "[3] https://bayan-tech.com/blog/ai-localization/  \n",
      "[4] https://www.linkedin.com/pulse/why-localization-matters-adapting-ai-content-cultural-assuanta-howard-xp4ae/  \n",
      "## AI Translation and Localization: Enhancing Global Communication\n",
      "\n",
      "### Summary\n",
      "\n",
      "In the rapidly evolving landscape of artificial intelligence, AI translation and localization have emerged as pivotal tools in bridging linguistic and cultural divides. AI translation focuses on converting text from one language to another with high accuracy, leveraging advanced algorithms like neural networks to understand context, meaning, and structure [1]. This capability allows for swift and efficient translation processes, which are crucial in our globalized world.\n",
      "\n",
      "AI localization, however, extends beyond mere translation. It adapts content to align with cultural, social, and linguistic nuances specific to a target audience, ensuring that the content is not only linguistically accurate but also culturally relevant [3]. This distinction is critical for businesses aiming to resonate with diverse audiences across different regions.\n",
      "\n",
      "A novel aspect of AI in this domain is the use of AI tools as an agent framework. These tools automate workflows, manage translation priorities, and conduct quality assurance checks, delivering human-like translations that are accurate, on-brand, and context-specific. AI agents in localization can assume roles such as Strategic Localization Advisor, Real-Time Content Orchestrator, and Quality Management Partner. This multi-agent framework enhances efficiency, reduces costs, and accelerates market entry, while maintaining brand voice and ensuring contextual adaptation [2].\n",
      "\n",
      "A compelling real-world example of AI-powered localization is Amazon's expansion into non-English speaking countries. By employing advanced AI and machine learning tools, Amazon has successfully localized its vast product catalog, tailoring descriptions, customer reviews, and service communications to new regions. This strategy not only enhances customer experience but also fosters trust and engagement in new markets, demonstrating the transformative potential of AI in global business integration [4].\n",
      "\n",
      "In summary, while AI translation focuses on language conversion, AI localization ensures that translated content resonates culturally and contextually with the target audience. The integration of AI tools enhances both processes, offering a cutting-edge solution for businesses seeking to expand globally.\n",
      "\n",
      "### Sources\n",
      "[1] https://lokalise.com/blog/how-ai-translation-works/  \n",
      "[2] https://www.oneskyapp.com/blog/ai-agents-localization/  \n",
      "[3] https://lokalise.com/blog/translation-and-localization-difference/  \n",
      "[4] https://medium.com/@jesse.henson/launching-products-in-new-markets-with-ai-powered-localization-73f07ab7f3b4  \n",
      "--Node--\n",
      "conduct_interview\n",
      "--Node--\n",
      "conduct_interview\n",
      "## The Cultural Nuances of AI Localization: Bridging Language and Culture\n",
      "\n",
      "### Summary\n",
      "\n",
      "In the rapidly evolving landscape of artificial intelligence, the role of AI localization has become increasingly significant. Unlike traditional translation, which focuses on converting text from one language to another, AI localization involves a more comprehensive approach. It adapts content to fit the cultural norms and expectations of specific markets, ensuring that the material resonates with local audiences and respects cultural sensitivities. This process is crucial for businesses and developers aiming to create inclusive and accessible AI tools that enhance user experience across diverse cultural contexts.\n",
      "\n",
      "One of the most novel insights from recent discussions is the transformative role AI plays in the localization process. AI tools handle repetitive tasks and high-volume content, allowing human translators to focus on more sophisticated work like cultural adaptation and creative translation. This collaboration ensures that localized content is not only linguistically accurate but also culturally relevant [1]. However, AI alone cannot fully adjust content to fit the cultural nuances of the target audience, highlighting the continued importance of human involvement [3].\n",
      "\n",
      "A specific example of successful AI localization is the development of AI assistants that support multilingual interactions. These tools are programmed to recognize and respect cultural differences, such as varying customs or social norms. For instance, what might be considered polite in one culture could be impolite in another. AI localization ensures that these assistants can navigate such cultural landscapes effectively [4]. The challenge lies in the vast diversity of cultural nuances, requiring AI to be programmed with a deep understanding of these differences. This involves not just language translation but also adapting communication styles and customs to fit the target culture [4].\n",
      "\n",
      "The insights gathered emphasize the importance of a robust localization workflow that combines AI capabilities with human expertise. This approach not only enhances the quality of localized content but also ensures its cultural relevance, making it a key element in the responsible integration of AI into the global market [1][2].\n",
      "\n",
      "### Sources\n",
      "[1] https://laoret.com/blog/ai-localization/  \n",
      "[2] https://www.getblend.com/blog/localization-vs-translation/  \n",
      "[3] https://multilingual.com/ai-generated-versus-ai-assisted-a-translators-perspective-on-control-and-quality/  \n",
      "[4] https://newo.ai/insights/ai-assistant-localization-and-cultural-sensitivity/  \n",
      "--Node--\n",
      "conduct_interview\n",
      "## Unlocking Global Markets: The Strategic Benefits of AI Translation and Localization\n",
      "\n",
      "### Summary\n",
      "\n",
      "In today's globalized economy, businesses are increasingly looking to expand their reach into international markets. A critical component of this expansion is the ability to communicate effectively with diverse audiences. AI translation and localization tools offer businesses the opportunity to streamline this process, making it more efficient and culturally relevant. While AI translation focuses on converting text from one language to another, AI localization goes a step further by adapting content to fit the cultural, social, and legal norms of the target market. This report explores the strategic benefits of these AI tools and how they can be leveraged to enhance global communication strategies.\n",
      "\n",
      "1. **AI Translation vs. AI Localization**: AI translation is primarily concerned with linguistic accuracy, converting text from one language to another efficiently. Tools like Neural Machine Translation can handle large volumes of text, facilitating quicker market entry [2]. However, AI localization involves a more comprehensive adaptation of content, including imagery and cultural references, to ensure it resonates with the local audience. This process is crucial for building deeper connections with customers and enhancing brand loyalty [1][2].\n",
      "\n",
      "2. **Efficiency and Cost-Effectiveness**: AI localization tools can automate and optimize various aspects of the localization process, such as reviewing machine-translated content for quality issues and refining translations to align with a brand's voice. This automation not only saves time but also reduces the need for extensive human intervention, making the process more cost-effective [1][3].\n",
      "\n",
      "3. **Case Study - E-commerce Expansion**: A mid-sized US e-commerce brand successfully used AI localization to enter multiple European markets. By adapting product descriptions, marketing campaigns, and customer support content quickly and affordably, the company accelerated its market entry and tested market viability at lower risk. The result was improved customer engagement and brand loyalty, demonstrating the tangible benefits of AI localization [4].\n",
      "\n",
      "4. **Strategic Advantages**: The use of AI localization tools provides a competitive advantage by making global outreach more feasible for businesses of all sizes. Even small and medium-sized companies can aim for international growth without facing prohibitive costs. This capability allows businesses to expand their market opportunities significantly [4].\n",
      "\n",
      "In conclusion, while AI translation is a critical step in the localization process, true localization efforts are necessary to fully adapt content for new markets. AI tools enhance both processes by improving efficiency, accuracy, and cultural relevance, ultimately enabling businesses to forge meaningful connections with global audiences.\n",
      "\n",
      "### Sources\n",
      "[1] https://phrase.com/blog/posts/ai-international-expansion-localization-efficiency/  \n",
      "[2] https://www.smartling.com/blog/ai-localization  \n",
      "[3] https://www.deepl.com/en/blog/ai-translation-improves-localization-strategies  \n",
      "[4] https://wolfestonegroup.com/insights/blogs/the-impact-of-ai-powered-localization-on-global-marketing-and-content-creation  \n",
      "--Node--\n",
      "conduct_interview\n",
      "## Investing in the Future of AI Translation and Localization\n",
      "\n",
      "### Summary\n",
      "\n",
      "The AI translation and localization market is rapidly evolving, driven by technological advancements that promise to revolutionize the language services industry. From an investor's perspective, the focus is on identifying emerging startups and technologies that offer high growth potential and significant impact. The integration of AI in translation and localization processes is not only enhancing efficiency and accuracy but also opening new avenues for monetization by reducing costs and improving customer satisfaction.\n",
      "\n",
      "One of the key distinctions in this field is between traditional machine translation and AI translation. Unlike machine translation, which relies on fixed rules and dictionaries, AI translation employs advanced algorithms such as neural networks. This allows AI translation tools to better understand context, meaning, and structure, resulting in more accurate and contextually relevant translations [1]. This adaptability makes AI translation a more attractive option for businesses looking to expand their global reach.\n",
      "\n",
      "AI agents are also playing a transformative role in the localization industry. These agents automate workflows, manage translation priorities, and ensure quality translations, significantly reducing manual workload and potential errors. They serve as Strategic Localization Advisors and Quality Management Partners, maintaining brand voice and adapting content contextually. This leads to faster market entry, reduced costs, and higher customer satisfaction [2]. The collaboration between AI and human linguists is crucial, as AI handles routine translations with speed and consistency, while humans focus on creative refinement for content requiring emotional resonance or cultural sensitivity [2].\n",
      "\n",
      "A particularly promising innovation is the multi-agent AI framework, which involves different AI agents working collaboratively to enhance the translation and localization process. This framework includes a Translation Agent for initial translation, an Interpretation Agent for embedding cultural nuances, and a Content Synthesis Agent for structuring the final text. This approach excels in handling complex cultural adaptations and maintaining high-quality translations that resonate with local audiences. By automating these processes, the framework reduces the need for extensive human intervention, lowering costs and speeding up time-to-market [3].\n",
      "\n",
      "These advancements not only improve the efficiency and accuracy of translation and localization but also present lucrative investment opportunities. The potential for high growth and impact in the language services industry makes these innovations particularly appealing to investors.\n",
      "\n",
      "### Sources\n",
      "[1] https://lokalise.com/blog/how-ai-translation-works/  \n",
      "[2] https://www.oneskyapp.com/blog/ai-agents-localization/  \n",
      "[3] https://slator.com/multi-agent-ai-framework-aims-to-improve-cultural-adaptation-in-ai-translation/  \n",
      "--Node--\n",
      "conduct_interview\n",
      "--Node--\n",
      "write_conclusion\n",
      "--Node--\n",
      "write_introduction\n",
      "--Node--\n",
      "write_report\n",
      "--Node--\n",
      "finalize_report\n"
     ]
    }
   ],
   "source": [
    "# Continue\n",
    "for event in graph.stream(None, thread, stream_mode=\"updates\"):\n",
    "    print(\"--Node--\")\n",
    "    node_name = next(iter(event.keys()))\n",
    "    print(node_name)"
   ]
  },
  {
   "cell_type": "code",
   "execution_count": 71,
   "id": "f8f66ad8-80fd-4eb2-96b6-6ae9dffd060c",
   "metadata": {},
   "outputs": [
    {
     "data": {
      "text/markdown": [
       "# AI Translation vs. AI Localization: Bridging Language and Culture\n",
       "\n",
       "## Introduction\n",
       "\n",
       "In the dynamic realm of artificial intelligence, the distinction between AI translation and AI localization is pivotal for businesses aiming to engage global audiences. This report delves into the nuances of these processes, highlighting AI translation's focus on linguistic accuracy and AI localization's emphasis on cultural relevance. We explore the strategic benefits of AI tools, such as enhanced efficiency and cost-effectiveness, and their role in avoiding cultural faux pas. Through real-world examples and insights from industry experts, we illustrate how AI-driven strategies can unlock new markets and foster meaningful connections across diverse cultural landscapes.\n",
       "\n",
       "---\n",
       "\n",
       "\n",
       "\n",
       "In the rapidly evolving landscape of artificial intelligence, the distinction between AI translation and AI localization is becoming increasingly significant. AI translation primarily focuses on converting text from one language to another with grammatical accuracy, leveraging advanced algorithms like neural networks to understand context, meaning, and structure [1]. This capability allows for swift and efficient translation processes, which are crucial in our globalized world. Tools integrated into translation management systems, such as XTM Cloud, enhance translation workflows by automating processes, thereby reducing costs and time to market without compromising quality [1].\n",
       "\n",
       "AI localization, however, extends beyond mere translation. It involves the cultural adaptation of content, ensuring that it resonates with the target audience by aligning with local customs and preferences. This process includes translating text and adapting images, symbols, and other cultural references to fit the local context, ensuring that the content is not only linguistically accurate but also culturally relevant [2][3]. AI localization tools integrate artificial intelligence into the entire localization process, helping to avoid cultural faux pas and ensuring cultural sensitivity [3][4].\n",
       "\n",
       "A novel aspect of AI in this domain is the use of AI tools as an agent framework. These tools automate workflows, manage translation priorities, and conduct quality assurance checks, delivering human-like translations that are accurate, on-brand, and context-specific. AI agents in localization can assume roles such as Strategic Localization Advisor, Real-Time Content Orchestrator, and Quality Management Partner. This multi-agent framework enhances efficiency, reduces costs, and accelerates market entry, while maintaining brand voice and ensuring contextual adaptation [2][3].\n",
       "\n",
       "Real-world examples, such as Amazon's expansion into non-English speaking countries, demonstrate the transformative potential of AI-powered localization. By employing advanced AI and machine learning tools, Amazon has successfully localized its vast product catalog, tailoring descriptions, customer reviews, and service communications to new regions. This strategy not only enhances customer experience but also fosters trust and engagement in new markets [4].\n",
       "\n",
       "The collaboration between AI and human linguists is crucial, as AI handles routine translations with speed and consistency, while humans focus on creative refinement for content requiring emotional resonance or cultural sensitivity [2][3]. This approach not only enhances the quality of localized content but also ensures its cultural relevance, making it a key element in the responsible integration of AI into the global market [1][2].\n",
       "\n",
       "In conclusion, while AI translation focuses on linguistic accuracy, AI localization encompasses a broader scope, ensuring cultural appropriateness and relevance in addition to linguistic correctness. The integration of AI tools enhances both processes, offering a cutting-edge solution for businesses seeking to expand globally. These advancements not only improve the efficiency and accuracy of translation and localization but also present lucrative investment opportunities, making global outreach more feasible for businesses of all sizes.\n",
       "\n",
       "\n",
       "---\n",
       "\n",
       "## Conclusion\n",
       "\n",
       "In the rapidly evolving landscape of artificial intelligence, the distinction between AI translation and AI localization is crucial for businesses aiming to engage effectively with global audiences. AI translation focuses on linguistic accuracy, converting text efficiently across languages, while AI localization ensures cultural relevance by adapting content to fit local norms and expectations. The integration of AI tools as an agent framework enhances both processes, automating workflows and ensuring quality. Real-world examples, such as Amazon's successful market expansions, highlight the transformative potential of AI localization. Ultimately, these advancements offer strategic benefits, enabling businesses to unlock global markets with efficiency and cultural sensitivity.\n",
       "\n",
       "## Sources\n",
       "[1] https://lokalise.com/blog/how-ai-translation-works/  \n",
       "[2] https://www.oneskyapp.com/blog/ai-agents-localization/  \n",
       "[3] https://bayan-tech.com/blog/ai-localization/  \n",
       "[4] https://medium.com/@jesse.henson/launching-products-in-new-markets-with-ai-powered-localization-73f07ab7f3b4"
      ],
      "text/plain": [
       "<IPython.core.display.Markdown object>"
      ]
     },
     "execution_count": 71,
     "metadata": {},
     "output_type": "execute_result"
    }
   ],
   "source": [
    "from IPython.display import Markdown\n",
    "final_state = graph.get_state(thread)\n",
    "report = final_state.values.get('final_report')\n",
    "Markdown(report)"
   ]
  },
  {
   "cell_type": "markdown",
   "id": "e9bf8edd-fb42-496c-9bdb-3f5d7b4d79d3",
   "metadata": {},
   "source": [
    "We can look at the trace:\n",
    "\n",
    "https://smith.langchain.com/public/2933a7bb-bcef-4d2d-9b85-cc735b22ca0c/r"
   ]
  },
  {
   "cell_type": "code",
   "execution_count": null,
   "id": "808bd094",
   "metadata": {},
   "outputs": [],
   "source": []
  }
 ],
 "metadata": {
  "kernelspec": {
   "display_name": "Python 3 (ipykernel)",
   "language": "python",
   "name": "python3"
  },
  "language_info": {
   "codemirror_mode": {
    "name": "ipython",
    "version": 3
   },
   "file_extension": ".py",
   "mimetype": "text/x-python",
   "name": "python",
   "nbconvert_exporter": "python",
   "pygments_lexer": "ipython3",
   "version": "3.11.12"
  }
 },
 "nbformat": 4,
 "nbformat_minor": 5
}
